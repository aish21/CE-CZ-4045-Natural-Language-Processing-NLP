{
 "cells": [
  {
   "cell_type": "raw",
   "metadata": {
    "_cell_guid": "b1076dfc-b9ad-4769-8c92-a6c4dae69d19",
    "_uuid": "8f2839f25d086af736a60e9eeb907d3b93b6e0e5"
   },
   "source": [
    "# This Python 3 environment comes with many helpful analytics libraries installed\n",
    "# It is defined by the kaggle/python Docker image: https://github.com/kaggle/docker-python\n",
    "# For example, here's several helpful packages to load\n",
    "\n",
    "import numpy as np # linear algebra\n",
    "import pandas as pd # data processing, CSV file I/O (e.g. pd.read_csv)\n",
    "\n",
    "# Input data files are available in the read-only \"../input/\" directory\n",
    "# For example, running this (by clicking run or pressing Shift+Enter) will list all files under the input directory\n",
    "\n",
    "import os\n",
    "for dirname, _, filenames in os.walk('/kaggle/input'):\n",
    "    for filename in filenames:\n",
    "        print(os.path.join(dirname, filename))\n",
    "\n",
    "# You can write up to 20GB to the current directory (/kaggle/working/) that gets preserved as output when you create a version using \"Save & Run All\" \n",
    "# You can also write temporary files to /kaggle/temp/, but they won't be saved outside of the current session"
   ]
  },
  {
   "cell_type": "code",
   "execution_count": null,
   "metadata": {
    "execution": {
     "iopub.execute_input": "2022-10-18T12:13:39.955706Z",
     "iopub.status.busy": "2022-10-18T12:13:39.955359Z",
     "iopub.status.idle": "2022-10-18T12:13:40.023649Z",
     "shell.execute_reply": "2022-10-18T12:13:40.022760Z",
     "shell.execute_reply.started": "2022-10-18T12:13:39.955673Z"
    }
   },
   "outputs": [],
   "source": [
    "import nltk\n",
    "import pandas as pd\n",
    "from nltk.corpus import stopwords\n",
    "from keras.models import Sequential\n",
    "from keras.preprocessing.text import Tokenizer\n",
    "from keras.preprocessing.sequence import pad_sequences\n",
    "from keras.layers import Dense, Embedding, LSTM, SpatialDropout1D, Conv1D, MaxPooling1D, MaxPooling1D, GlobalMaxPooling1D\n",
    "from sklearn.model_selection import train_test_split \n",
    "import matplotlib.pyplot as plt\n",
    "import re\n",
    "from nltk.tokenize import word_tokenize\n",
    "from nltk.corpus import stopwords\n",
    "import tensorflow as tf\n",
    "import numpy as np\n",
    "nltk.download('punkt')\n",
    "nltk.download('wordnet')\n",
    "nltk.download('stopwords')\n",
    "import chardet\n",
    "from keras.layers import Dense, Embedding, LSTM, Dropout, Bidirectional\n",
    "from keras.constraints import maxnorm\n",
    "from tensorflow.keras.optimizers import Adamax \n",
    "from keras import regularizers\n",
    "nltk.download('omw-1.4')"
   ]
  },
  {
   "cell_type": "code",
   "execution_count": null,
   "metadata": {
    "execution": {
     "iopub.execute_input": "2022-10-18T12:07:12.348725Z",
     "iopub.status.busy": "2022-10-18T12:07:12.348334Z",
     "iopub.status.idle": "2022-10-18T12:09:56.380814Z",
     "shell.execute_reply": "2022-10-18T12:09:56.379623Z",
     "shell.execute_reply.started": "2022-10-18T12:07:12.348673Z"
    }
   },
   "outputs": [],
   "source": [
    "with open('../input/nlp-data/nlp_vader_textblob_classified_data.csv', 'rb') as f:\n",
    "    enc = chardet.detect(f.read())  # or readline if the file is large\n",
    "    \n",
    "tweetData = pd.read_csv('../input/nlp-data/nlp_vader_textblob_classified_data.csv', encoding = enc['encoding'], index_col=False)\n",
    "tweetData"
   ]
  },
  {
   "cell_type": "code",
   "execution_count": null,
   "metadata": {
    "execution": {
     "iopub.execute_input": "2022-10-18T13:16:59.055990Z",
     "iopub.status.busy": "2022-10-18T13:16:59.055588Z",
     "iopub.status.idle": "2022-10-18T13:17:40.204790Z",
     "shell.execute_reply": "2022-10-18T13:17:40.203757Z",
     "shell.execute_reply.started": "2022-10-18T13:16:59.055956Z"
    }
   },
   "outputs": [],
   "source": [
    "labels = tweetData['final_class']\n",
    "def featureEngineering(tweet):\n",
    "    # Lower case tweet\n",
    "    tweetMod = tweet.lower()\n",
    "    # Replace URLs with a space in the message\n",
    "    tweetMod = re.sub('https?:\\/\\/[a-zA-Z0-9@:%._\\/+~#=?&;-]*', ' ', tweetMod)\n",
    "    # Replace ticker symbols with a space. The ticker symbols are any stock symbol that starts with $.\n",
    "    tweetMod = re.sub('\\$[a-zA-Z0-9]*', ' ', tweetMod)\n",
    "    # Replace StockTwits usernames with a space. The usernames are any word that starts with @.\n",
    "    tweetMod = re.sub('\\@[a-zA-Z0-9]*', ' ', tweetMod)\n",
    "    # Replace everything not a letter or apostrophe with a space\n",
    "    tweetMod = re.sub('[^a-zA-Z\\']', ' ', tweetMod)\n",
    "    # Remove single letter words\n",
    "    tweetMod = ' '.join([w for w in tweetMod.split() if len(w) > 1])\n",
    "\n",
    "    return tweetMod\n",
    "\n",
    "\n",
    "# Process for all tweets\n",
    "tweetData['modTweet'] = [featureEngineering(tweet) for tweet in tweetData['content']]\n",
    "\n",
    "def lemmatizeTweet(tweet):\n",
    "    words = [word for word in word_tokenize(tweet) if (word.isalpha()==1)]\n",
    "    # Remove stop words\n",
    "    stop = set(stopwords.words('english'))\n",
    "    words = [word for word in words if (word not in stop)]\n",
    "    # Lemmatize words (first noun, then verb)\n",
    "    wnl = nltk.stem.WordNetLemmatizer()\n",
    "    lemmatized = [wnl.lemmatize(wnl.lemmatize(word, 'n'), 'v') for word in words]\n",
    "    return \" \".join(lemmatized)\n",
    "\n",
    "tweetData['lemmatizedText'] = tweetData[\"modTweet\"].apply(lambda x:lemmatizeTweet(x))"
   ]
  },
  {
   "cell_type": "code",
   "execution_count": null,
   "metadata": {
    "execution": {
     "iopub.execute_input": "2022-10-18T13:17:40.207034Z",
     "iopub.status.busy": "2022-10-18T13:17:40.206650Z",
     "iopub.status.idle": "2022-10-18T13:17:44.668026Z",
     "shell.execute_reply": "2022-10-18T13:17:44.667023Z",
     "shell.execute_reply.started": "2022-10-18T13:17:40.206993Z"
    }
   },
   "outputs": [],
   "source": [
    "labels = tf.keras.utils.to_categorical(labels, 3, dtype=\"float32\")\n",
    "tokenizer = Tokenizer(num_words=37320, split=' ')\n",
    "tokenizer.fit_on_texts(tweetData['lemmatizedText'].values)\n",
    "X = tokenizer.texts_to_sequences(tweetData['lemmatizedText'].values)\n",
    "X = pad_sequences(X)\n",
    "\n",
    "X_train, X_test, Y_train, Y_test = train_test_split(X, labels, test_size=0.3, random_state=42)"
   ]
  },
  {
   "cell_type": "code",
   "execution_count": null,
   "metadata": {
    "execution": {
     "iopub.execute_input": "2022-10-18T13:17:44.670075Z",
     "iopub.status.busy": "2022-10-18T13:17:44.669696Z",
     "iopub.status.idle": "2022-10-18T13:17:44.677772Z",
     "shell.execute_reply": "2022-10-18T13:17:44.676861Z",
     "shell.execute_reply.started": "2022-10-18T13:17:44.670039Z"
    }
   },
   "outputs": [],
   "source": [
    "print(X_train.shape,Y_train.shape)\n",
    "print(X_test.shape,Y_test.shape)"
   ]
  },
  {
   "cell_type": "code",
   "execution_count": null,
   "metadata": {
    "execution": {
     "iopub.execute_input": "2022-10-18T13:17:44.681379Z",
     "iopub.status.busy": "2022-10-18T13:17:44.681018Z",
     "iopub.status.idle": "2022-10-18T13:17:45.594773Z",
     "shell.execute_reply": "2022-10-18T13:17:45.593713Z",
     "shell.execute_reply.started": "2022-10-18T13:17:44.681343Z"
    }
   },
   "outputs": [],
   "source": [
    "model_dropout = Sequential()\n",
    "model_dropout.add(Embedding(input_dim=37320, output_dim=40, input_length=X.shape[1]))\n",
    "model_dropout.add(Dropout(0.5))\n",
    "model_dropout.add(Bidirectional(LSTM(units=256, return_sequences=True, kernel_initializer='he_uniform')))\n",
    "model_dropout.add(Dropout(0.5))\n",
    "model_dropout.add(Bidirectional(LSTM(units=128, return_sequences=False, kernel_initializer='he_uniform')))\n",
    "model_dropout.add(Dense(3, activation='softmax'))\n",
    "optimizer = Adamax(lr = 0.01)\n",
    "model_dropout.compile(loss='categorical_crossentropy', optimizer=optimizer, metrics=['categorical_accuracy'])\n",
    "print(model_dropout.summary())"
   ]
  },
  {
   "cell_type": "code",
   "execution_count": null,
   "metadata": {
    "execution": {
     "iopub.execute_input": "2022-10-18T13:17:45.597116Z",
     "iopub.status.busy": "2022-10-18T13:17:45.596440Z",
     "iopub.status.idle": "2022-10-18T13:20:39.174345Z",
     "shell.execute_reply": "2022-10-18T13:20:39.173385Z",
     "shell.execute_reply.started": "2022-10-18T13:17:45.597078Z"
    }
   },
   "outputs": [],
   "source": [
    "history = model_dropout.fit(X_train, Y_train, epochs = 20, batch_size=512, validation_data=(X_test, Y_test))"
   ]
  },
  {
   "cell_type": "code",
   "execution_count": null,
   "metadata": {
    "execution": {
     "iopub.execute_input": "2022-10-18T13:20:39.178642Z",
     "iopub.status.busy": "2022-10-18T13:20:39.177792Z",
     "iopub.status.idle": "2022-10-18T13:20:39.432640Z",
     "shell.execute_reply": "2022-10-18T13:20:39.431709Z",
     "shell.execute_reply.started": "2022-10-18T13:20:39.178602Z"
    }
   },
   "outputs": [],
   "source": [
    "# Plotting the accuracies\n",
    "plt.plot(history.history['categorical_accuracy'])\n",
    "plt.plot(history.history['val_categorical_accuracy'])\n",
    "plt.ylabel('Accuracy')\n",
    "plt.xlabel('Epochs')\n",
    "plt.legend(['train', 'test'], loc='upper left')\n",
    "plt.savefig('./overall_acc.png')"
   ]
  },
  {
   "cell_type": "code",
   "execution_count": null,
   "metadata": {
    "execution": {
     "iopub.execute_input": "2022-10-18T13:20:39.434624Z",
     "iopub.status.busy": "2022-10-18T13:20:39.434275Z",
     "iopub.status.idle": "2022-10-18T13:20:39.688658Z",
     "shell.execute_reply": "2022-10-18T13:20:39.687745Z",
     "shell.execute_reply.started": "2022-10-18T13:20:39.434587Z"
    }
   },
   "outputs": [],
   "source": [
    "# Plotting the losses\n",
    "plt.plot(history.history['loss'])\n",
    "plt.plot(history.history['val_loss'])\n",
    "plt.ylabel('Loss')\n",
    "plt.xlabel('Epochs')\n",
    "plt.legend(['train', 'test'], loc='upper left')\n",
    "plt.savefig('./overall_loss.png')"
   ]
  },
  {
   "cell_type": "code",
   "execution_count": null,
   "metadata": {
    "execution": {
     "iopub.execute_input": "2022-10-18T13:20:39.690553Z",
     "iopub.status.busy": "2022-10-18T13:20:39.689915Z",
     "iopub.status.idle": "2022-10-18T13:21:00.232384Z",
     "shell.execute_reply": "2022-10-18T13:21:00.231011Z",
     "shell.execute_reply.started": "2022-10-18T13:20:39.690523Z"
    }
   },
   "outputs": [],
   "source": [
    "model_dropout.save('./overall')\n",
    "model_dropout.save('./overall.h5')"
   ]
  },
  {
   "cell_type": "code",
   "execution_count": null,
   "metadata": {
    "execution": {
     "iopub.execute_input": "2022-10-18T13:21:00.236669Z",
     "iopub.status.busy": "2022-10-18T13:21:00.235761Z",
     "iopub.status.idle": "2022-10-18T13:21:00.347976Z",
     "shell.execute_reply": "2022-10-18T13:21:00.347014Z",
     "shell.execute_reply.started": "2022-10-18T13:21:00.236628Z"
    }
   },
   "outputs": [],
   "source": [
    "manuData = tweetData.loc[tweetData['primaryTeam'] == 'Manchester United']\n",
    "mancData = tweetData.loc[tweetData['primaryTeam'] == 'ManCity']\n",
    "chelseaData = tweetData.loc[tweetData['primaryTeam'] == 'Chelsea']\n",
    "arsenalData = tweetData.loc[tweetData['primaryTeam'] == 'Arsenal']\n",
    "liverpoolData = tweetData.loc[tweetData['primaryTeam'] == 'Liverpool']\n",
    "totData = tweetData.loc[tweetData['primaryTeam'] == 'Tottenham']"
   ]
  },
  {
   "cell_type": "markdown",
   "metadata": {},
   "source": [
    "# **Manchester United**"
   ]
  },
  {
   "cell_type": "code",
   "execution_count": null,
   "metadata": {
    "execution": {
     "iopub.execute_input": "2022-10-18T13:21:00.352527Z",
     "iopub.status.busy": "2022-10-18T13:21:00.352238Z",
     "iopub.status.idle": "2022-10-18T13:21:00.398793Z",
     "shell.execute_reply": "2022-10-18T13:21:00.397892Z",
     "shell.execute_reply.started": "2022-10-18T13:21:00.352500Z"
    }
   },
   "outputs": [],
   "source": [
    "manuData"
   ]
  },
  {
   "cell_type": "code",
   "execution_count": null,
   "metadata": {
    "execution": {
     "iopub.execute_input": "2022-10-18T13:21:00.400842Z",
     "iopub.status.busy": "2022-10-18T13:21:00.400195Z",
     "iopub.status.idle": "2022-10-18T13:21:07.489592Z",
     "shell.execute_reply": "2022-10-18T13:21:07.488089Z",
     "shell.execute_reply.started": "2022-10-18T13:21:00.400787Z"
    }
   },
   "outputs": [],
   "source": [
    "labels = manuData['final_class']\n",
    "def featureEngineering(tweet):\n",
    "    # Lower case tweet\n",
    "    tweetMod = tweet.lower()\n",
    "    # Replace URLs with a space in the message\n",
    "    tweetMod = re.sub('https?:\\/\\/[a-zA-Z0-9@:%._\\/+~#=?&;-]*', ' ', tweetMod)\n",
    "    # Replace ticker symbols with a space. The ticker symbols are any stock symbol that starts with $.\n",
    "    tweetMod = re.sub('\\$[a-zA-Z0-9]*', ' ', tweetMod)\n",
    "    # Replace StockTwits usernames with a space. The usernames are any word that starts with @.\n",
    "    tweetMod = re.sub('\\@[a-zA-Z0-9]*', ' ', tweetMod)\n",
    "    # Replace everything not a letter or apostrophe with a space\n",
    "    tweetMod = re.sub('[^a-zA-Z\\']', ' ', tweetMod)\n",
    "    # Remove single letter words\n",
    "    tweetMod = ' '.join([w for w in tweetMod.split() if len(w) > 1])\n",
    "\n",
    "    return tweetMod\n",
    "\n",
    "\n",
    "# Process for all tweets\n",
    "manuData['modTweet'] = [featureEngineering(tweet) for tweet in manuData['content']]\n",
    "\n",
    "def lemmatizeTweet(tweet):\n",
    "    words = [word for word in word_tokenize(tweet) if (word.isalpha()==1)]\n",
    "    # Remove stop words\n",
    "    stop = set(stopwords.words('english'))\n",
    "    words = [word for word in words if (word not in stop)]\n",
    "    # Lemmatize words (first noun, then verb)\n",
    "    wnl = nltk.stem.WordNetLemmatizer()\n",
    "    lemmatized = [wnl.lemmatize(wnl.lemmatize(word, 'n'), 'v') for word in words]\n",
    "    return \" \".join(lemmatized)\n",
    "\n",
    "manuData['lemmatizedText'] = manuData[\"modTweet\"].apply(lambda x:lemmatizeTweet(x))"
   ]
  },
  {
   "cell_type": "code",
   "execution_count": null,
   "metadata": {
    "execution": {
     "iopub.execute_input": "2022-10-18T13:21:07.491701Z",
     "iopub.status.busy": "2022-10-18T13:21:07.491301Z",
     "iopub.status.idle": "2022-10-18T13:21:08.042142Z",
     "shell.execute_reply": "2022-10-18T13:21:08.041183Z",
     "shell.execute_reply.started": "2022-10-18T13:21:07.491660Z"
    }
   },
   "outputs": [],
   "source": [
    "labels = tf.keras.utils.to_categorical(labels, 3, dtype=\"float32\")\n",
    "tokenizer = Tokenizer(num_words=37320, split=' ')\n",
    "tokenizer.fit_on_texts(manuData['lemmatizedText'].values)\n",
    "X = tokenizer.texts_to_sequences(manuData['lemmatizedText'].values)\n",
    "X = pad_sequences(X)\n",
    "\n",
    "X_train, X_test, Y_train, Y_test = train_test_split(X, labels, test_size=0.3, random_state=42)"
   ]
  },
  {
   "cell_type": "code",
   "execution_count": null,
   "metadata": {
    "execution": {
     "iopub.execute_input": "2022-10-18T13:21:08.044140Z",
     "iopub.status.busy": "2022-10-18T13:21:08.043733Z",
     "iopub.status.idle": "2022-10-18T13:21:08.050357Z",
     "shell.execute_reply": "2022-10-18T13:21:08.049229Z",
     "shell.execute_reply.started": "2022-10-18T13:21:08.044101Z"
    }
   },
   "outputs": [],
   "source": [
    "print(X_train.shape,Y_train.shape)\n",
    "print(X_test.shape,Y_test.shape)"
   ]
  },
  {
   "cell_type": "code",
   "execution_count": null,
   "metadata": {
    "execution": {
     "iopub.execute_input": "2022-10-18T13:21:08.052335Z",
     "iopub.status.busy": "2022-10-18T13:21:08.051983Z",
     "iopub.status.idle": "2022-10-18T13:21:08.918435Z",
     "shell.execute_reply": "2022-10-18T13:21:08.917404Z",
     "shell.execute_reply.started": "2022-10-18T13:21:08.052299Z"
    }
   },
   "outputs": [],
   "source": [
    "model_dropout = Sequential()\n",
    "model_dropout.add(Embedding(input_dim=37320, output_dim=40, input_length=X.shape[1]))\n",
    "model_dropout.add(Dropout(0.5))\n",
    "model_dropout.add(Bidirectional(LSTM(units=256, return_sequences=True, kernel_initializer='he_uniform')))\n",
    "model_dropout.add(Dropout(0.5))\n",
    "model_dropout.add(Bidirectional(LSTM(units=128, return_sequences=False, kernel_initializer='he_uniform')))\n",
    "model_dropout.add(Dense(3, activation='softmax'))\n",
    "optimizer = Adamax(lr = 0.01)\n",
    "model_dropout.compile(loss='categorical_crossentropy', optimizer=optimizer, metrics=['categorical_accuracy'])\n",
    "print(model_dropout.summary())"
   ]
  },
  {
   "cell_type": "code",
   "execution_count": null,
   "metadata": {
    "execution": {
     "iopub.execute_input": "2022-10-18T13:21:08.920706Z",
     "iopub.status.busy": "2022-10-18T13:21:08.920075Z",
     "iopub.status.idle": "2022-10-18T13:21:44.518429Z",
     "shell.execute_reply": "2022-10-18T13:21:44.517469Z",
     "shell.execute_reply.started": "2022-10-18T13:21:08.920668Z"
    }
   },
   "outputs": [],
   "source": [
    "history = model_dropout.fit(X_train, Y_train, epochs = 20, batch_size=512, validation_data=(X_test, Y_test))"
   ]
  },
  {
   "cell_type": "code",
   "execution_count": null,
   "metadata": {
    "execution": {
     "iopub.execute_input": "2022-10-18T13:21:44.521396Z",
     "iopub.status.busy": "2022-10-18T13:21:44.520921Z",
     "iopub.status.idle": "2022-10-18T13:21:44.769752Z",
     "shell.execute_reply": "2022-10-18T13:21:44.768832Z",
     "shell.execute_reply.started": "2022-10-18T13:21:44.521359Z"
    }
   },
   "outputs": [],
   "source": [
    "# Plotting the accuracies\n",
    "plt.plot(history.history['categorical_accuracy'])\n",
    "plt.plot(history.history['val_categorical_accuracy'])\n",
    "plt.ylabel('Accuracy')\n",
    "plt.xlabel('Epochs')\n",
    "plt.legend(['train', 'test'], loc='upper left')\n",
    "plt.savefig('./manu_acc.png')"
   ]
  },
  {
   "cell_type": "code",
   "execution_count": null,
   "metadata": {
    "execution": {
     "iopub.execute_input": "2022-10-18T13:21:44.771789Z",
     "iopub.status.busy": "2022-10-18T13:21:44.771416Z",
     "iopub.status.idle": "2022-10-18T13:21:45.014771Z",
     "shell.execute_reply": "2022-10-18T13:21:45.013785Z",
     "shell.execute_reply.started": "2022-10-18T13:21:44.771751Z"
    }
   },
   "outputs": [],
   "source": [
    "# Plotting the losses\n",
    "plt.plot(history.history['loss'])\n",
    "plt.plot(history.history['val_loss'])\n",
    "plt.ylabel('Loss')\n",
    "plt.xlabel('Epochs')\n",
    "plt.legend(['train', 'test'], loc='upper left')\n",
    "plt.savefig('./manu_loss.png')"
   ]
  },
  {
   "cell_type": "code",
   "execution_count": null,
   "metadata": {
    "execution": {
     "iopub.execute_input": "2022-10-18T13:21:45.016683Z",
     "iopub.status.busy": "2022-10-18T13:21:45.016325Z",
     "iopub.status.idle": "2022-10-18T13:22:05.969176Z",
     "shell.execute_reply": "2022-10-18T13:22:05.967658Z",
     "shell.execute_reply.started": "2022-10-18T13:21:45.016646Z"
    }
   },
   "outputs": [],
   "source": [
    "model_dropout.save('./manU')\n",
    "model_dropout.save('./manU.h5')"
   ]
  },
  {
   "cell_type": "markdown",
   "metadata": {},
   "source": [
    "# **Manchester City**"
   ]
  },
  {
   "cell_type": "code",
   "execution_count": null,
   "metadata": {
    "execution": {
     "iopub.execute_input": "2022-10-18T13:22:05.971564Z",
     "iopub.status.busy": "2022-10-18T13:22:05.970792Z",
     "iopub.status.idle": "2022-10-18T13:22:06.027763Z",
     "shell.execute_reply": "2022-10-18T13:22:06.026808Z",
     "shell.execute_reply.started": "2022-10-18T13:22:05.971507Z"
    }
   },
   "outputs": [],
   "source": [
    "mancData"
   ]
  },
  {
   "cell_type": "code",
   "execution_count": null,
   "metadata": {
    "execution": {
     "iopub.execute_input": "2022-10-18T13:22:06.030049Z",
     "iopub.status.busy": "2022-10-18T13:22:06.029383Z",
     "iopub.status.idle": "2022-10-18T13:22:16.085918Z",
     "shell.execute_reply": "2022-10-18T13:22:16.084886Z",
     "shell.execute_reply.started": "2022-10-18T13:22:06.030004Z"
    }
   },
   "outputs": [],
   "source": [
    "labels = mancData['final_class']\n",
    "mancData['modTweet'] = [featureEngineering(tweet) for tweet in mancData['content']]\n",
    "mancData['lemmatizedText'] = mancData[\"modTweet\"].apply(lambda x:lemmatizeTweet(x))"
   ]
  },
  {
   "cell_type": "code",
   "execution_count": null,
   "metadata": {
    "execution": {
     "iopub.execute_input": "2022-10-18T13:22:16.088009Z",
     "iopub.status.busy": "2022-10-18T13:22:16.087397Z",
     "iopub.status.idle": "2022-10-18T13:22:17.007844Z",
     "shell.execute_reply": "2022-10-18T13:22:17.006853Z",
     "shell.execute_reply.started": "2022-10-18T13:22:16.087972Z"
    }
   },
   "outputs": [],
   "source": [
    "labels = tf.keras.utils.to_categorical(labels, 3, dtype=\"float32\")\n",
    "tokenizer = Tokenizer(num_words=37320, split=' ')\n",
    "tokenizer.fit_on_texts(mancData['lemmatizedText'].values)\n",
    "X = tokenizer.texts_to_sequences(mancData['lemmatizedText'].values)\n",
    "X = pad_sequences(X)\n",
    "\n",
    "X_train, X_test, Y_train, Y_test = train_test_split(X, labels, test_size=0.3, random_state=42)"
   ]
  },
  {
   "cell_type": "code",
   "execution_count": null,
   "metadata": {
    "execution": {
     "iopub.execute_input": "2022-10-18T13:22:17.009684Z",
     "iopub.status.busy": "2022-10-18T13:22:17.009333Z",
     "iopub.status.idle": "2022-10-18T13:22:17.015390Z",
     "shell.execute_reply": "2022-10-18T13:22:17.014446Z",
     "shell.execute_reply.started": "2022-10-18T13:22:17.009646Z"
    }
   },
   "outputs": [],
   "source": [
    "print(X_train.shape,Y_train.shape)\n",
    "print(X_test.shape,Y_test.shape)"
   ]
  },
  {
   "cell_type": "code",
   "execution_count": null,
   "metadata": {
    "execution": {
     "iopub.execute_input": "2022-10-18T13:22:17.017451Z",
     "iopub.status.busy": "2022-10-18T13:22:17.016877Z",
     "iopub.status.idle": "2022-10-18T13:22:17.858218Z",
     "shell.execute_reply": "2022-10-18T13:22:17.857228Z",
     "shell.execute_reply.started": "2022-10-18T13:22:17.017415Z"
    }
   },
   "outputs": [],
   "source": [
    "model_dropout = Sequential()\n",
    "model_dropout.add(Embedding(input_dim=37320, output_dim=40, input_length=X.shape[1]))\n",
    "model_dropout.add(Dropout(0.5))\n",
    "model_dropout.add(Bidirectional(LSTM(units=256, return_sequences=True, kernel_initializer='he_uniform')))\n",
    "model_dropout.add(Dropout(0.5))\n",
    "model_dropout.add(Bidirectional(LSTM(units=128, return_sequences=False, kernel_initializer='he_uniform')))\n",
    "model_dropout.add(Dense(3, activation='softmax'))\n",
    "optimizer = Adamax(lr = 0.01)\n",
    "model_dropout.compile(loss='categorical_crossentropy', optimizer=optimizer, metrics=['categorical_accuracy'])\n",
    "print(model_dropout.summary())"
   ]
  },
  {
   "cell_type": "code",
   "execution_count": null,
   "metadata": {
    "execution": {
     "iopub.execute_input": "2022-10-18T13:22:17.860557Z",
     "iopub.status.busy": "2022-10-18T13:22:17.859900Z",
     "iopub.status.idle": "2022-10-18T13:23:08.026886Z",
     "shell.execute_reply": "2022-10-18T13:23:08.025975Z",
     "shell.execute_reply.started": "2022-10-18T13:22:17.860520Z"
    }
   },
   "outputs": [],
   "source": [
    "history = model_dropout.fit(X_train, Y_train, epochs = 20, batch_size=512, validation_data=(X_test, Y_test))"
   ]
  },
  {
   "cell_type": "code",
   "execution_count": null,
   "metadata": {
    "execution": {
     "iopub.execute_input": "2022-10-18T13:23:08.029234Z",
     "iopub.status.busy": "2022-10-18T13:23:08.028812Z",
     "iopub.status.idle": "2022-10-18T13:23:08.270682Z",
     "shell.execute_reply": "2022-10-18T13:23:08.269751Z",
     "shell.execute_reply.started": "2022-10-18T13:23:08.029194Z"
    }
   },
   "outputs": [],
   "source": [
    "# Plotting the accuracies\n",
    "plt.plot(history.history['categorical_accuracy'])\n",
    "plt.plot(history.history['val_categorical_accuracy'])\n",
    "plt.ylabel('Accuracy')\n",
    "plt.xlabel('Epochs')\n",
    "plt.legend(['train', 'test'], loc='upper left')\n",
    "plt.savefig('./manc_acc.png')"
   ]
  },
  {
   "cell_type": "code",
   "execution_count": null,
   "metadata": {
    "execution": {
     "iopub.execute_input": "2022-10-18T13:23:08.272445Z",
     "iopub.status.busy": "2022-10-18T13:23:08.272145Z",
     "iopub.status.idle": "2022-10-18T13:23:08.517651Z",
     "shell.execute_reply": "2022-10-18T13:23:08.516754Z",
     "shell.execute_reply.started": "2022-10-18T13:23:08.272418Z"
    }
   },
   "outputs": [],
   "source": [
    "# Plotting the losses\n",
    "plt.plot(history.history['loss'])\n",
    "plt.plot(history.history['val_loss'])\n",
    "plt.ylabel('Loss')\n",
    "plt.xlabel('Epochs')\n",
    "plt.legend(['train', 'test'], loc='upper left')\n",
    "plt.savefig('./manc_loss.png')"
   ]
  },
  {
   "cell_type": "code",
   "execution_count": null,
   "metadata": {
    "execution": {
     "iopub.execute_input": "2022-10-18T13:23:08.519401Z",
     "iopub.status.busy": "2022-10-18T13:23:08.519093Z",
     "iopub.status.idle": "2022-10-18T13:23:29.721449Z",
     "shell.execute_reply": "2022-10-18T13:23:29.720027Z",
     "shell.execute_reply.started": "2022-10-18T13:23:08.519374Z"
    }
   },
   "outputs": [],
   "source": [
    "model_dropout.save('./manC')\n",
    "model_dropout.save('./manC.h5')"
   ]
  },
  {
   "cell_type": "markdown",
   "metadata": {},
   "source": [
    "# **Arsenal**"
   ]
  },
  {
   "cell_type": "code",
   "execution_count": null,
   "metadata": {
    "execution": {
     "iopub.execute_input": "2022-10-18T13:23:29.729875Z",
     "iopub.status.busy": "2022-10-18T13:23:29.729255Z",
     "iopub.status.idle": "2022-10-18T13:23:29.773949Z",
     "shell.execute_reply": "2022-10-18T13:23:29.771875Z",
     "shell.execute_reply.started": "2022-10-18T13:23:29.729813Z"
    }
   },
   "outputs": [],
   "source": [
    "arsenalData"
   ]
  },
  {
   "cell_type": "code",
   "execution_count": null,
   "metadata": {
    "execution": {
     "iopub.execute_input": "2022-10-18T13:23:29.776250Z",
     "iopub.status.busy": "2022-10-18T13:23:29.775309Z",
     "iopub.status.idle": "2022-10-18T13:23:35.756184Z",
     "shell.execute_reply": "2022-10-18T13:23:35.754031Z",
     "shell.execute_reply.started": "2022-10-18T13:23:29.776193Z"
    }
   },
   "outputs": [],
   "source": [
    "labels = arsenalData['final_class']\n",
    "arsenalData['modTweet'] = [featureEngineering(tweet) for tweet in arsenalData['content']]\n",
    "arsenalData['lemmatizedText'] = arsenalData[\"modTweet\"].apply(lambda x:lemmatizeTweet(x))"
   ]
  },
  {
   "cell_type": "code",
   "execution_count": null,
   "metadata": {
    "execution": {
     "iopub.execute_input": "2022-10-18T13:23:35.758136Z",
     "iopub.status.busy": "2022-10-18T13:23:35.757733Z",
     "iopub.status.idle": "2022-10-18T13:23:36.201125Z",
     "shell.execute_reply": "2022-10-18T13:23:36.200160Z",
     "shell.execute_reply.started": "2022-10-18T13:23:35.758096Z"
    }
   },
   "outputs": [],
   "source": [
    "labels = tf.keras.utils.to_categorical(labels, 3, dtype=\"float32\")\n",
    "tokenizer = Tokenizer(num_words=37320, split=' ')\n",
    "tokenizer.fit_on_texts(arsenalData['lemmatizedText'].values)\n",
    "X = tokenizer.texts_to_sequences(arsenalData['lemmatizedText'].values)\n",
    "X = pad_sequences(X)\n",
    "\n",
    "X_train, X_test, Y_train, Y_test = train_test_split(X, labels, test_size=0.3, random_state=42)"
   ]
  },
  {
   "cell_type": "code",
   "execution_count": null,
   "metadata": {
    "execution": {
     "iopub.execute_input": "2022-10-18T13:23:36.203399Z",
     "iopub.status.busy": "2022-10-18T13:23:36.202398Z",
     "iopub.status.idle": "2022-10-18T13:23:36.208868Z",
     "shell.execute_reply": "2022-10-18T13:23:36.207882Z",
     "shell.execute_reply.started": "2022-10-18T13:23:36.203361Z"
    }
   },
   "outputs": [],
   "source": [
    "print(X_train.shape,Y_train.shape)\n",
    "print(X_test.shape,Y_test.shape)"
   ]
  },
  {
   "cell_type": "code",
   "execution_count": null,
   "metadata": {
    "execution": {
     "iopub.execute_input": "2022-10-18T13:23:36.211026Z",
     "iopub.status.busy": "2022-10-18T13:23:36.210080Z",
     "iopub.status.idle": "2022-10-18T13:23:37.052660Z",
     "shell.execute_reply": "2022-10-18T13:23:37.051683Z",
     "shell.execute_reply.started": "2022-10-18T13:23:36.210991Z"
    }
   },
   "outputs": [],
   "source": [
    "model_dropout = Sequential()\n",
    "model_dropout.add(Embedding(input_dim=37320, output_dim=40, input_length=X.shape[1]))\n",
    "model_dropout.add(Dropout(0.5))\n",
    "model_dropout.add(Bidirectional(LSTM(units=256, return_sequences=True, kernel_initializer='he_uniform')))\n",
    "model_dropout.add(Dropout(0.5))\n",
    "model_dropout.add(Bidirectional(LSTM(units=128, return_sequences=False, kernel_initializer='he_uniform')))\n",
    "model_dropout.add(Dense(3, activation='softmax'))\n",
    "optimizer = Adamax(lr = 0.01)\n",
    "model_dropout.compile(loss='categorical_crossentropy', optimizer=optimizer, metrics=['categorical_accuracy'])\n",
    "print(model_dropout.summary())"
   ]
  },
  {
   "cell_type": "code",
   "execution_count": null,
   "metadata": {
    "execution": {
     "iopub.execute_input": "2022-10-18T13:23:37.056084Z",
     "iopub.status.busy": "2022-10-18T13:23:37.054154Z",
     "iopub.status.idle": "2022-10-18T13:24:08.920670Z",
     "shell.execute_reply": "2022-10-18T13:24:08.919780Z",
     "shell.execute_reply.started": "2022-10-18T13:23:37.056045Z"
    }
   },
   "outputs": [],
   "source": [
    "history = model_dropout.fit(X_train, Y_train, epochs = 20, batch_size=512, validation_data=(X_test, Y_test))"
   ]
  },
  {
   "cell_type": "code",
   "execution_count": null,
   "metadata": {
    "execution": {
     "iopub.execute_input": "2022-10-18T13:24:08.923221Z",
     "iopub.status.busy": "2022-10-18T13:24:08.922857Z",
     "iopub.status.idle": "2022-10-18T13:24:09.168730Z",
     "shell.execute_reply": "2022-10-18T13:24:09.167847Z",
     "shell.execute_reply.started": "2022-10-18T13:24:08.923178Z"
    }
   },
   "outputs": [],
   "source": [
    "# Plotting the accuracies\n",
    "plt.plot(history.history['categorical_accuracy'])\n",
    "plt.plot(history.history['val_categorical_accuracy'])\n",
    "plt.ylabel('Accuracy')\n",
    "plt.xlabel('Epochs')\n",
    "plt.legend(['train', 'test'], loc='upper left')\n",
    "plt.savefig('./arsenal_acc.png')"
   ]
  },
  {
   "cell_type": "code",
   "execution_count": null,
   "metadata": {
    "execution": {
     "iopub.execute_input": "2022-10-18T13:24:09.170735Z",
     "iopub.status.busy": "2022-10-18T13:24:09.170388Z",
     "iopub.status.idle": "2022-10-18T13:24:09.413718Z",
     "shell.execute_reply": "2022-10-18T13:24:09.412756Z",
     "shell.execute_reply.started": "2022-10-18T13:24:09.170700Z"
    }
   },
   "outputs": [],
   "source": [
    "# Plotting the losses\n",
    "plt.plot(history.history['loss'])\n",
    "plt.plot(history.history['val_loss'])\n",
    "plt.ylabel('Loss')\n",
    "plt.xlabel('Epochs')\n",
    "plt.legend(['train', 'test'], loc='upper left')\n",
    "plt.savefig('./arsenal_loss.png')"
   ]
  },
  {
   "cell_type": "code",
   "execution_count": null,
   "metadata": {
    "execution": {
     "iopub.execute_input": "2022-10-18T13:24:09.415916Z",
     "iopub.status.busy": "2022-10-18T13:24:09.415538Z",
     "iopub.status.idle": "2022-10-18T13:24:29.487067Z",
     "shell.execute_reply": "2022-10-18T13:24:29.485674Z",
     "shell.execute_reply.started": "2022-10-18T13:24:09.415879Z"
    }
   },
   "outputs": [],
   "source": [
    "model_dropout.save('./arsenal')\n",
    "model_dropout.save('./arsenal.h5')"
   ]
  },
  {
   "cell_type": "markdown",
   "metadata": {},
   "source": [
    "# **Chelsea**"
   ]
  },
  {
   "cell_type": "code",
   "execution_count": null,
   "metadata": {
    "execution": {
     "iopub.execute_input": "2022-10-18T13:24:29.490519Z",
     "iopub.status.busy": "2022-10-18T13:24:29.489928Z",
     "iopub.status.idle": "2022-10-18T13:24:29.538301Z",
     "shell.execute_reply": "2022-10-18T13:24:29.537367Z",
     "shell.execute_reply.started": "2022-10-18T13:24:29.490482Z"
    }
   },
   "outputs": [],
   "source": [
    "chelseaData"
   ]
  },
  {
   "cell_type": "code",
   "execution_count": null,
   "metadata": {
    "execution": {
     "iopub.execute_input": "2022-10-18T13:24:29.540482Z",
     "iopub.status.busy": "2022-10-18T13:24:29.539871Z",
     "iopub.status.idle": "2022-10-18T13:24:36.214386Z",
     "shell.execute_reply": "2022-10-18T13:24:36.212341Z",
     "shell.execute_reply.started": "2022-10-18T13:24:29.540445Z"
    }
   },
   "outputs": [],
   "source": [
    "labels = chelseaData['final_class']\n",
    "chelseaData['modTweet'] = [featureEngineering(tweet) for tweet in chelseaData['content']]\n",
    "chelseaData['lemmatizedText'] = chelseaData[\"modTweet\"].apply(lambda x:lemmatizeTweet(x))"
   ]
  },
  {
   "cell_type": "code",
   "execution_count": null,
   "metadata": {
    "execution": {
     "iopub.execute_input": "2022-10-18T13:24:36.216046Z",
     "iopub.status.busy": "2022-10-18T13:24:36.215666Z",
     "iopub.status.idle": "2022-10-18T13:24:36.737732Z",
     "shell.execute_reply": "2022-10-18T13:24:36.736775Z",
     "shell.execute_reply.started": "2022-10-18T13:24:36.216009Z"
    }
   },
   "outputs": [],
   "source": [
    "labels = tf.keras.utils.to_categorical(labels, 3, dtype=\"float32\")\n",
    "tokenizer = Tokenizer(num_words=37320, split=' ')\n",
    "tokenizer.fit_on_texts(chelseaData['lemmatizedText'].values)\n",
    "X = tokenizer.texts_to_sequences(chelseaData['lemmatizedText'].values)\n",
    "X = pad_sequences(X)\n",
    "\n",
    "X_train, X_test, Y_train, Y_test = train_test_split(X, labels, test_size=0.3, random_state=42)"
   ]
  },
  {
   "cell_type": "code",
   "execution_count": null,
   "metadata": {
    "execution": {
     "iopub.execute_input": "2022-10-18T13:24:36.739444Z",
     "iopub.status.busy": "2022-10-18T13:24:36.739073Z",
     "iopub.status.idle": "2022-10-18T13:24:36.748540Z",
     "shell.execute_reply": "2022-10-18T13:24:36.747483Z",
     "shell.execute_reply.started": "2022-10-18T13:24:36.739409Z"
    }
   },
   "outputs": [],
   "source": [
    "print(X_train.shape,Y_train.shape)\n",
    "print(X_test.shape,Y_test.shape)"
   ]
  },
  {
   "cell_type": "code",
   "execution_count": null,
   "metadata": {
    "execution": {
     "iopub.execute_input": "2022-10-18T13:24:36.750189Z",
     "iopub.status.busy": "2022-10-18T13:24:36.749791Z",
     "iopub.status.idle": "2022-10-18T13:24:37.596428Z",
     "shell.execute_reply": "2022-10-18T13:24:37.595377Z",
     "shell.execute_reply.started": "2022-10-18T13:24:36.750151Z"
    }
   },
   "outputs": [],
   "source": [
    "model_dropout = Sequential()\n",
    "model_dropout.add(Embedding(input_dim=37320, output_dim=40, input_length=X.shape[1]))\n",
    "model_dropout.add(Dropout(0.5))\n",
    "model_dropout.add(Bidirectional(LSTM(units=256, return_sequences=True, kernel_initializer='he_uniform')))\n",
    "model_dropout.add(Dropout(0.5))\n",
    "model_dropout.add(Bidirectional(LSTM(units=128, return_sequences=False, kernel_initializer='he_uniform')))\n",
    "model_dropout.add(Dense(3, activation='softmax'))\n",
    "optimizer = Adamax(lr = 0.01)\n",
    "model_dropout.compile(loss='categorical_crossentropy', optimizer=optimizer, metrics=['categorical_accuracy'])\n",
    "print(model_dropout.summary())"
   ]
  },
  {
   "cell_type": "code",
   "execution_count": null,
   "metadata": {
    "execution": {
     "iopub.execute_input": "2022-10-18T13:24:37.598676Z",
     "iopub.status.busy": "2022-10-18T13:24:37.597747Z",
     "iopub.status.idle": "2022-10-18T13:25:22.798454Z",
     "shell.execute_reply": "2022-10-18T13:25:22.797393Z",
     "shell.execute_reply.started": "2022-10-18T13:24:37.598636Z"
    }
   },
   "outputs": [],
   "source": [
    "history = model_dropout.fit(X_train, Y_train, epochs = 20, batch_size=512, validation_data=(X_test, Y_test))"
   ]
  },
  {
   "cell_type": "code",
   "execution_count": null,
   "metadata": {
    "execution": {
     "iopub.execute_input": "2022-10-18T13:25:22.801164Z",
     "iopub.status.busy": "2022-10-18T13:25:22.800755Z",
     "iopub.status.idle": "2022-10-18T13:25:23.075398Z",
     "shell.execute_reply": "2022-10-18T13:25:23.074462Z",
     "shell.execute_reply.started": "2022-10-18T13:25:22.801127Z"
    }
   },
   "outputs": [],
   "source": [
    "# Plotting the accuracies\n",
    "plt.plot(history.history['categorical_accuracy'])\n",
    "plt.plot(history.history['val_categorical_accuracy'])\n",
    "plt.ylabel('Accuracy')\n",
    "plt.xlabel('Epochs')\n",
    "plt.legend(['train', 'test'], loc='upper left')\n",
    "plt.savefig('./chelsea_acc.png')"
   ]
  },
  {
   "cell_type": "code",
   "execution_count": null,
   "metadata": {
    "execution": {
     "iopub.execute_input": "2022-10-18T13:25:23.077802Z",
     "iopub.status.busy": "2022-10-18T13:25:23.077212Z",
     "iopub.status.idle": "2022-10-18T13:25:23.318769Z",
     "shell.execute_reply": "2022-10-18T13:25:23.317852Z",
     "shell.execute_reply.started": "2022-10-18T13:25:23.077763Z"
    }
   },
   "outputs": [],
   "source": [
    "# Plotting the losses\n",
    "plt.plot(history.history['loss'])\n",
    "plt.plot(history.history['val_loss'])\n",
    "plt.ylabel('Loss')\n",
    "plt.xlabel('Epochs')\n",
    "plt.legend(['train', 'test'], loc='upper left')\n",
    "plt.savefig('./chelsea_loss.png')"
   ]
  },
  {
   "cell_type": "code",
   "execution_count": null,
   "metadata": {
    "execution": {
     "iopub.execute_input": "2022-10-18T13:25:23.320986Z",
     "iopub.status.busy": "2022-10-18T13:25:23.320594Z",
     "iopub.status.idle": "2022-10-18T13:25:43.305805Z",
     "shell.execute_reply": "2022-10-18T13:25:43.304413Z",
     "shell.execute_reply.started": "2022-10-18T13:25:23.320949Z"
    }
   },
   "outputs": [],
   "source": [
    "model_dropout.save('./chesea')\n",
    "model_dropout.save('./chelsea.h5')"
   ]
  },
  {
   "cell_type": "markdown",
   "metadata": {},
   "source": [
    "# **Liverpool**"
   ]
  },
  {
   "cell_type": "code",
   "execution_count": null,
   "metadata": {
    "execution": {
     "iopub.execute_input": "2022-10-18T13:25:43.308175Z",
     "iopub.status.busy": "2022-10-18T13:25:43.307572Z",
     "iopub.status.idle": "2022-10-18T13:25:43.357770Z",
     "shell.execute_reply": "2022-10-18T13:25:43.356729Z",
     "shell.execute_reply.started": "2022-10-18T13:25:43.308135Z"
    }
   },
   "outputs": [],
   "source": [
    "liverpoolData"
   ]
  },
  {
   "cell_type": "code",
   "execution_count": null,
   "metadata": {
    "execution": {
     "iopub.execute_input": "2022-10-18T13:25:43.359605Z",
     "iopub.status.busy": "2022-10-18T13:25:43.359326Z",
     "iopub.status.idle": "2022-10-18T13:25:50.296156Z",
     "shell.execute_reply": "2022-10-18T13:25:50.295107Z",
     "shell.execute_reply.started": "2022-10-18T13:25:43.359579Z"
    }
   },
   "outputs": [],
   "source": [
    "labels = liverpoolData['final_class']\n",
    "liverpoolData['modTweet'] = [featureEngineering(tweet) for tweet in liverpoolData['content']]\n",
    "liverpoolData['lemmatizedText'] = liverpoolData[\"modTweet\"].apply(lambda x:lemmatizeTweet(x))"
   ]
  },
  {
   "cell_type": "code",
   "execution_count": null,
   "metadata": {
    "execution": {
     "iopub.execute_input": "2022-10-18T13:25:50.298402Z",
     "iopub.status.busy": "2022-10-18T13:25:50.297722Z",
     "iopub.status.idle": "2022-10-18T13:25:50.829933Z",
     "shell.execute_reply": "2022-10-18T13:25:50.828937Z",
     "shell.execute_reply.started": "2022-10-18T13:25:50.298359Z"
    }
   },
   "outputs": [],
   "source": [
    "labels = tf.keras.utils.to_categorical(labels, 3, dtype=\"float32\")\n",
    "tokenizer = Tokenizer(num_words=37320, split=' ')\n",
    "tokenizer.fit_on_texts(liverpoolData['lemmatizedText'].values)\n",
    "X = tokenizer.texts_to_sequences(liverpoolData['lemmatizedText'].values)\n",
    "X = pad_sequences(X)\n",
    "\n",
    "X_train, X_test, Y_train, Y_test = train_test_split(X, labels, test_size=0.3, random_state=42)"
   ]
  },
  {
   "cell_type": "code",
   "execution_count": null,
   "metadata": {
    "execution": {
     "iopub.execute_input": "2022-10-18T13:25:50.831879Z",
     "iopub.status.busy": "2022-10-18T13:25:50.831497Z",
     "iopub.status.idle": "2022-10-18T13:25:50.837871Z",
     "shell.execute_reply": "2022-10-18T13:25:50.836813Z",
     "shell.execute_reply.started": "2022-10-18T13:25:50.831838Z"
    }
   },
   "outputs": [],
   "source": [
    "print(X_train.shape,Y_train.shape)\n",
    "print(X_test.shape,Y_test.shape)"
   ]
  },
  {
   "cell_type": "code",
   "execution_count": null,
   "metadata": {
    "execution": {
     "iopub.execute_input": "2022-10-18T13:25:50.840229Z",
     "iopub.status.busy": "2022-10-18T13:25:50.839507Z",
     "iopub.status.idle": "2022-10-18T13:25:51.682803Z",
     "shell.execute_reply": "2022-10-18T13:25:51.681676Z",
     "shell.execute_reply.started": "2022-10-18T13:25:50.840193Z"
    }
   },
   "outputs": [],
   "source": [
    "model_dropout = Sequential()\n",
    "model_dropout.add(Embedding(input_dim=37320, output_dim=40, input_length=X.shape[1]))\n",
    "model_dropout.add(Dropout(0.5))\n",
    "model_dropout.add(Bidirectional(LSTM(units=256, return_sequences=True, kernel_initializer='he_uniform')))\n",
    "model_dropout.add(Dropout(0.5))\n",
    "model_dropout.add(Bidirectional(LSTM(units=128, return_sequences=False, kernel_initializer='he_uniform')))\n",
    "model_dropout.add(Dense(3, activation='softmax'))\n",
    "optimizer = Adamax(lr = 0.01)\n",
    "model_dropout.compile(loss='categorical_crossentropy', optimizer=optimizer, metrics=['categorical_accuracy'])\n",
    "print(model_dropout.summary())"
   ]
  },
  {
   "cell_type": "code",
   "execution_count": null,
   "metadata": {
    "execution": {
     "iopub.execute_input": "2022-10-18T13:25:51.684892Z",
     "iopub.status.busy": "2022-10-18T13:25:51.684483Z",
     "iopub.status.idle": "2022-10-18T13:26:23.248552Z",
     "shell.execute_reply": "2022-10-18T13:26:23.247629Z",
     "shell.execute_reply.started": "2022-10-18T13:25:51.684852Z"
    }
   },
   "outputs": [],
   "source": [
    "history = model_dropout.fit(X_train, Y_train, epochs = 20, batch_size=512, validation_data=(X_test, Y_test))"
   ]
  },
  {
   "cell_type": "code",
   "execution_count": null,
   "metadata": {
    "execution": {
     "iopub.execute_input": "2022-10-18T13:26:23.252111Z",
     "iopub.status.busy": "2022-10-18T13:26:23.251783Z",
     "iopub.status.idle": "2022-10-18T13:26:23.499687Z",
     "shell.execute_reply": "2022-10-18T13:26:23.498776Z",
     "shell.execute_reply.started": "2022-10-18T13:26:23.252083Z"
    }
   },
   "outputs": [],
   "source": [
    "# Plotting the accuracies\n",
    "plt.plot(history.history['categorical_accuracy'])\n",
    "plt.plot(history.history['val_categorical_accuracy'])\n",
    "plt.ylabel('Accuracy')\n",
    "plt.xlabel('Epochs')\n",
    "plt.legend(['train', 'test'], loc='upper left')\n",
    "plt.savefig('./liverpool_acc.png')"
   ]
  },
  {
   "cell_type": "code",
   "execution_count": null,
   "metadata": {
    "execution": {
     "iopub.execute_input": "2022-10-18T13:26:23.503244Z",
     "iopub.status.busy": "2022-10-18T13:26:23.502963Z",
     "iopub.status.idle": "2022-10-18T13:26:23.745889Z",
     "shell.execute_reply": "2022-10-18T13:26:23.744809Z",
     "shell.execute_reply.started": "2022-10-18T13:26:23.503215Z"
    }
   },
   "outputs": [],
   "source": [
    "# Plotting the losses\n",
    "plt.plot(history.history['loss'])\n",
    "plt.plot(history.history['val_loss'])\n",
    "plt.ylabel('Loss')\n",
    "plt.xlabel('Epochs')\n",
    "plt.legend(['train', 'test'], loc='upper left')\n",
    "plt.savefig('./liverpool_loss.png')"
   ]
  },
  {
   "cell_type": "code",
   "execution_count": null,
   "metadata": {
    "execution": {
     "iopub.execute_input": "2022-10-18T13:26:23.747760Z",
     "iopub.status.busy": "2022-10-18T13:26:23.747408Z",
     "iopub.status.idle": "2022-10-18T13:26:43.666022Z",
     "shell.execute_reply": "2022-10-18T13:26:43.664570Z",
     "shell.execute_reply.started": "2022-10-18T13:26:23.747722Z"
    }
   },
   "outputs": [],
   "source": [
    "model_dropout.save('./liverpool')\n",
    "model_dropout.save('./liverpool.h5')"
   ]
  },
  {
   "cell_type": "markdown",
   "metadata": {},
   "source": [
    "# **Tottenham**"
   ]
  },
  {
   "cell_type": "code",
   "execution_count": null,
   "metadata": {
    "execution": {
     "iopub.execute_input": "2022-10-18T13:26:43.676026Z",
     "iopub.status.busy": "2022-10-18T13:26:43.672901Z",
     "iopub.status.idle": "2022-10-18T13:26:43.718717Z",
     "shell.execute_reply": "2022-10-18T13:26:43.717717Z",
     "shell.execute_reply.started": "2022-10-18T13:26:43.675979Z"
    }
   },
   "outputs": [],
   "source": [
    "totData"
   ]
  },
  {
   "cell_type": "code",
   "execution_count": null,
   "metadata": {
    "execution": {
     "iopub.execute_input": "2022-10-18T13:26:43.721192Z",
     "iopub.status.busy": "2022-10-18T13:26:43.720144Z",
     "iopub.status.idle": "2022-10-18T13:26:47.529774Z",
     "shell.execute_reply": "2022-10-18T13:26:47.527648Z",
     "shell.execute_reply.started": "2022-10-18T13:26:43.721152Z"
    }
   },
   "outputs": [],
   "source": [
    "labels = totData['final_class']\n",
    "totData['modTweet'] = [featureEngineering(tweet) for tweet in totData['content']]\n",
    "totData['lemmatizedText'] = totData[\"modTweet\"].apply(lambda x:lemmatizeTweet(x))"
   ]
  },
  {
   "cell_type": "code",
   "execution_count": null,
   "metadata": {
    "execution": {
     "iopub.execute_input": "2022-10-18T13:26:47.531586Z",
     "iopub.status.busy": "2022-10-18T13:26:47.531251Z",
     "iopub.status.idle": "2022-10-18T13:26:47.830520Z",
     "shell.execute_reply": "2022-10-18T13:26:47.829562Z",
     "shell.execute_reply.started": "2022-10-18T13:26:47.531558Z"
    }
   },
   "outputs": [],
   "source": [
    "labels = tf.keras.utils.to_categorical(labels, 3, dtype=\"float32\")\n",
    "tokenizer = Tokenizer(num_words=37320, split=' ')\n",
    "tokenizer.fit_on_texts(totData['lemmatizedText'].values)\n",
    "X = tokenizer.texts_to_sequences(totData['lemmatizedText'].values)\n",
    "X = pad_sequences(X)\n",
    "\n",
    "X_train, X_test, Y_train, Y_test = train_test_split(X, labels, test_size=0.3, random_state=42)"
   ]
  },
  {
   "cell_type": "code",
   "execution_count": null,
   "metadata": {
    "execution": {
     "iopub.execute_input": "2022-10-18T13:26:47.832292Z",
     "iopub.status.busy": "2022-10-18T13:26:47.831934Z",
     "iopub.status.idle": "2022-10-18T13:26:47.838722Z",
     "shell.execute_reply": "2022-10-18T13:26:47.837630Z",
     "shell.execute_reply.started": "2022-10-18T13:26:47.832256Z"
    }
   },
   "outputs": [],
   "source": [
    "print(X_train.shape,Y_train.shape)\n",
    "print(X_test.shape,Y_test.shape)"
   ]
  },
  {
   "cell_type": "code",
   "execution_count": null,
   "metadata": {
    "execution": {
     "iopub.execute_input": "2022-10-18T13:26:47.841106Z",
     "iopub.status.busy": "2022-10-18T13:26:47.840167Z",
     "iopub.status.idle": "2022-10-18T13:26:48.675583Z",
     "shell.execute_reply": "2022-10-18T13:26:48.674592Z",
     "shell.execute_reply.started": "2022-10-18T13:26:47.841070Z"
    }
   },
   "outputs": [],
   "source": [
    "model_dropout = Sequential()\n",
    "model_dropout.add(Embedding(input_dim=37320, output_dim=40, input_length=X.shape[1]))\n",
    "model_dropout.add(Dropout(0.5))\n",
    "model_dropout.add(Bidirectional(LSTM(units=256, return_sequences=True, kernel_initializer='he_uniform')))\n",
    "model_dropout.add(Dropout(0.5))\n",
    "model_dropout.add(Bidirectional(LSTM(units=128, return_sequences=False, kernel_initializer='he_uniform')))\n",
    "model_dropout.add(Dense(3, activation='softmax'))\n",
    "optimizer = Adamax(lr = 0.01)\n",
    "model_dropout.compile(loss='categorical_crossentropy', optimizer=optimizer, metrics=['categorical_accuracy'])\n",
    "print(model_dropout.summary())"
   ]
  },
  {
   "cell_type": "code",
   "execution_count": null,
   "metadata": {
    "execution": {
     "iopub.execute_input": "2022-10-18T13:26:48.677978Z",
     "iopub.status.busy": "2022-10-18T13:26:48.677270Z",
     "iopub.status.idle": "2022-10-18T13:27:08.212453Z",
     "shell.execute_reply": "2022-10-18T13:27:08.211511Z",
     "shell.execute_reply.started": "2022-10-18T13:26:48.677937Z"
    }
   },
   "outputs": [],
   "source": [
    "history = model_dropout.fit(X_train, Y_train, epochs = 20, batch_size=512, validation_data=(X_test, Y_test))"
   ]
  },
  {
   "cell_type": "code",
   "execution_count": null,
   "metadata": {
    "execution": {
     "iopub.execute_input": "2022-10-18T13:27:08.215009Z",
     "iopub.status.busy": "2022-10-18T13:27:08.214045Z",
     "iopub.status.idle": "2022-10-18T13:27:08.465785Z",
     "shell.execute_reply": "2022-10-18T13:27:08.464778Z",
     "shell.execute_reply.started": "2022-10-18T13:27:08.214968Z"
    }
   },
   "outputs": [],
   "source": [
    "# Plotting the accuracies\n",
    "plt.plot(history.history['categorical_accuracy'])\n",
    "plt.plot(history.history['val_categorical_accuracy'])\n",
    "plt.ylabel('Accuracy')\n",
    "plt.xlabel('Epochs')\n",
    "plt.legend(['train', 'test'], loc='upper left')\n",
    "plt.savefig('./tot_acc.png')"
   ]
  },
  {
   "cell_type": "code",
   "execution_count": null,
   "metadata": {
    "execution": {
     "iopub.execute_input": "2022-10-18T13:27:08.467582Z",
     "iopub.status.busy": "2022-10-18T13:27:08.467241Z",
     "iopub.status.idle": "2022-10-18T13:27:08.715720Z",
     "shell.execute_reply": "2022-10-18T13:27:08.714732Z",
     "shell.execute_reply.started": "2022-10-18T13:27:08.467546Z"
    }
   },
   "outputs": [],
   "source": [
    "# Plotting the losses\n",
    "plt.plot(history.history['loss'])\n",
    "plt.plot(history.history['val_loss'])\n",
    "plt.ylabel('Loss')\n",
    "plt.xlabel('Epochs')\n",
    "plt.legend(['train', 'test'], loc='upper left')\n",
    "plt.savefig('./tot_loss.png')"
   ]
  },
  {
   "cell_type": "code",
   "execution_count": null,
   "metadata": {
    "execution": {
     "iopub.execute_input": "2022-10-18T13:27:08.717993Z",
     "iopub.status.busy": "2022-10-18T13:27:08.717337Z",
     "iopub.status.idle": "2022-10-18T13:27:29.578149Z",
     "shell.execute_reply": "2022-10-18T13:27:29.576702Z",
     "shell.execute_reply.started": "2022-10-18T13:27:08.717954Z"
    }
   },
   "outputs": [],
   "source": [
    "model_dropout.save('./tot')\n",
    "model_dropout.save('./tot.h5')"
   ]
  },
  {
   "cell_type": "code",
   "execution_count": null,
   "metadata": {},
   "outputs": [],
   "source": []
  }
 ],
 "metadata": {
  "kernelspec": {
   "display_name": "Python 3 (ipykernel)",
   "language": "python",
   "name": "python3"
  },
  "language_info": {
   "codemirror_mode": {
    "name": "ipython",
    "version": 3
   },
   "file_extension": ".py",
   "mimetype": "text/x-python",
   "name": "python",
   "nbconvert_exporter": "python",
   "pygments_lexer": "ipython3",
   "version": "3.8.5"
  }
 },
 "nbformat": 4,
 "nbformat_minor": 4
}
