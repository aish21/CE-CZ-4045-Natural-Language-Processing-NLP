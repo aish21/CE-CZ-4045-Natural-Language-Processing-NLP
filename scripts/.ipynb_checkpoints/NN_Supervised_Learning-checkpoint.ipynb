{
 "cells": [
  {
   "cell_type": "code",
   "execution_count": 1,
   "metadata": {},
   "outputs": [
    {
     "name": "stderr",
     "output_type": "stream",
     "text": [
      "[nltk_data] Downloading package punkt to /Users/aishwarya/nltk_data...\n",
      "[nltk_data]   Package punkt is already up-to-date!\n",
      "[nltk_data] Downloading package wordnet to\n",
      "[nltk_data]     /Users/aishwarya/nltk_data...\n",
      "[nltk_data]   Package wordnet is already up-to-date!\n",
      "[nltk_data] Downloading package stopwords to\n",
      "[nltk_data]     /Users/aishwarya/nltk_data...\n",
      "[nltk_data]   Package stopwords is already up-to-date!\n"
     ]
    }
   ],
   "source": [
    "import nltk\n",
    "import pandas as pd\n",
    "from nltk.corpus import stopwords\n",
    "from keras.models import Sequential\n",
    "from keras.preprocessing.text import Tokenizer\n",
    "from keras.preprocessing.sequence import pad_sequences\n",
    "from keras.layers import Dense, Embedding, LSTM, SpatialDropout1D, Conv1D, MaxPooling1D, MaxPooling1D, GlobalMaxPooling1D\n",
    "from sklearn.model_selection import train_test_split \n",
    "import matplotlib.pyplot as plt\n",
    "import re\n",
    "from nltk.tokenize import word_tokenize\n",
    "from nltk.corpus import stopwords\n",
    "import tensorflow as tf\n",
    "import numpy as np\n",
    "nltk.download('punkt')\n",
    "nltk.download('wordnet')\n",
    "nltk.download('stopwords')\n",
    "import chardet\n",
    "from keras.layers import Dense, Embedding, LSTM, Dropout, Bidirectional\n",
    "from keras.constraints import maxnorm\n",
    "from tensorflow.keras.optimizers import Adam \n",
    "from keras import regularizers\n"
   ]
  },
  {
   "cell_type": "code",
   "execution_count": 2,
   "metadata": {},
   "outputs": [
    {
     "data": {
      "text/html": [
       "<div>\n",
       "<style scoped>\n",
       "    .dataframe tbody tr th:only-of-type {\n",
       "        vertical-align: middle;\n",
       "    }\n",
       "\n",
       "    .dataframe tbody tr th {\n",
       "        vertical-align: top;\n",
       "    }\n",
       "\n",
       "    .dataframe thead th {\n",
       "        text-align: right;\n",
       "    }\n",
       "</style>\n",
       "<table border=\"1\" class=\"dataframe\">\n",
       "  <thead>\n",
       "    <tr style=\"text-align: right;\">\n",
       "      <th></th>\n",
       "      <th>username</th>\n",
       "      <th>verified</th>\n",
       "      <th>followersCount</th>\n",
       "      <th>content</th>\n",
       "      <th>label</th>\n",
       "      <th>date</th>\n",
       "      <th>country</th>\n",
       "      <th>replyCount</th>\n",
       "      <th>retweetCount</th>\n",
       "      <th>likeCount</th>\n",
       "      <th>...</th>\n",
       "      <th>vader_neg</th>\n",
       "      <th>vader_neu</th>\n",
       "      <th>vader_pos</th>\n",
       "      <th>vader_comp</th>\n",
       "      <th>cleantext2</th>\n",
       "      <th>class</th>\n",
       "      <th>TextBlob_Subjectivity</th>\n",
       "      <th>TextBlob_Polarity</th>\n",
       "      <th>TextBlob_Analysis</th>\n",
       "      <th>final_class</th>\n",
       "    </tr>\n",
       "  </thead>\n",
       "  <tbody>\n",
       "    <tr>\n",
       "      <th>0</th>\n",
       "      <td>HuyThanhNguyen5</td>\n",
       "      <td>False</td>\n",
       "      <td>0</td>\n",
       "      <td>@unitedstandmufc @markgoldbridge get ole again...</td>\n",
       "      <td>-1.0</td>\n",
       "      <td>2022-08-31 15:12:54</td>\n",
       "      <td>India</td>\n",
       "      <td>0</td>\n",
       "      <td>0</td>\n",
       "      <td>0</td>\n",
       "      <td>...</td>\n",
       "      <td>0.046</td>\n",
       "      <td>0.819</td>\n",
       "      <td>0.134</td>\n",
       "      <td>0.7133</td>\n",
       "      <td>g e t   o l e   a g a i n   t o   t e l l ...</td>\n",
       "      <td>-1</td>\n",
       "      <td>0.600000</td>\n",
       "      <td>0.290000</td>\n",
       "      <td>1</td>\n",
       "      <td>-1</td>\n",
       "    </tr>\n",
       "    <tr>\n",
       "      <th>1</th>\n",
       "      <td>guaslackjack</td>\n",
       "      <td>False</td>\n",
       "      <td>125</td>\n",
       "      <td>best goal: bruno top assists: pogba ??: cristi...</td>\n",
       "      <td>1.0</td>\n",
       "      <td>2021-09-11 15:56:21</td>\n",
       "      <td>India</td>\n",
       "      <td>0</td>\n",
       "      <td>0</td>\n",
       "      <td>0</td>\n",
       "      <td>...</td>\n",
       "      <td>0.000</td>\n",
       "      <td>0.561</td>\n",
       "      <td>0.439</td>\n",
       "      <td>0.8225</td>\n",
       "      <td>b e s t   g o a l :   b r u n o   t o p   a s ...</td>\n",
       "      <td>1</td>\n",
       "      <td>0.400000</td>\n",
       "      <td>0.533333</td>\n",
       "      <td>1</td>\n",
       "      <td>1</td>\n",
       "    </tr>\n",
       "    <tr>\n",
       "      <th>2</th>\n",
       "      <td>gerryrb</td>\n",
       "      <td>False</td>\n",
       "      <td>935</td>\n",
       "      <td>@lost_souls_07 @kayinfinite28 @altyred2 @utdpl...</td>\n",
       "      <td>0.0</td>\n",
       "      <td>2022-09-03 14:29:34</td>\n",
       "      <td>Argentina</td>\n",
       "      <td>1</td>\n",
       "      <td>0</td>\n",
       "      <td>1</td>\n",
       "      <td>...</td>\n",
       "      <td>0.000</td>\n",
       "      <td>0.505</td>\n",
       "      <td>0.495</td>\n",
       "      <td>0.9562</td>\n",
       "      <td>i   d o   n o t   k n o w   i s   t h ...</td>\n",
       "      <td>1</td>\n",
       "      <td>0.783333</td>\n",
       "      <td>0.450000</td>\n",
       "      <td>1</td>\n",
       "      <td>0</td>\n",
       "    </tr>\n",
       "    <tr>\n",
       "      <th>3</th>\n",
       "      <td>rickitten_</td>\n",
       "      <td>False</td>\n",
       "      <td>9</td>\n",
       "      <td>players spurs in old trafford #mufc #muntot ht...</td>\n",
       "      <td>0.0</td>\n",
       "      <td>2022-03-12 19:14:18</td>\n",
       "      <td>India</td>\n",
       "      <td>0</td>\n",
       "      <td>0</td>\n",
       "      <td>0</td>\n",
       "      <td>...</td>\n",
       "      <td>0.000</td>\n",
       "      <td>1.000</td>\n",
       "      <td>0.000</td>\n",
       "      <td>0.0000</td>\n",
       "      <td>p l a y e r s   s p u r s   i n   o l d   t r ...</td>\n",
       "      <td>0</td>\n",
       "      <td>0.200000</td>\n",
       "      <td>0.100000</td>\n",
       "      <td>1</td>\n",
       "      <td>0</td>\n",
       "    </tr>\n",
       "    <tr>\n",
       "      <th>4</th>\n",
       "      <td>saboteurDS</td>\n",
       "      <td>False</td>\n",
       "      <td>278</td>\n",
       "      <td>@tancredipalmeri why on earth would #mufc pay ...</td>\n",
       "      <td>-1.0</td>\n",
       "      <td>2022-08-28 12:07:34</td>\n",
       "      <td>India</td>\n",
       "      <td>0</td>\n",
       "      <td>0</td>\n",
       "      <td>2</td>\n",
       "      <td>...</td>\n",
       "      <td>0.045</td>\n",
       "      <td>0.643</td>\n",
       "      <td>0.312</td>\n",
       "      <td>0.8072</td>\n",
       "      <td>w h y   o n   e a r t h   w o u l d     p a ...</td>\n",
       "      <td>-1</td>\n",
       "      <td>0.500000</td>\n",
       "      <td>0.500000</td>\n",
       "      <td>1</td>\n",
       "      <td>-1</td>\n",
       "    </tr>\n",
       "    <tr>\n",
       "      <th>...</th>\n",
       "      <td>...</td>\n",
       "      <td>...</td>\n",
       "      <td>...</td>\n",
       "      <td>...</td>\n",
       "      <td>...</td>\n",
       "      <td>...</td>\n",
       "      <td>...</td>\n",
       "      <td>...</td>\n",
       "      <td>...</td>\n",
       "      <td>...</td>\n",
       "      <td>...</td>\n",
       "      <td>...</td>\n",
       "      <td>...</td>\n",
       "      <td>...</td>\n",
       "      <td>...</td>\n",
       "      <td>...</td>\n",
       "      <td>...</td>\n",
       "      <td>...</td>\n",
       "      <td>...</td>\n",
       "      <td>...</td>\n",
       "      <td>...</td>\n",
       "    </tr>\n",
       "    <tr>\n",
       "      <th>97393</th>\n",
       "      <td>ChelseaEleven</td>\n",
       "      <td>False</td>\n",
       "      <td>21757</td>\n",
       "      <td>thank you for everything, Thomas Tuchel #CFC #...</td>\n",
       "      <td>NaN</td>\n",
       "      <td>2022-09-07 09:09:44+00:00</td>\n",
       "      <td>India</td>\n",
       "      <td>0</td>\n",
       "      <td>1</td>\n",
       "      <td>4</td>\n",
       "      <td>...</td>\n",
       "      <td>0.000</td>\n",
       "      <td>0.667</td>\n",
       "      <td>0.333</td>\n",
       "      <td>0.3612</td>\n",
       "      <td>t h a n k   y o u   f o r   e v e r y t h i n ...</td>\n",
       "      <td>1</td>\n",
       "      <td>0.000000</td>\n",
       "      <td>0.000000</td>\n",
       "      <td>0</td>\n",
       "      <td>1</td>\n",
       "    </tr>\n",
       "    <tr>\n",
       "      <th>97394</th>\n",
       "      <td>amber_chelsea</td>\n",
       "      <td>False</td>\n",
       "      <td>2195</td>\n",
       "      <td>@Chukwuemekaa10 thanks for the pic Carney ????...</td>\n",
       "      <td>NaN</td>\n",
       "      <td>2022-08-27 13:17:33+00:00</td>\n",
       "      <td>Zimbabwe</td>\n",
       "      <td>0</td>\n",
       "      <td>0</td>\n",
       "      <td>4</td>\n",
       "      <td>...</td>\n",
       "      <td>0.000</td>\n",
       "      <td>0.580</td>\n",
       "      <td>0.420</td>\n",
       "      <td>0.4404</td>\n",
       "      <td>t h a n k s   f o r   t h e   p i c   c a r ...</td>\n",
       "      <td>1</td>\n",
       "      <td>0.200000</td>\n",
       "      <td>0.200000</td>\n",
       "      <td>1</td>\n",
       "      <td>1</td>\n",
       "    </tr>\n",
       "    <tr>\n",
       "      <th>97395</th>\n",
       "      <td>Dc_Solomon2</td>\n",
       "      <td>False</td>\n",
       "      <td>143</td>\n",
       "      <td>Contacts ongoing between Chelsea and Brighton ...</td>\n",
       "      <td>NaN</td>\n",
       "      <td>2022-09-07 11:25:44+00:00</td>\n",
       "      <td>Zimbabwe</td>\n",
       "      <td>0</td>\n",
       "      <td>0</td>\n",
       "      <td>1</td>\n",
       "      <td>...</td>\n",
       "      <td>0.000</td>\n",
       "      <td>1.000</td>\n",
       "      <td>0.000</td>\n",
       "      <td>0.0000</td>\n",
       "      <td>c o n t a c t s   o n g o i n g   b e t w e e ...</td>\n",
       "      <td>0</td>\n",
       "      <td>0.400000</td>\n",
       "      <td>0.400000</td>\n",
       "      <td>1</td>\n",
       "      <td>0</td>\n",
       "    </tr>\n",
       "    <tr>\n",
       "      <th>97396</th>\n",
       "      <td>Marcus_Bryan_</td>\n",
       "      <td>False</td>\n",
       "      <td>5439</td>\n",
       "      <td>Billy Gilmour left #ChelseaFC to join Brighton...</td>\n",
       "      <td>NaN</td>\n",
       "      <td>2022-09-08 16:43:30+00:00</td>\n",
       "      <td>Argentina</td>\n",
       "      <td>1</td>\n",
       "      <td>2</td>\n",
       "      <td>24</td>\n",
       "      <td>...</td>\n",
       "      <td>0.000</td>\n",
       "      <td>0.805</td>\n",
       "      <td>0.195</td>\n",
       "      <td>0.5574</td>\n",
       "      <td>b i l l y   g i l m o u r   l e f t     t o   ...</td>\n",
       "      <td>1</td>\n",
       "      <td>0.035897</td>\n",
       "      <td>0.000000</td>\n",
       "      <td>0</td>\n",
       "      <td>1</td>\n",
       "    </tr>\n",
       "    <tr>\n",
       "      <th>97397</th>\n",
       "      <td>_MuhammadUwais_</td>\n",
       "      <td>False</td>\n",
       "      <td>112</td>\n",
       "      <td>Matchday 7 of 38, let's go Blues ?? #CFC #KTBF...</td>\n",
       "      <td>NaN</td>\n",
       "      <td>2021-10-02 13:58:31+00:00</td>\n",
       "      <td>India</td>\n",
       "      <td>0</td>\n",
       "      <td>0</td>\n",
       "      <td>0</td>\n",
       "      <td>...</td>\n",
       "      <td>0.000</td>\n",
       "      <td>1.000</td>\n",
       "      <td>0.000</td>\n",
       "      <td>0.0000</td>\n",
       "      <td>m a t c h d a y   7   o f   3 8 ,   l e t   u ...</td>\n",
       "      <td>0</td>\n",
       "      <td>0.000000</td>\n",
       "      <td>0.000000</td>\n",
       "      <td>0</td>\n",
       "      <td>0</td>\n",
       "    </tr>\n",
       "  </tbody>\n",
       "</table>\n",
       "<p>97398 rows × 25 columns</p>\n",
       "</div>"
      ],
      "text/plain": [
       "              username  verified  followersCount  \\\n",
       "0      HuyThanhNguyen5     False               0   \n",
       "1         guaslackjack     False             125   \n",
       "2              gerryrb     False             935   \n",
       "3           rickitten_     False               9   \n",
       "4           saboteurDS     False             278   \n",
       "...                ...       ...             ...   \n",
       "97393    ChelseaEleven     False           21757   \n",
       "97394    amber_chelsea     False            2195   \n",
       "97395      Dc_Solomon2     False             143   \n",
       "97396    Marcus_Bryan_     False            5439   \n",
       "97397  _MuhammadUwais_     False             112   \n",
       "\n",
       "                                                 content  label  \\\n",
       "0      @unitedstandmufc @markgoldbridge get ole again...   -1.0   \n",
       "1      best goal: bruno top assists: pogba ??: cristi...    1.0   \n",
       "2      @lost_souls_07 @kayinfinite28 @altyred2 @utdpl...    0.0   \n",
       "3      players spurs in old trafford #mufc #muntot ht...    0.0   \n",
       "4      @tancredipalmeri why on earth would #mufc pay ...   -1.0   \n",
       "...                                                  ...    ...   \n",
       "97393  thank you for everything, Thomas Tuchel #CFC #...    NaN   \n",
       "97394  @Chukwuemekaa10 thanks for the pic Carney ????...    NaN   \n",
       "97395  Contacts ongoing between Chelsea and Brighton ...    NaN   \n",
       "97396  Billy Gilmour left #ChelseaFC to join Brighton...    NaN   \n",
       "97397  Matchday 7 of 38, let's go Blues ?? #CFC #KTBF...    NaN   \n",
       "\n",
       "                            date    country  replyCount  retweetCount  \\\n",
       "0            2022-08-31 15:12:54      India           0             0   \n",
       "1            2021-09-11 15:56:21      India           0             0   \n",
       "2            2022-09-03 14:29:34  Argentina           1             0   \n",
       "3            2022-03-12 19:14:18      India           0             0   \n",
       "4            2022-08-28 12:07:34      India           0             0   \n",
       "...                          ...        ...         ...           ...   \n",
       "97393  2022-09-07 09:09:44+00:00      India           0             1   \n",
       "97394  2022-08-27 13:17:33+00:00   Zimbabwe           0             0   \n",
       "97395  2022-09-07 11:25:44+00:00   Zimbabwe           0             0   \n",
       "97396  2022-09-08 16:43:30+00:00  Argentina           1             2   \n",
       "97397  2021-10-02 13:58:31+00:00      India           0             0   \n",
       "\n",
       "       likeCount  ... vader_neg vader_neu vader_pos vader_comp  \\\n",
       "0              0  ...     0.046     0.819     0.134     0.7133   \n",
       "1              0  ...     0.000     0.561     0.439     0.8225   \n",
       "2              1  ...     0.000     0.505     0.495     0.9562   \n",
       "3              0  ...     0.000     1.000     0.000     0.0000   \n",
       "4              2  ...     0.045     0.643     0.312     0.8072   \n",
       "...          ...  ...       ...       ...       ...        ...   \n",
       "97393          4  ...     0.000     0.667     0.333     0.3612   \n",
       "97394          4  ...     0.000     0.580     0.420     0.4404   \n",
       "97395          1  ...     0.000     1.000     0.000     0.0000   \n",
       "97396         24  ...     0.000     0.805     0.195     0.5574   \n",
       "97397          0  ...     0.000     1.000     0.000     0.0000   \n",
       "\n",
       "                                              cleantext2  class  \\\n",
       "0          g e t   o l e   a g a i n   t o   t e l l ...     -1   \n",
       "1      b e s t   g o a l :   b r u n o   t o p   a s ...      1   \n",
       "2              i   d o   n o t   k n o w   i s   t h ...      1   \n",
       "3      p l a y e r s   s p u r s   i n   o l d   t r ...      0   \n",
       "4        w h y   o n   e a r t h   w o u l d     p a ...     -1   \n",
       "...                                                  ...    ...   \n",
       "97393  t h a n k   y o u   f o r   e v e r y t h i n ...      1   \n",
       "97394    t h a n k s   f o r   t h e   p i c   c a r ...      1   \n",
       "97395  c o n t a c t s   o n g o i n g   b e t w e e ...      0   \n",
       "97396  b i l l y   g i l m o u r   l e f t     t o   ...      1   \n",
       "97397  m a t c h d a y   7   o f   3 8 ,   l e t   u ...      0   \n",
       "\n",
       "       TextBlob_Subjectivity  TextBlob_Polarity  TextBlob_Analysis final_class  \n",
       "0                   0.600000           0.290000                  1          -1  \n",
       "1                   0.400000           0.533333                  1           1  \n",
       "2                   0.783333           0.450000                  1           0  \n",
       "3                   0.200000           0.100000                  1           0  \n",
       "4                   0.500000           0.500000                  1          -1  \n",
       "...                      ...                ...                ...         ...  \n",
       "97393               0.000000           0.000000                  0           1  \n",
       "97394               0.200000           0.200000                  1           1  \n",
       "97395               0.400000           0.400000                  1           0  \n",
       "97396               0.035897           0.000000                  0           1  \n",
       "97397               0.000000           0.000000                  0           0  \n",
       "\n",
       "[97398 rows x 25 columns]"
      ]
     },
     "execution_count": 2,
     "metadata": {},
     "output_type": "execute_result"
    }
   ],
   "source": [
    "with open('../data/nlp_vader_textblob_classified_data.csv', 'rb') as f:\n",
    "    enc = chardet.detect(f.read())  # or readline if the file is large\n",
    "    \n",
    "tweetData = pd.read_csv('../data/nlp_vader_textblob_classified_data.csv', encoding = enc['encoding'], index_col=False)\n",
    "tweetData"
   ]
  },
  {
   "cell_type": "code",
   "execution_count": 3,
   "metadata": {},
   "outputs": [],
   "source": [
    "labels = tweetData['final_class']\n",
    "def featureEngineering(tweet):\n",
    "    # Lower case tweet\n",
    "    tweetMod = tweet.lower()\n",
    "    # Replace URLs with a space in the message\n",
    "    tweetMod = re.sub('https?:\\/\\/[a-zA-Z0-9@:%._\\/+~#=?&;-]*', ' ', tweetMod)\n",
    "    # Replace ticker symbols with a space. The ticker symbols are any stock symbol that starts with $.\n",
    "    tweetMod = re.sub('\\$[a-zA-Z0-9]*', ' ', tweetMod)\n",
    "    # Replace StockTwits usernames with a space. The usernames are any word that starts with @.\n",
    "    tweetMod = re.sub('\\@[a-zA-Z0-9]*', ' ', tweetMod)\n",
    "    # Replace everything not a letter or apostrophe with a space\n",
    "    tweetMod = re.sub('[^a-zA-Z\\']', ' ', tweetMod)\n",
    "    # Remove single letter words\n",
    "    tweetMod = ' '.join([w for w in tweetMod.split() if len(w) > 1])\n",
    "\n",
    "    return tweetMod\n",
    "\n",
    "\n",
    "# Process for all tweets\n",
    "tweetData['modTweet'] = [featureEngineering(tweet) for tweet in tweetData['content']]\n",
    "\n",
    "def lemmatizeTweet(tweet):\n",
    "    words = [word for word in word_tokenize(tweet) if (word.isalpha()==1)]\n",
    "    # Remove stop words\n",
    "    stop = set(stopwords.words('english'))\n",
    "    words = [word for word in words if (word not in stop)]\n",
    "    # Lemmatize words (first noun, then verb)\n",
    "    wnl = nltk.stem.WordNetLemmatizer()\n",
    "    lemmatized = [wnl.lemmatize(wnl.lemmatize(word, 'n'), 'v') for word in words]\n",
    "    return \" \".join(lemmatized)\n",
    "\n",
    "tweetData['lemmatizedText'] = tweetData[\"modTweet\"].apply(lambda x:lemmatizeTweet(x))"
   ]
  },
  {
   "cell_type": "code",
   "execution_count": 4,
   "metadata": {},
   "outputs": [],
   "source": [
    "labels = tf.keras.utils.to_categorical(labels, 3, dtype=\"float32\")\n",
    "tokenizer = Tokenizer(num_words=37320, split=' ')\n",
    "tokenizer.fit_on_texts(tweetData['lemmatizedText'].values)\n",
    "X = tokenizer.texts_to_sequences(tweetData['lemmatizedText'].values)\n",
    "X = pad_sequences(X)\n",
    "\n",
    "X_train, X_test, Y_train, Y_test = train_test_split(X, labels, test_size=0.3, random_state=42)"
   ]
  },
  {
   "cell_type": "code",
   "execution_count": 7,
   "metadata": {},
   "outputs": [
    {
     "name": "stdout",
     "output_type": "stream",
     "text": [
      "(68178, 43) (68178, 3)\n",
      "(29220, 43) (29220, 3)\n"
     ]
    }
   ],
   "source": [
    "print(X_train.shape,Y_train.shape)\n",
    "print(X_test.shape,Y_test.shape)"
   ]
  },
  {
   "cell_type": "markdown",
   "metadata": {},
   "source": [
    "## TRIAL 1"
   ]
  },
  {
   "cell_type": "code",
   "execution_count": 9,
   "metadata": {},
   "outputs": [
    {
     "name": "stdout",
     "output_type": "stream",
     "text": [
      "Model: \"sequential_1\"\n",
      "_________________________________________________________________\n",
      "Layer (type)                 Output Shape              Param #   \n",
      "=================================================================\n",
      "embedding_1 (Embedding)      (None, 43, 128)           4776960   \n",
      "_________________________________________________________________\n",
      "spatial_dropout1d_1 (Spatial (None, 43, 128)           0         \n",
      "_________________________________________________________________\n",
      "lstm_1 (LSTM)                (None, 196)               254800    \n",
      "_________________________________________________________________\n",
      "dense_1 (Dense)              (None, 3)                 591       \n",
      "=================================================================\n",
      "Total params: 5,032,351\n",
      "Trainable params: 5,032,351\n",
      "Non-trainable params: 0\n",
      "_________________________________________________________________\n",
      "None\n"
     ]
    }
   ],
   "source": [
    "max_words = 37320\n",
    "embed_dim = 128\n",
    "input_dim = 128\n",
    "optimizer = Adam(lr = 0.01)\n",
    "\n",
    "# Trial 1 - Baseline LSTM\n",
    "model = Sequential()\n",
    "model.add(Embedding(37320,embed_dim,input_length = X.shape[1]))\n",
    "model.add(SpatialDropout1D(0.4))\n",
    "model.add(LSTM(196, dropout=0.2, recurrent_dropout=0.2))\n",
    "model.add(Dense(3,activation='softmax'))\n",
    "model.compile(loss = 'categorical_crossentropy', optimizer='adam',metrics = ['accuracy'])\n",
    "print(model.summary())"
   ]
  },
  {
   "cell_type": "code",
   "execution_count": 10,
   "metadata": {
    "scrolled": false
   },
   "outputs": [
    {
     "name": "stdout",
     "output_type": "stream",
     "text": [
      "Epoch 1/25\n",
      "533/533 [==============================] - 286s 533ms/step - loss: 0.8071 - accuracy: 0.6236 - val_loss: 0.4393 - val_accuracy: 0.8528\n",
      "Epoch 2/25\n",
      "533/533 [==============================] - 351s 659ms/step - loss: 0.3855 - accuracy: 0.8709 - val_loss: 0.4188 - val_accuracy: 0.8621\n",
      "Epoch 3/25\n",
      "533/533 [==============================] - 345s 647ms/step - loss: 0.3333 - accuracy: 0.8921 - val_loss: 0.4198 - val_accuracy: 0.8610\n",
      "Epoch 4/25\n",
      "533/533 [==============================] - 369s 691ms/step - loss: 0.2973 - accuracy: 0.9057 - val_loss: 0.4239 - val_accuracy: 0.8603\n",
      "Epoch 5/25\n",
      "533/533 [==============================] - 647s 1s/step - loss: 0.2730 - accuracy: 0.9119 - val_loss: 0.4464 - val_accuracy: 0.8591\n",
      "Epoch 6/25\n",
      "533/533 [==============================] - 379s 712ms/step - loss: 0.2471 - accuracy: 0.9208 - val_loss: 0.4531 - val_accuracy: 0.8564\n",
      "Epoch 7/25\n",
      "533/533 [==============================] - 330s 619ms/step - loss: 0.2289 - accuracy: 0.9263 - val_loss: 0.4862 - val_accuracy: 0.8546\n",
      "Epoch 8/25\n",
      "533/533 [==============================] - 304s 571ms/step - loss: 0.2054 - accuracy: 0.9325 - val_loss: 0.5028 - val_accuracy: 0.8538\n",
      "Epoch 9/25\n",
      "533/533 [==============================] - 252s 473ms/step - loss: 0.1900 - accuracy: 0.9389 - val_loss: 0.5348 - val_accuracy: 0.8492\n",
      "Epoch 10/25\n",
      "533/533 [==============================] - 280s 525ms/step - loss: 0.1703 - accuracy: 0.9430 - val_loss: 0.5524 - val_accuracy: 0.8500\n",
      "Epoch 11/25\n",
      "533/533 [==============================] - 293s 551ms/step - loss: 0.1594 - accuracy: 0.9474 - val_loss: 0.5587 - val_accuracy: 0.8522\n",
      "Epoch 12/25\n",
      "533/533 [==============================] - 293s 550ms/step - loss: 0.1501 - accuracy: 0.9495 - val_loss: 0.5921 - val_accuracy: 0.8509\n",
      "Epoch 13/25\n",
      "533/533 [==============================] - 286s 536ms/step - loss: 0.1405 - accuracy: 0.9518 - val_loss: 0.6410 - val_accuracy: 0.8493\n",
      "Epoch 14/25\n",
      "533/533 [==============================] - 250s 469ms/step - loss: 0.1301 - accuracy: 0.9548 - val_loss: 0.6596 - val_accuracy: 0.8482\n",
      "Epoch 15/25\n",
      "533/533 [==============================] - 259s 485ms/step - loss: 0.1220 - accuracy: 0.9594 - val_loss: 0.6607 - val_accuracy: 0.8502\n",
      "Epoch 16/25\n",
      "533/533 [==============================] - 249s 467ms/step - loss: 0.1174 - accuracy: 0.9584 - val_loss: 0.7214 - val_accuracy: 0.8464\n",
      "Epoch 17/25\n",
      "533/533 [==============================] - 255s 478ms/step - loss: 0.1111 - accuracy: 0.9612 - val_loss: 0.7370 - val_accuracy: 0.8492\n",
      "Epoch 18/25\n",
      "533/533 [==============================] - 252s 473ms/step - loss: 0.1049 - accuracy: 0.9628 - val_loss: 0.7267 - val_accuracy: 0.8507\n",
      "Epoch 19/25\n",
      "533/533 [==============================] - 259s 486ms/step - loss: 0.0990 - accuracy: 0.9652 - val_loss: 0.7484 - val_accuracy: 0.8452\n",
      "Epoch 20/25\n",
      "533/533 [==============================] - 264s 496ms/step - loss: 0.0949 - accuracy: 0.9669 - val_loss: 0.7813 - val_accuracy: 0.8476\n",
      "Epoch 21/25\n",
      "533/533 [==============================] - 254s 476ms/step - loss: 0.0880 - accuracy: 0.9696 - val_loss: 0.8008 - val_accuracy: 0.8493\n",
      "Epoch 22/25\n",
      "533/533 [==============================] - 257s 483ms/step - loss: 0.0860 - accuracy: 0.9696 - val_loss: 0.8279 - val_accuracy: 0.8450\n",
      "Epoch 23/25\n",
      "533/533 [==============================] - 256s 480ms/step - loss: 0.0813 - accuracy: 0.9711 - val_loss: 0.8435 - val_accuracy: 0.8441\n",
      "Epoch 24/25\n",
      "533/533 [==============================] - 253s 474ms/step - loss: 0.0806 - accuracy: 0.9718 - val_loss: 0.8316 - val_accuracy: 0.8444\n",
      "Epoch 25/25\n",
      "533/533 [==============================] - 258s 485ms/step - loss: 0.0740 - accuracy: 0.9744 - val_loss: 0.8975 - val_accuracy: 0.8482\n"
     ]
    }
   ],
   "source": [
    "history = model.fit(X_train, Y_train, epochs = 25, batch_size=128, validation_data=(X_test, Y_test))"
   ]
  },
  {
   "cell_type": "code",
   "execution_count": 11,
   "metadata": {},
   "outputs": [
    {
     "data": {
      "image/png": "[encoded data removed]",
      "text/plain": [
       "<Figure size 432x288 with 1 Axes>"
      ]
     },
     "metadata": {
      "needs_background": "light"
     },
     "output_type": "display_data"
    }
   ],
   "source": [
    "#Plotting the accuracies\n",
    "plt.plot(history.history['accuracy'])\n",
    "plt.plot(history.history['val_accuracy'])\n",
    "plt.ylabel('Accuracy')\n",
    "plt.xlabel('Epochs')\n",
    "plt.legend(['train', 'test'], loc='upper left')\n",
    "plt.savefig('../models/Plots/Trial1_acc.png')"
   ]
  },
  {
   "cell_type": "code",
   "execution_count": 12,
   "metadata": {},
   "outputs": [
    {
     "data": {
      "image/png": "[encoded data removed]",
      "text/plain": [
       "<Figure size 432x288 with 1 Axes>"
      ]
     },
     "metadata": {
      "needs_background": "light"
     },
     "output_type": "display_data"
    }
   ],
   "source": [
    "#Plotting the losses\n",
    "plt.plot(history.history['loss'])\n",
    "plt.plot(history.history['val_loss'])\n",
    "plt.ylabel('Loss')\n",
    "plt.xlabel('Epochs')\n",
    "plt.legend(['train', 'test'], loc='upper left')\n",
    "plt.savefig('../models/Plots/Trial1_loss.png')"
   ]
  },
  {
   "cell_type": "code",
   "execution_count": 13,
   "metadata": {},
   "outputs": [
    {
     "name": "stdout",
     "output_type": "stream",
     "text": [
      "INFO:tensorflow:Assets written to: ../models/Trained-Models/trial1/assets\n"
     ]
    }
   ],
   "source": [
    "model.save('../models/Trained-Models/trial1')\n",
    "model.save('../models/Trained-Models/trial1.h5')"
   ]
  },
  {
   "cell_type": "markdown",
   "metadata": {},
   "source": [
    "## TRIAL 2"
   ]
  },
  {
   "cell_type": "code",
   "execution_count": 87,
   "metadata": {},
   "outputs": [
    {
     "name": "stdout",
     "output_type": "stream",
     "text": [
      "Model: \"sequential_20\"\n",
      "_________________________________________________________________\n",
      "Layer (type)                 Output Shape              Param #   \n",
      "=================================================================\n",
      "embedding_20 (Embedding)     (None, 43, 40)            1492800   \n",
      "_________________________________________________________________\n",
      "dropout_22 (Dropout)         (None, 43, 40)            0         \n",
      "_________________________________________________________________\n",
      "bidirectional_22 (Bidirectio (None, 43, 512)           608256    \n",
      "_________________________________________________________________\n",
      "dropout_23 (Dropout)         (None, 43, 512)           0         \n",
      "_________________________________________________________________\n",
      "bidirectional_23 (Bidirectio (None, 256)               656384    \n",
      "_________________________________________________________________\n",
      "dense_15 (Dense)             (None, 3)                 771       \n",
      "=================================================================\n",
      "Total params: 2,758,211\n",
      "Trainable params: 2,758,211\n",
      "Non-trainable params: 0\n",
      "_________________________________________________________________\n",
      "None\n"
     ]
    }
   ],
   "source": [
    "# Trial 2\n",
    "model2 = Sequential()\n",
    "model2.add(Embedding(37320,output_dim = 40,input_length = X.shape[1]))\n",
    "model2.add(Dropout(rate=0.5))\n",
    "model2.add(Bidirectional(LSTM(units=256, kernel_initializer= 'normal', return_sequences=True, kernel_constraint=maxnorm(4))))\n",
    "model2.add(Dropout(rate=0.5))\n",
    "model2.add(Bidirectional(LSTM(units=128, kernel_initializer= 'normal', return_sequences=False)))\n",
    "model2.add(Dense(3, activation='softmax'))\n",
    "optimizer = Adam(lr=0.001)\n",
    "model2.compile(loss='categorical_crossentropy', optimizer=optimizer, metrics=['categorical_accuracy'])\n",
    "\n",
    "print(model2.summary())"
   ]
  },
  {
   "cell_type": "code",
   "execution_count": 88,
   "metadata": {},
   "outputs": [
    {
     "name": "stdout",
     "output_type": "stream",
     "text": [
      "Epoch 1/25\n",
      "267/267 [==============================] - 596s 2s/step - loss: 0.8857 - categorical_accuracy: 0.5536 - val_loss: 0.4805 - val_categorical_accuracy: 0.8312\n",
      "Epoch 2/25\n",
      "267/267 [==============================] - 641s 2s/step - loss: 0.4507 - categorical_accuracy: 0.8419 - val_loss: 0.4235 - val_categorical_accuracy: 0.8593\n",
      "Epoch 3/25\n",
      "267/267 [==============================] - 1450s 5s/step - loss: 0.3790 - categorical_accuracy: 0.8741 - val_loss: 0.4169 - val_categorical_accuracy: 0.8626\n",
      "Epoch 4/25\n",
      "267/267 [==============================] - 570s 2s/step - loss: 0.3347 - categorical_accuracy: 0.8910 - val_loss: 0.4224 - val_categorical_accuracy: 0.8621\n",
      "Epoch 5/25\n",
      "267/267 [==============================] - 578s 2s/step - loss: 0.3193 - categorical_accuracy: 0.8957 - val_loss: 0.4280 - val_categorical_accuracy: 0.8601\n",
      "Epoch 6/25\n",
      "267/267 [==============================] - 562s 2s/step - loss: 0.2957 - categorical_accuracy: 0.9048 - val_loss: 0.4317 - val_categorical_accuracy: 0.8601\n",
      "Epoch 7/25\n",
      "267/267 [==============================] - 593s 2s/step - loss: 0.2789 - categorical_accuracy: 0.9096 - val_loss: 0.4560 - val_categorical_accuracy: 0.8569\n",
      "Epoch 8/25\n",
      "267/267 [==============================] - 573s 2s/step - loss: 0.2704 - categorical_accuracy: 0.9136 - val_loss: 0.4489 - val_categorical_accuracy: 0.8582\n",
      "Epoch 9/25\n",
      "267/267 [==============================] - 568s 2s/step - loss: 0.2551 - categorical_accuracy: 0.9177 - val_loss: 0.4691 - val_categorical_accuracy: 0.8546\n",
      "Epoch 10/25\n",
      "267/267 [==============================] - 558s 2s/step - loss: 0.2422 - categorical_accuracy: 0.9212 - val_loss: 0.4638 - val_categorical_accuracy: 0.8569\n",
      "Epoch 11/25\n",
      "267/267 [==============================] - 574s 2s/step - loss: 0.2276 - categorical_accuracy: 0.9258 - val_loss: 0.4661 - val_categorical_accuracy: 0.8505\n",
      "Epoch 12/25\n",
      "267/267 [==============================] - 556s 2s/step - loss: 0.2197 - categorical_accuracy: 0.9274 - val_loss: 0.5037 - val_categorical_accuracy: 0.8540\n",
      "Epoch 13/25\n",
      "267/267 [==============================] - 558s 2s/step - loss: 0.2087 - categorical_accuracy: 0.9297 - val_loss: 0.5014 - val_categorical_accuracy: 0.8552\n",
      "Epoch 14/25\n",
      "267/267 [==============================] - 549s 2s/step - loss: 0.2030 - categorical_accuracy: 0.9312 - val_loss: 0.5634 - val_categorical_accuracy: 0.8523\n",
      "Epoch 15/25\n",
      "267/267 [==============================] - 544s 2s/step - loss: 0.1929 - categorical_accuracy: 0.9366 - val_loss: 0.5281 - val_categorical_accuracy: 0.8527\n",
      "Epoch 16/25\n",
      "267/267 [==============================] - 622s 2s/step - loss: 0.1900 - categorical_accuracy: 0.9368 - val_loss: 0.5287 - val_categorical_accuracy: 0.8514\n",
      "Epoch 17/25\n",
      "267/267 [==============================] - 541s 2s/step - loss: 0.1810 - categorical_accuracy: 0.9386 - val_loss: 0.5337 - val_categorical_accuracy: 0.8551\n",
      "Epoch 18/25\n",
      "267/267 [==============================] - 525s 2s/step - loss: 0.1731 - categorical_accuracy: 0.9423 - val_loss: 0.5561 - val_categorical_accuracy: 0.8548\n",
      "Epoch 19/25\n",
      "267/267 [==============================] - 524s 2s/step - loss: 0.1666 - categorical_accuracy: 0.9443 - val_loss: 0.5606 - val_categorical_accuracy: 0.8521\n",
      "Epoch 20/25\n",
      "267/267 [==============================] - 523s 2s/step - loss: 0.1668 - categorical_accuracy: 0.9419 - val_loss: 0.5764 - val_categorical_accuracy: 0.8517\n",
      "Epoch 21/25\n",
      "267/267 [==============================] - 523s 2s/step - loss: 0.1632 - categorical_accuracy: 0.9435 - val_loss: 0.5671 - val_categorical_accuracy: 0.8482\n",
      "Epoch 22/25\n",
      "267/267 [==============================] - 515s 2s/step - loss: 0.1552 - categorical_accuracy: 0.9461 - val_loss: 0.6352 - val_categorical_accuracy: 0.8523\n",
      "Epoch 23/25\n",
      "267/267 [==============================] - 518s 2s/step - loss: 0.1520 - categorical_accuracy: 0.9496 - val_loss: 0.5716 - val_categorical_accuracy: 0.8513\n",
      "Epoch 24/25\n",
      "267/267 [==============================] - 524s 2s/step - loss: 0.1507 - categorical_accuracy: 0.9481 - val_loss: 0.6176 - val_categorical_accuracy: 0.8492\n",
      "Epoch 25/25\n",
      "267/267 [==============================] - 517s 2s/step - loss: 0.1492 - categorical_accuracy: 0.9477 - val_loss: 0.6503 - val_categorical_accuracy: 0.8540\n"
     ]
    }
   ],
   "source": [
    "history2 = model2.fit(X_train, Y_train, epochs = 25, batch_size=256, validation_data=(X_test, Y_test))"
   ]
  },
  {
   "cell_type": "code",
   "execution_count": 89,
   "metadata": {},
   "outputs": [
    {
     "data": {
      "text/plain": [
       "<matplotlib.legend.Legend at 0x7fe788f71df0>"
      ]
     },
     "execution_count": 89,
     "metadata": {},
     "output_type": "execute_result"
    },
    {
     "data": {
      "image/png": "[encoded data removed]",
      "text/plain": [
       "<Figure size 432x288 with 1 Axes>"
      ]
     },
     "metadata": {
      "needs_background": "light"
     },
     "output_type": "display_data"
    }
   ],
   "source": [
    "#Plotting the accuracies\n",
    "plt.plot(history2.history['categorical_accuracy'])\n",
    "plt.plot(history2.history['val_categorical_accuracy'])\n",
    "plt.ylabel('Accuracy')\n",
    "plt.xlabel('Epochs')\n",
    "plt.legend(['train', 'test'], loc='upper left')\n",
    "plt.savefig('../models/Plots/Trial2_acc.png')"
   ]
  },
  {
   "cell_type": "code",
   "execution_count": 90,
   "metadata": {},
   "outputs": [
    {
     "data": {
      "text/plain": [
       "<matplotlib.legend.Legend at 0x7fe788f71940>"
      ]
     },
     "execution_count": 90,
     "metadata": {},
     "output_type": "execute_result"
    },
    {
     "data": {
      "image/png": "[encoded data removed]",
      "text/plain": [
       "<Figure size 432x288 with 1 Axes>"
      ]
     },
     "metadata": {
      "needs_background": "light"
     },
     "output_type": "display_data"
    }
   ],
   "source": [
    "#Plotting the losses\n",
    "plt.plot(history.history['loss'])\n",
    "plt.plot(history.history['val_loss'])\n",
    "plt.ylabel('Loss')\n",
    "plt.xlabel('Epochs')\n",
    "plt.legend(['train', 'test'], loc='upper left')\n",
    "plt.savefig('../models/Plots/Trial2_loss.png')"
   ]
  },
  {
   "cell_type": "code",
   "execution_count": 91,
   "metadata": {},
   "outputs": [
    {
     "name": "stderr",
     "output_type": "stream",
     "text": [
      "WARNING:absl:Found untraced functions such as lstm_cell_67_layer_call_and_return_conditional_losses, lstm_cell_67_layer_call_fn, lstm_cell_68_layer_call_and_return_conditional_losses, lstm_cell_68_layer_call_fn, lstm_cell_70_layer_call_and_return_conditional_losses while saving (showing 5 of 20). These functions will not be directly callable after loading.\n",
      "WARNING:absl:Found untraced functions such as lstm_cell_67_layer_call_and_return_conditional_losses, lstm_cell_67_layer_call_fn, lstm_cell_68_layer_call_and_return_conditional_losses, lstm_cell_68_layer_call_fn, lstm_cell_70_layer_call_and_return_conditional_losses while saving (showing 5 of 20). These functions will not be directly callable after loading.\n"
     ]
    },
    {
     "name": "stdout",
     "output_type": "stream",
     "text": [
      "INFO:tensorflow:Assets written to: ../models/Trained-Models/trial2/assets\n"
     ]
    },
    {
     "name": "stderr",
     "output_type": "stream",
     "text": [
      "INFO:tensorflow:Assets written to: ../models/Trained-Models/trial2/assets\n"
     ]
    }
   ],
   "source": [
    "model2.save('../models/Trained-Models/trial2')\n",
    "model2.save('../models/Trained-Models/trial2.h5')"
   ]
  },
  {
   "cell_type": "markdown",
   "metadata": {},
   "source": [
    "## TRIAL 3"
   ]
  },
  {
   "cell_type": "code",
   "execution_count": 14,
   "metadata": {},
   "outputs": [
    {
     "name": "stdout",
     "output_type": "stream",
     "text": [
      "Model: \"sequential_1\"\n",
      "_________________________________________________________________\n",
      "Layer (type)                 Output Shape              Param #   \n",
      "=================================================================\n",
      "embedding_1 (Embedding)      (None, 43, 128)           4776960   \n",
      "_________________________________________________________________\n",
      "spatial_dropout1d_1 (Spatial (None, 43, 128)           0         \n",
      "_________________________________________________________________\n",
      "lstm_1 (LSTM)                (None, 196)               254800    \n",
      "_________________________________________________________________\n",
      "dense_1 (Dense)              (None, 3)                 591       \n",
      "=================================================================\n",
      "Total params: 5,032,351\n",
      "Trainable params: 5,032,351\n",
      "Non-trainable params: 0\n",
      "_________________________________________________________________\n",
      "None\n"
     ]
    }
   ],
   "source": [
    "# Trial 3 - (25, 64)\n",
    "model3 = Sequential()\n",
    "model3.add(Embedding(max_words, 40, input_length = X.shape[1]))\n",
    "model3.add(Conv1D(20, 6, activation='relu', kernel_regularizer = regularizers.l1_l2(l1=2e-3, l2=2e-3), bias_regularizer=regularizers.l2(2e-3)))\n",
    "model3.add(MaxPooling1D(5))\n",
    "model3.add(Conv1D(20, 6, activation='relu', kernel_regularizer = regularizers.l1_l2(l1=2e-3, l2=2e-3), bias_regularizer=regularizers.l2(2e-3)))\n",
    "model3.add(GlobalMaxPooling1D())\n",
    "model3.add(Dense(3, activation='softmax'))\n",
    "model3.compile(optimizer = 'rmsprop', loss = 'categorical_crossentropy', metrics = ['acc'])\n",
    "\n",
    "print(model.summary())"
   ]
  },
  {
   "cell_type": "code",
   "execution_count": 15,
   "metadata": {},
   "outputs": [
    {
     "name": "stdout",
     "output_type": "stream",
     "text": [
      "Epoch 1/25\n",
      "1066/1066 [==============================] - 13s 11ms/step - loss: 1.2619 - acc: 0.3654 - val_loss: 1.1044 - val_acc: 0.3590\n",
      "Epoch 2/25\n",
      "1066/1066 [==============================] - 12s 11ms/step - loss: 1.1049 - acc: 0.3557 - val_loss: 1.1048 - val_acc: 0.3590\n",
      "Epoch 3/25\n",
      "1066/1066 [==============================] - 11s 11ms/step - loss: 1.1041 - acc: 0.3614 - val_loss: 1.1046 - val_acc: 0.3590\n",
      "Epoch 4/25\n",
      "1066/1066 [==============================] - 11s 11ms/step - loss: 1.1042 - acc: 0.3617 - val_loss: 1.1047 - val_acc: 0.3590\n",
      "Epoch 5/25\n",
      "1066/1066 [==============================] - 14s 13ms/step - loss: 1.1029 - acc: 0.3626 - val_loss: 1.0564 - val_acc: 0.4529\n",
      "Epoch 6/25\n",
      "1066/1066 [==============================] - 13s 13ms/step - loss: 1.0470 - acc: 0.4639 - val_loss: 1.0290 - val_acc: 0.4813\n",
      "Epoch 7/25\n",
      "1066/1066 [==============================] - 13s 12ms/step - loss: 1.0232 - acc: 0.4909 - val_loss: 1.0130 - val_acc: 0.5026\n",
      "Epoch 8/25\n",
      "1066/1066 [==============================] - 13s 12ms/step - loss: 1.0032 - acc: 0.5099 - val_loss: 1.0035 - val_acc: 0.5187\n",
      "Epoch 9/25\n",
      "1066/1066 [==============================] - 12s 12ms/step - loss: 0.9832 - acc: 0.5374 - val_loss: 0.9919 - val_acc: 0.5339\n",
      "Epoch 10/25\n",
      "1066/1066 [==============================] - 13s 12ms/step - loss: 0.9730 - acc: 0.5520 - val_loss: 0.9874 - val_acc: 0.5346\n",
      "Epoch 11/25\n",
      "1066/1066 [==============================] - 13s 12ms/step - loss: 0.9596 - acc: 0.5647 - val_loss: 0.9853 - val_acc: 0.5415\n",
      "Epoch 12/25\n",
      "1066/1066 [==============================] - 13s 12ms/step - loss: 0.9480 - acc: 0.5799 - val_loss: 0.9803 - val_acc: 0.5459\n",
      "Epoch 13/25\n",
      "1066/1066 [==============================] - 13s 13ms/step - loss: 0.9350 - acc: 0.5883 - val_loss: 0.9764 - val_acc: 0.5450\n",
      "Epoch 14/25\n",
      "1066/1066 [==============================] - 15s 14ms/step - loss: 0.9291 - acc: 0.5946 - val_loss: 0.9774 - val_acc: 0.5486\n",
      "Epoch 15/25\n",
      "1066/1066 [==============================] - 15s 14ms/step - loss: 0.9179 - acc: 0.6054 - val_loss: 0.9772 - val_acc: 0.5512\n",
      "Epoch 16/25\n",
      "1066/1066 [==============================] - 14s 13ms/step - loss: 0.9066 - acc: 0.6133 - val_loss: 0.9805 - val_acc: 0.5514\n",
      "Epoch 17/25\n",
      "1066/1066 [==============================] - 13s 12ms/step - loss: 0.8973 - acc: 0.6193 - val_loss: 0.9836 - val_acc: 0.5518\n",
      "Epoch 18/25\n",
      "1066/1066 [==============================] - 12s 12ms/step - loss: 0.8913 - acc: 0.6232 - val_loss: 0.9861 - val_acc: 0.5529\n",
      "Epoch 19/25\n",
      "1066/1066 [==============================] - 12s 12ms/step - loss: 0.8829 - acc: 0.6314 - val_loss: 0.9856 - val_acc: 0.5497\n",
      "Epoch 20/25\n",
      "1066/1066 [==============================] - 12s 12ms/step - loss: 0.8689 - acc: 0.6405 - val_loss: 1.0035 - val_acc: 0.5497\n",
      "Epoch 21/25\n",
      "1066/1066 [==============================] - 14s 13ms/step - loss: 0.8660 - acc: 0.6398 - val_loss: 0.9951 - val_acc: 0.5538\n",
      "Epoch 22/25\n",
      "1066/1066 [==============================] - 15s 14ms/step - loss: 0.8547 - acc: 0.6470 - val_loss: 0.9959 - val_acc: 0.5524\n",
      "Epoch 23/25\n",
      "1066/1066 [==============================] - 12s 12ms/step - loss: 0.8480 - acc: 0.6488 - val_loss: 0.9946 - val_acc: 0.5527\n",
      "Epoch 24/25\n",
      "1066/1066 [==============================] - 12s 12ms/step - loss: 0.8371 - acc: 0.6563 - val_loss: 1.0345 - val_acc: 0.4818\n",
      "Epoch 25/25\n",
      "1066/1066 [==============================] - 12s 12ms/step - loss: 0.8337 - acc: 0.6572 - val_loss: 1.0120 - val_acc: 0.5442\n"
     ]
    }
   ],
   "source": [
    "history3 = model3.fit(X_train, Y_train, epochs = 25, batch_size=64, validation_data=(X_test, Y_test))"
   ]
  },
  {
   "cell_type": "code",
   "execution_count": 16,
   "metadata": {},
   "outputs": [
    {
     "data": {
      "image/png": "[encoded data removed]",
      "text/plain": [
       "<Figure size 432x288 with 1 Axes>"
      ]
     },
     "metadata": {
      "needs_background": "light"
     },
     "output_type": "display_data"
    }
   ],
   "source": [
    "#Plotting the accuracies\n",
    "plt.plot(history3.history['acc'])\n",
    "plt.plot(history3.history['acc'])\n",
    "plt.ylabel('Accuracy')\n",
    "plt.xlabel('Epochs')\n",
    "plt.legend(['train', 'test'], loc='upper left')\n",
    "plt.savefig('../models/Plots/Trial3_acc.png')"
   ]
  },
  {
   "cell_type": "code",
   "execution_count": 17,
   "metadata": {},
   "outputs": [
    {
     "data": {
      "image/png": "[encoded data removed]",
      "text/plain": [
       "<Figure size 432x288 with 1 Axes>"
      ]
     },
     "metadata": {
      "needs_background": "light"
     },
     "output_type": "display_data"
    }
   ],
   "source": [
    "#Plotting the losses\n",
    "plt.plot(history3.history['loss'])\n",
    "plt.plot(history3.history['val_loss'])\n",
    "plt.ylabel('Loss')\n",
    "plt.xlabel('Epochs')\n",
    "plt.legend(['train', 'test'], loc='upper left')\n",
    "plt.savefig('../models/Plots/Trial3_loss.png')"
   ]
  },
  {
   "cell_type": "code",
   "execution_count": 18,
   "metadata": {},
   "outputs": [
    {
     "name": "stdout",
     "output_type": "stream",
     "text": [
      "INFO:tensorflow:Assets written to: ../models/Trained-Models/trial3/assets\n"
     ]
    }
   ],
   "source": [
    "model3.save('../models/Trained-Models/trial3')\n",
    "model3.save('../models/Trained-Models/trial3.h5')"
   ]
  },
  {
   "cell_type": "markdown",
   "metadata": {},
   "source": [
    "## TRIAL 4"
   ]
  },
  {
   "cell_type": "code",
   "execution_count": 22,
   "metadata": {},
   "outputs": [
    {
     "name": "stdout",
     "output_type": "stream",
     "text": [
      "Model: \"sequential_6\"\n",
      "_________________________________________________________________\n",
      "Layer (type)                 Output Shape              Param #   \n",
      "=================================================================\n",
      "embedding_6 (Embedding)      (None, 43, 50)            1866000   \n",
      "_________________________________________________________________\n",
      "spatial_dropout1d_5 (Spatial (None, 43, 50)            0         \n",
      "_________________________________________________________________\n",
      "lstm_5 (LSTM)                (None, 64)                29440     \n",
      "_________________________________________________________________\n",
      "dense_6 (Dense)              (None, 3)                 195       \n",
      "=================================================================\n",
      "Total params: 1,895,635\n",
      "Trainable params: 1,895,635\n",
      "Non-trainable params: 0\n",
      "_________________________________________________________________\n",
      "None\n"
     ]
    }
   ],
   "source": [
    "max_words = 37320\n",
    "embed_dim = 50\n",
    "input_dim = 128\n",
    "optimizer = Adam(lr = 0.01)\n",
    "\n",
    "# Trial 4\n",
    "model4 = Sequential()\n",
    "model4.add(Embedding(37320,embed_dim,input_length = X.shape[1]))\n",
    "model4.add(SpatialDropout1D(0.25))\n",
    "model4.add(LSTM(64, dropout=0.4, recurrent_dropout=0.7))\n",
    "model4.add(Dense(3,activation='softmax'))\n",
    "model4.compile(loss = 'categorical_crossentropy', optimizer='adam',metrics = ['accuracy'])\n",
    "print(model4.summary())"
   ]
  },
  {
   "cell_type": "code",
   "execution_count": 23,
   "metadata": {},
   "outputs": [
    {
     "name": "stdout",
     "output_type": "stream",
     "text": [
      "Epoch 1/25\n",
      "1066/1066 [==============================] - 202s 185ms/step - loss: 0.8279 - accuracy: 0.6103 - val_loss: 0.4461 - val_accuracy: 0.8508\n",
      "Epoch 2/25\n",
      "1066/1066 [==============================] - 189s 177ms/step - loss: 0.4140 - accuracy: 0.8624 - val_loss: 0.4175 - val_accuracy: 0.8621\n",
      "Epoch 3/25\n",
      "1066/1066 [==============================] - 143s 134ms/step - loss: 0.3563 - accuracy: 0.8834 - val_loss: 0.4219 - val_accuracy: 0.8606\n",
      "Epoch 4/25\n",
      "1066/1066 [==============================] - 124s 117ms/step - loss: 0.3254 - accuracy: 0.8947 - val_loss: 0.4231 - val_accuracy: 0.8616\n",
      "Epoch 5/25\n",
      "1066/1066 [==============================] - 126s 119ms/step - loss: 0.3024 - accuracy: 0.9036 - val_loss: 0.4375 - val_accuracy: 0.8606\n",
      "Epoch 6/25\n",
      "1066/1066 [==============================] - 132s 124ms/step - loss: 0.2874 - accuracy: 0.9078 - val_loss: 0.4415 - val_accuracy: 0.8598\n",
      "Epoch 7/25\n",
      "1066/1066 [==============================] - 120s 112ms/step - loss: 0.2743 - accuracy: 0.9121 - val_loss: 0.4471 - val_accuracy: 0.8541\n",
      "Epoch 8/25\n",
      "1066/1066 [==============================] - 125s 117ms/step - loss: 0.2606 - accuracy: 0.9161 - val_loss: 0.4657 - val_accuracy: 0.8529\n",
      "Epoch 9/25\n",
      "1066/1066 [==============================] - 132s 124ms/step - loss: 0.2495 - accuracy: 0.9194 - val_loss: 0.4759 - val_accuracy: 0.8535\n",
      "Epoch 10/25\n",
      "1066/1066 [==============================] - 141s 132ms/step - loss: 0.2326 - accuracy: 0.9243 - val_loss: 0.4948 - val_accuracy: 0.8478\n",
      "Epoch 11/25\n",
      "1066/1066 [==============================] - 144s 135ms/step - loss: 0.2281 - accuracy: 0.9259 - val_loss: 0.4983 - val_accuracy: 0.8527\n",
      "Epoch 12/25\n",
      "1066/1066 [==============================] - 143s 134ms/step - loss: 0.2166 - accuracy: 0.9298 - val_loss: 0.5107 - val_accuracy: 0.8475\n",
      "Epoch 13/25\n",
      "1066/1066 [==============================] - 201s 189ms/step - loss: 0.2096 - accuracy: 0.9323 - val_loss: 0.5266 - val_accuracy: 0.8462\n",
      "Epoch 14/25\n",
      "1066/1066 [==============================] - 154s 144ms/step - loss: 0.2032 - accuracy: 0.9328 - val_loss: 0.5537 - val_accuracy: 0.8437\n",
      "Epoch 15/25\n",
      "1066/1066 [==============================] - 148s 139ms/step - loss: 0.1912 - accuracy: 0.9359 - val_loss: 0.5770 - val_accuracy: 0.8447\n",
      "Epoch 16/25\n",
      "1066/1066 [==============================] - 122s 114ms/step - loss: 0.1895 - accuracy: 0.9382 - val_loss: 0.5663 - val_accuracy: 0.8472\n",
      "Epoch 17/25\n",
      "1066/1066 [==============================] - 121s 114ms/step - loss: 0.1832 - accuracy: 0.9386 - val_loss: 0.5963 - val_accuracy: 0.8466\n",
      "Epoch 18/25\n",
      "1066/1066 [==============================] - 88s 82ms/step - loss: 0.1755 - accuracy: 0.9413 - val_loss: 0.6137 - val_accuracy: 0.8438\n",
      "Epoch 19/25\n",
      "1066/1066 [==============================] - 86s 80ms/step - loss: 0.1691 - accuracy: 0.9437 - val_loss: 0.6473 - val_accuracy: 0.8427\n",
      "Epoch 20/25\n",
      "1066/1066 [==============================] - 186s 174ms/step - loss: 0.1683 - accuracy: 0.9427 - val_loss: 0.6443 - val_accuracy: 0.8415\n",
      "Epoch 21/25\n",
      "1066/1066 [==============================] - 99s 93ms/step - loss: 0.1640 - accuracy: 0.9448 - val_loss: 0.6726 - val_accuracy: 0.8407\n",
      "Epoch 22/25\n",
      "1066/1066 [==============================] - 102s 95ms/step - loss: 0.1600 - accuracy: 0.9461 - val_loss: 0.6974 - val_accuracy: 0.8390\n",
      "Epoch 23/25\n",
      "1066/1066 [==============================] - 102s 95ms/step - loss: 0.1581 - accuracy: 0.9457 - val_loss: 0.7047 - val_accuracy: 0.8391\n",
      "Epoch 24/25\n",
      "1066/1066 [==============================] - 99s 93ms/step - loss: 0.1497 - accuracy: 0.9486 - val_loss: 0.7148 - val_accuracy: 0.8389\n",
      "Epoch 25/25\n",
      "1066/1066 [==============================] - 98s 92ms/step - loss: 0.1532 - accuracy: 0.9475 - val_loss: 0.7407 - val_accuracy: 0.8383\n"
     ]
    }
   ],
   "source": [
    "history4 = model4.fit(X_train, Y_train, epochs = 25, batch_size=64, validation_data=(X_test, Y_test))"
   ]
  },
  {
   "cell_type": "code",
   "execution_count": 24,
   "metadata": {},
   "outputs": [
    {
     "data": {
      "image/png": "[encoded data removed]",
      "text/plain": [
       "<Figure size 432x288 with 1 Axes>"
      ]
     },
     "metadata": {
      "needs_background": "light"
     },
     "output_type": "display_data"
    }
   ],
   "source": [
    "#Plotting the accuracies\n",
    "plt.plot(history4.history['accuracy'])\n",
    "plt.plot(history4.history['val_accuracy'])\n",
    "plt.ylabel('Accuracy')\n",
    "plt.xlabel('Epochs')\n",
    "plt.legend(['train', 'test'], loc='upper left')\n",
    "plt.savefig('../models/Plots/Trial4_acc.png')"
   ]
  },
  {
   "cell_type": "code",
   "execution_count": 25,
   "metadata": {},
   "outputs": [
    {
     "data": {
      "image/png": "[encoded data removed]",
      "text/plain": [
       "<Figure size 432x288 with 1 Axes>"
      ]
     },
     "metadata": {
      "needs_background": "light"
     },
     "output_type": "display_data"
    }
   ],
   "source": [
    "#Plotting the losses\n",
    "plt.plot(history4.history['loss'])\n",
    "plt.plot(history4.history['val_loss'])\n",
    "plt.ylabel('Loss')\n",
    "plt.xlabel('Epochs')\n",
    "plt.legend(['train', 'test'], loc='upper left')\n",
    "plt.savefig('../models/Plots/Trial4_loss.png')"
   ]
  },
  {
   "cell_type": "code",
   "execution_count": 26,
   "metadata": {},
   "outputs": [
    {
     "name": "stdout",
     "output_type": "stream",
     "text": [
      "INFO:tensorflow:Assets written to: ../models/Trained-Models/trial4/assets\n"
     ]
    }
   ],
   "source": [
    "model4.save('../models/Trained-Models/trial4')\n",
    "model4.save('../models/Trained-Models/trial4.h5')"
   ]
  },
  {
   "cell_type": "markdown",
   "metadata": {},
   "source": [
    "## TRIAL 5"
   ]
  },
  {
   "cell_type": "code",
   "execution_count": 33,
   "metadata": {},
   "outputs": [
    {
     "name": "stdout",
     "output_type": "stream",
     "text": [
      "Model: \"sequential_9\"\n",
      "_________________________________________________________________\n",
      "Layer (type)                 Output Shape              Param #   \n",
      "=================================================================\n",
      "embedding_9 (Embedding)      (None, 43, 20)            746400    \n",
      "_________________________________________________________________\n",
      "dropout_4 (Dropout)          (None, 43, 20)            0         \n",
      "_________________________________________________________________\n",
      "bidirectional_4 (Bidirection (None, 43, 512)           567296    \n",
      "_________________________________________________________________\n",
      "dropout_5 (Dropout)          (None, 43, 512)           0         \n",
      "_________________________________________________________________\n",
      "bidirectional_5 (Bidirection (None, 256)               656384    \n",
      "_________________________________________________________________\n",
      "dense_9 (Dense)              (None, 3)                 771       \n",
      "=================================================================\n",
      "Total params: 1,970,851\n",
      "Trainable params: 1,970,851\n",
      "Non-trainable params: 0\n",
      "_________________________________________________________________\n",
      "None\n"
     ]
    }
   ],
   "source": [
    "# Trial 5\n",
    "model5 = Sequential()\n",
    "model5.add(Embedding(37320,output_dim = 20,input_length = X.shape[1]))\n",
    "model5.add(Dropout(rate=0.5))\n",
    "model5.add(Bidirectional(LSTM(units=256, kernel_initializer= 'normal', return_sequences=True, kernel_constraint=maxnorm(4))))\n",
    "model5.add(Dropout(rate=0.5))\n",
    "model5.add(Bidirectional(LSTM(units=128, kernel_initializer= 'normal', return_sequences=False)))\n",
    "model5.add(Dense(3, activation='softmax'))\n",
    "optimizer = Adam(lr=0.01)\n",
    "model5.compile(loss='categorical_crossentropy', optimizer=optimizer, metrics=['categorical_accuracy'])\n",
    "\n",
    "print(model5.summary())"
   ]
  },
  {
   "cell_type": "code",
   "execution_count": 34,
   "metadata": {},
   "outputs": [
    {
     "name": "stdout",
     "output_type": "stream",
     "text": [
      "Epoch 1/25\n",
      "134/134 [==============================] - 644s 5s/step - loss: 0.9674 - categorical_accuracy: 0.4881 - val_loss: 0.4563 - val_categorical_accuracy: 0.8515\n",
      "Epoch 2/25\n",
      "134/134 [==============================] - 480s 4s/step - loss: 0.4423 - categorical_accuracy: 0.8500 - val_loss: 0.4256 - val_categorical_accuracy: 0.8623\n",
      "Epoch 3/25\n",
      "134/134 [==============================] - 488s 4s/step - loss: 0.3756 - categorical_accuracy: 0.8749 - val_loss: 0.4289 - val_categorical_accuracy: 0.8569\n",
      "Epoch 4/25\n",
      "134/134 [==============================] - 485s 4s/step - loss: 0.3462 - categorical_accuracy: 0.8869 - val_loss: 0.4313 - val_categorical_accuracy: 0.8562\n",
      "Epoch 5/25\n",
      "134/134 [==============================] - 470s 4s/step - loss: 0.3206 - categorical_accuracy: 0.8953 - val_loss: 0.4418 - val_categorical_accuracy: 0.8596\n",
      "Epoch 6/25\n",
      "134/134 [==============================] - 465s 3s/step - loss: 0.3032 - categorical_accuracy: 0.9005 - val_loss: 0.4555 - val_categorical_accuracy: 0.8576\n",
      "Epoch 7/25\n",
      "134/134 [==============================] - 471s 4s/step - loss: 0.2878 - categorical_accuracy: 0.9059 - val_loss: 0.4538 - val_categorical_accuracy: 0.8544\n",
      "Epoch 8/25\n",
      "134/134 [==============================] - 930s 7s/step - loss: 0.2708 - categorical_accuracy: 0.9107 - val_loss: 0.4560 - val_categorical_accuracy: 0.8586\n",
      "Epoch 9/25\n",
      "134/134 [==============================] - 2513s 19s/step - loss: 0.2550 - categorical_accuracy: 0.9164 - val_loss: 0.4881 - val_categorical_accuracy: 0.8570\n",
      "Epoch 10/25\n",
      "134/134 [==============================] - 2336s 17s/step - loss: 0.2510 - categorical_accuracy: 0.9167 - val_loss: 0.4731 - val_categorical_accuracy: 0.8573\n",
      "Epoch 11/25\n",
      "134/134 [==============================] - 7122s 53s/step - loss: 0.2466 - categorical_accuracy: 0.9176 - val_loss: 0.5179 - val_categorical_accuracy: 0.8522\n",
      "Epoch 12/25\n",
      "134/134 [==============================] - 2148s 16s/step - loss: 0.2393 - categorical_accuracy: 0.9193 - val_loss: 0.4977 - val_categorical_accuracy: 0.8519\n",
      "Epoch 13/25\n",
      "134/134 [==============================] - 5681s 43s/step - loss: 0.2332 - categorical_accuracy: 0.9235 - val_loss: 0.5089 - val_categorical_accuracy: 0.8548\n",
      "Epoch 14/25\n",
      "134/134 [==============================] - 12417s 86s/step - loss: 0.2303 - categorical_accuracy: 0.9238 - val_loss: 0.5242 - val_categorical_accuracy: 0.8539\n",
      "Epoch 15/25\n",
      "134/134 [==============================] - 465s 3s/step - loss: 0.2241 - categorical_accuracy: 0.9268 - val_loss: 0.5283 - val_categorical_accuracy: 0.8531\n",
      "Epoch 16/25\n",
      "134/134 [==============================] - 473s 4s/step - loss: 0.2235 - categorical_accuracy: 0.9254 - val_loss: 0.5510 - val_categorical_accuracy: 0.8543\n",
      "Epoch 17/25\n",
      "134/134 [==============================] - 473s 4s/step - loss: 0.2160 - categorical_accuracy: 0.9280 - val_loss: 0.5258 - val_categorical_accuracy: 0.8527\n",
      "Epoch 18/25\n",
      "134/134 [==============================] - 473s 4s/step - loss: 0.2163 - categorical_accuracy: 0.9276 - val_loss: 0.5419 - val_categorical_accuracy: 0.8535\n",
      "Epoch 19/25\n",
      "134/134 [==============================] - 523s 4s/step - loss: 0.2151 - categorical_accuracy: 0.9273 - val_loss: 0.5609 - val_categorical_accuracy: 0.8508\n",
      "Epoch 20/25\n",
      "134/134 [==============================] - 950s 7s/step - loss: 0.2084 - categorical_accuracy: 0.9299 - val_loss: 0.5597 - val_categorical_accuracy: 0.8516\n",
      "Epoch 21/25\n",
      "134/134 [==============================] - 786s 6s/step - loss: 0.2104 - categorical_accuracy: 0.9307 - val_loss: 0.5524 - val_categorical_accuracy: 0.8490\n",
      "Epoch 22/25\n",
      "134/134 [==============================] - 753s 6s/step - loss: 0.2025 - categorical_accuracy: 0.9311 - val_loss: 0.5519 - val_categorical_accuracy: 0.8528\n",
      "Epoch 23/25\n",
      "134/134 [==============================] - 818s 6s/step - loss: 0.2015 - categorical_accuracy: 0.9324 - val_loss: 0.5826 - val_categorical_accuracy: 0.8485\n",
      "Epoch 24/25\n",
      "134/134 [==============================] - 779s 6s/step - loss: 0.2009 - categorical_accuracy: 0.9323 - val_loss: 0.5377 - val_categorical_accuracy: 0.8529\n",
      "Epoch 25/25\n",
      "134/134 [==============================] - 505s 4s/step - loss: 0.1990 - categorical_accuracy: 0.9321 - val_loss: 0.5576 - val_categorical_accuracy: 0.8518\n"
     ]
    }
   ],
   "source": [
    "history5 = model5.fit(X_train, Y_train, epochs = 25, batch_size=512, validation_data=(X_test, Y_test))"
   ]
  },
  {
   "cell_type": "code",
   "execution_count": 35,
   "metadata": {},
   "outputs": [
    {
     "data": {
      "image/png": "[encoded data removed]",
      "text/plain": [
       "<Figure size 432x288 with 1 Axes>"
      ]
     },
     "metadata": {
      "needs_background": "light"
     },
     "output_type": "display_data"
    }
   ],
   "source": [
    "#Plotting the accuracies\n",
    "plt.plot(history5.history['categorical_accuracy'])\n",
    "plt.plot(history5.history['val_categorical_accuracy'])\n",
    "plt.ylabel('Accuracy')\n",
    "plt.xlabel('Epochs')\n",
    "plt.legend(['train', 'test'], loc='upper left')\n",
    "plt.savefig('../models/Plots/Trial5_acc.png')"
   ]
  },
  {
   "cell_type": "code",
   "execution_count": 36,
   "metadata": {},
   "outputs": [
    {
     "data": {
      "image/png": "[encoded data removed]",
      "text/plain": [
       "<Figure size 432x288 with 1 Axes>"
      ]
     },
     "metadata": {
      "needs_background": "light"
     },
     "output_type": "display_data"
    }
   ],
   "source": [
    "#Plotting the losses\n",
    "plt.plot(history5.history['loss'])\n",
    "plt.plot(history5.history['val_loss'])\n",
    "plt.ylabel('Loss')\n",
    "plt.xlabel('Epochs')\n",
    "plt.legend(['train', 'test'], loc='upper left')\n",
    "plt.savefig('../models/Plots/Trial5_loss.png')"
   ]
  },
  {
   "cell_type": "code",
   "execution_count": 38,
   "metadata": {},
   "outputs": [
    {
     "name": "stderr",
     "output_type": "stream",
     "text": [
      "WARNING:absl:Found untraced functions such as lstm_cell_19_layer_call_fn, lstm_cell_19_layer_call_and_return_conditional_losses, lstm_cell_20_layer_call_fn, lstm_cell_20_layer_call_and_return_conditional_losses, lstm_cell_22_layer_call_fn while saving (showing 5 of 20). These functions will not be directly callable after loading.\n",
      "WARNING:absl:Found untraced functions such as lstm_cell_19_layer_call_fn, lstm_cell_19_layer_call_and_return_conditional_losses, lstm_cell_20_layer_call_fn, lstm_cell_20_layer_call_and_return_conditional_losses, lstm_cell_22_layer_call_fn while saving (showing 5 of 20). These functions will not be directly callable after loading.\n"
     ]
    },
    {
     "name": "stdout",
     "output_type": "stream",
     "text": [
      "INFO:tensorflow:Assets written to: ../models/Trained-Models/trial5/assets\n"
     ]
    },
    {
     "name": "stderr",
     "output_type": "stream",
     "text": [
      "INFO:tensorflow:Assets written to: ../models/Trained-Models/trial5/assets\n"
     ]
    }
   ],
   "source": [
    "model5.save('../models/Trained-Models/trial5')\n",
    "model5.save('../models/Trained-Models/trial5.h5')"
   ]
  },
  {
   "cell_type": "code",
   "execution_count": null,
   "metadata": {},
   "outputs": [],
   "source": []
  }
 ],
 "metadata": {
  "kernelspec": {
   "display_name": "Python 3",
   "language": "python",
   "name": "python3"
  },
  "language_info": {
   "codemirror_mode": {
    "name": "ipython",
    "version": 3
   },
   "file_extension": ".py",
   "mimetype": "text/x-python",
   "name": "python",
   "nbconvert_exporter": "python",
   "pygments_lexer": "ipython3",
   "version": "3.8.5"
  }
 },
 "nbformat": 4,
 "nbformat_minor": 4
}
