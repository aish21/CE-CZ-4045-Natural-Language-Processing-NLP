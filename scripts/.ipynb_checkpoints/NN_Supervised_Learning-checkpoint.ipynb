{
 "cells": [
  {
   "cell_type": "code",
   "execution_count": 95,
   "metadata": {},
   "outputs": [
    {
     "name": "stderr",
     "output_type": "stream",
     "text": [
      "[nltk_data] Downloading package punkt to /Users/aishwarya/nltk_data...\n",
      "[nltk_data]   Package punkt is already up-to-date!\n",
      "[nltk_data] Downloading package wordnet to\n",
      "[nltk_data]     /Users/aishwarya/nltk_data...\n",
      "[nltk_data]   Package wordnet is already up-to-date!\n",
      "[nltk_data] Downloading package stopwords to\n",
      "[nltk_data]     /Users/aishwarya/nltk_data...\n",
      "[nltk_data]   Package stopwords is already up-to-date!\n"
     ]
    }
   ],
   "source": [
    "import nltk\n",
    "import pandas as pd\n",
    "from nltk.corpus import stopwords\n",
    "from keras.models import Sequential\n",
    "from keras.preprocessing.text import Tokenizer\n",
    "from keras.preprocessing.sequence import pad_sequences\n",
    "from keras.layers import Dense, Embedding, LSTM, SpatialDropout1D, Conv1D, MaxPooling1D, MaxPooling1D, GlobalMaxPooling1D\n",
    "from sklearn.model_selection import train_test_split \n",
    "import matplotlib.pyplot as plt\n",
    "import re\n",
    "from nltk.tokenize import word_tokenize\n",
    "from nltk.corpus import stopwords\n",
    "import tensorflow as tf\n",
    "import numpy as np\n",
    "nltk.download('punkt')\n",
    "nltk.download('wordnet')\n",
    "nltk.download('stopwords')\n",
    "import chardet\n",
    "from keras.layers import Dense, Embedding, LSTM, Dropout, Bidirectional\n",
    "from keras.constraints import maxnorm\n",
    "from tensorflow.keras.optimizers import Adam \n",
    "from keras import regularizers\n"
   ]
  },
  {
   "cell_type": "code",
   "execution_count": 96,
   "metadata": {},
   "outputs": [
    {
     "data": {
      "text/html": [
       "<div>\n",
       "<style scoped>\n",
       "    .dataframe tbody tr th:only-of-type {\n",
       "        vertical-align: middle;\n",
       "    }\n",
       "\n",
       "    .dataframe tbody tr th {\n",
       "        vertical-align: top;\n",
       "    }\n",
       "\n",
       "    .dataframe thead th {\n",
       "        text-align: right;\n",
       "    }\n",
       "</style>\n",
       "<table border=\"1\" class=\"dataframe\">\n",
       "  <thead>\n",
       "    <tr style=\"text-align: right;\">\n",
       "      <th></th>\n",
       "      <th>username</th>\n",
       "      <th>verified</th>\n",
       "      <th>followersCount</th>\n",
       "      <th>content</th>\n",
       "      <th>label</th>\n",
       "      <th>date</th>\n",
       "      <th>country</th>\n",
       "      <th>replyCount</th>\n",
       "      <th>retweetCount</th>\n",
       "      <th>likeCount</th>\n",
       "      <th>...</th>\n",
       "      <th>vader_neg</th>\n",
       "      <th>vader_neu</th>\n",
       "      <th>vader_pos</th>\n",
       "      <th>vader_comp</th>\n",
       "      <th>cleantext2</th>\n",
       "      <th>class</th>\n",
       "      <th>TextBlob_Subjectivity</th>\n",
       "      <th>TextBlob_Polarity</th>\n",
       "      <th>TextBlob_Analysis</th>\n",
       "      <th>final_class</th>\n",
       "    </tr>\n",
       "  </thead>\n",
       "  <tbody>\n",
       "    <tr>\n",
       "      <th>0</th>\n",
       "      <td>HuyThanhNguyen5</td>\n",
       "      <td>False</td>\n",
       "      <td>0</td>\n",
       "      <td>@unitedstandmufc @markgoldbridge get ole again...</td>\n",
       "      <td>-1.0</td>\n",
       "      <td>2022-08-31 15:12:54</td>\n",
       "      <td>India</td>\n",
       "      <td>0</td>\n",
       "      <td>0</td>\n",
       "      <td>0</td>\n",
       "      <td>...</td>\n",
       "      <td>0.046</td>\n",
       "      <td>0.819</td>\n",
       "      <td>0.134</td>\n",
       "      <td>0.7133</td>\n",
       "      <td>g e t   o l e   a g a i n   t o   t e l l ...</td>\n",
       "      <td>-1</td>\n",
       "      <td>0.600000</td>\n",
       "      <td>0.290000</td>\n",
       "      <td>1</td>\n",
       "      <td>-1</td>\n",
       "    </tr>\n",
       "    <tr>\n",
       "      <th>1</th>\n",
       "      <td>guaslackjack</td>\n",
       "      <td>False</td>\n",
       "      <td>125</td>\n",
       "      <td>best goal: bruno top assists: pogba ??: cristi...</td>\n",
       "      <td>1.0</td>\n",
       "      <td>2021-09-11 15:56:21</td>\n",
       "      <td>India</td>\n",
       "      <td>0</td>\n",
       "      <td>0</td>\n",
       "      <td>0</td>\n",
       "      <td>...</td>\n",
       "      <td>0.000</td>\n",
       "      <td>0.561</td>\n",
       "      <td>0.439</td>\n",
       "      <td>0.8225</td>\n",
       "      <td>b e s t   g o a l :   b r u n o   t o p   a s ...</td>\n",
       "      <td>1</td>\n",
       "      <td>0.400000</td>\n",
       "      <td>0.533333</td>\n",
       "      <td>1</td>\n",
       "      <td>1</td>\n",
       "    </tr>\n",
       "    <tr>\n",
       "      <th>2</th>\n",
       "      <td>gerryrb</td>\n",
       "      <td>False</td>\n",
       "      <td>935</td>\n",
       "      <td>@lost_souls_07 @kayinfinite28 @altyred2 @utdpl...</td>\n",
       "      <td>0.0</td>\n",
       "      <td>2022-09-03 14:29:34</td>\n",
       "      <td>Argentina</td>\n",
       "      <td>1</td>\n",
       "      <td>0</td>\n",
       "      <td>1</td>\n",
       "      <td>...</td>\n",
       "      <td>0.000</td>\n",
       "      <td>0.505</td>\n",
       "      <td>0.495</td>\n",
       "      <td>0.9562</td>\n",
       "      <td>i   d o   n o t   k n o w   i s   t h ...</td>\n",
       "      <td>1</td>\n",
       "      <td>0.783333</td>\n",
       "      <td>0.450000</td>\n",
       "      <td>1</td>\n",
       "      <td>0</td>\n",
       "    </tr>\n",
       "    <tr>\n",
       "      <th>3</th>\n",
       "      <td>rickitten_</td>\n",
       "      <td>False</td>\n",
       "      <td>9</td>\n",
       "      <td>players spurs in old trafford #mufc #muntot ht...</td>\n",
       "      <td>0.0</td>\n",
       "      <td>2022-03-12 19:14:18</td>\n",
       "      <td>India</td>\n",
       "      <td>0</td>\n",
       "      <td>0</td>\n",
       "      <td>0</td>\n",
       "      <td>...</td>\n",
       "      <td>0.000</td>\n",
       "      <td>1.000</td>\n",
       "      <td>0.000</td>\n",
       "      <td>0.0000</td>\n",
       "      <td>p l a y e r s   s p u r s   i n   o l d   t r ...</td>\n",
       "      <td>0</td>\n",
       "      <td>0.200000</td>\n",
       "      <td>0.100000</td>\n",
       "      <td>1</td>\n",
       "      <td>0</td>\n",
       "    </tr>\n",
       "    <tr>\n",
       "      <th>4</th>\n",
       "      <td>saboteurDS</td>\n",
       "      <td>False</td>\n",
       "      <td>278</td>\n",
       "      <td>@tancredipalmeri why on earth would #mufc pay ...</td>\n",
       "      <td>-1.0</td>\n",
       "      <td>2022-08-28 12:07:34</td>\n",
       "      <td>India</td>\n",
       "      <td>0</td>\n",
       "      <td>0</td>\n",
       "      <td>2</td>\n",
       "      <td>...</td>\n",
       "      <td>0.045</td>\n",
       "      <td>0.643</td>\n",
       "      <td>0.312</td>\n",
       "      <td>0.8072</td>\n",
       "      <td>w h y   o n   e a r t h   w o u l d     p a ...</td>\n",
       "      <td>-1</td>\n",
       "      <td>0.500000</td>\n",
       "      <td>0.500000</td>\n",
       "      <td>1</td>\n",
       "      <td>-1</td>\n",
       "    </tr>\n",
       "    <tr>\n",
       "      <th>...</th>\n",
       "      <td>...</td>\n",
       "      <td>...</td>\n",
       "      <td>...</td>\n",
       "      <td>...</td>\n",
       "      <td>...</td>\n",
       "      <td>...</td>\n",
       "      <td>...</td>\n",
       "      <td>...</td>\n",
       "      <td>...</td>\n",
       "      <td>...</td>\n",
       "      <td>...</td>\n",
       "      <td>...</td>\n",
       "      <td>...</td>\n",
       "      <td>...</td>\n",
       "      <td>...</td>\n",
       "      <td>...</td>\n",
       "      <td>...</td>\n",
       "      <td>...</td>\n",
       "      <td>...</td>\n",
       "      <td>...</td>\n",
       "      <td>...</td>\n",
       "    </tr>\n",
       "    <tr>\n",
       "      <th>97393</th>\n",
       "      <td>ChelseaEleven</td>\n",
       "      <td>False</td>\n",
       "      <td>21757</td>\n",
       "      <td>thank you for everything, Thomas Tuchel #CFC #...</td>\n",
       "      <td>NaN</td>\n",
       "      <td>2022-09-07 09:09:44+00:00</td>\n",
       "      <td>India</td>\n",
       "      <td>0</td>\n",
       "      <td>1</td>\n",
       "      <td>4</td>\n",
       "      <td>...</td>\n",
       "      <td>0.000</td>\n",
       "      <td>0.667</td>\n",
       "      <td>0.333</td>\n",
       "      <td>0.3612</td>\n",
       "      <td>t h a n k   y o u   f o r   e v e r y t h i n ...</td>\n",
       "      <td>1</td>\n",
       "      <td>0.000000</td>\n",
       "      <td>0.000000</td>\n",
       "      <td>0</td>\n",
       "      <td>1</td>\n",
       "    </tr>\n",
       "    <tr>\n",
       "      <th>97394</th>\n",
       "      <td>amber_chelsea</td>\n",
       "      <td>False</td>\n",
       "      <td>2195</td>\n",
       "      <td>@Chukwuemekaa10 thanks for the pic Carney ????...</td>\n",
       "      <td>NaN</td>\n",
       "      <td>2022-08-27 13:17:33+00:00</td>\n",
       "      <td>Zimbabwe</td>\n",
       "      <td>0</td>\n",
       "      <td>0</td>\n",
       "      <td>4</td>\n",
       "      <td>...</td>\n",
       "      <td>0.000</td>\n",
       "      <td>0.580</td>\n",
       "      <td>0.420</td>\n",
       "      <td>0.4404</td>\n",
       "      <td>t h a n k s   f o r   t h e   p i c   c a r ...</td>\n",
       "      <td>1</td>\n",
       "      <td>0.200000</td>\n",
       "      <td>0.200000</td>\n",
       "      <td>1</td>\n",
       "      <td>1</td>\n",
       "    </tr>\n",
       "    <tr>\n",
       "      <th>97395</th>\n",
       "      <td>Dc_Solomon2</td>\n",
       "      <td>False</td>\n",
       "      <td>143</td>\n",
       "      <td>Contacts ongoing between Chelsea and Brighton ...</td>\n",
       "      <td>NaN</td>\n",
       "      <td>2022-09-07 11:25:44+00:00</td>\n",
       "      <td>Zimbabwe</td>\n",
       "      <td>0</td>\n",
       "      <td>0</td>\n",
       "      <td>1</td>\n",
       "      <td>...</td>\n",
       "      <td>0.000</td>\n",
       "      <td>1.000</td>\n",
       "      <td>0.000</td>\n",
       "      <td>0.0000</td>\n",
       "      <td>c o n t a c t s   o n g o i n g   b e t w e e ...</td>\n",
       "      <td>0</td>\n",
       "      <td>0.400000</td>\n",
       "      <td>0.400000</td>\n",
       "      <td>1</td>\n",
       "      <td>0</td>\n",
       "    </tr>\n",
       "    <tr>\n",
       "      <th>97396</th>\n",
       "      <td>Marcus_Bryan_</td>\n",
       "      <td>False</td>\n",
       "      <td>5439</td>\n",
       "      <td>Billy Gilmour left #ChelseaFC to join Brighton...</td>\n",
       "      <td>NaN</td>\n",
       "      <td>2022-09-08 16:43:30+00:00</td>\n",
       "      <td>Argentina</td>\n",
       "      <td>1</td>\n",
       "      <td>2</td>\n",
       "      <td>24</td>\n",
       "      <td>...</td>\n",
       "      <td>0.000</td>\n",
       "      <td>0.805</td>\n",
       "      <td>0.195</td>\n",
       "      <td>0.5574</td>\n",
       "      <td>b i l l y   g i l m o u r   l e f t     t o   ...</td>\n",
       "      <td>1</td>\n",
       "      <td>0.035897</td>\n",
       "      <td>0.000000</td>\n",
       "      <td>0</td>\n",
       "      <td>1</td>\n",
       "    </tr>\n",
       "    <tr>\n",
       "      <th>97397</th>\n",
       "      <td>_MuhammadUwais_</td>\n",
       "      <td>False</td>\n",
       "      <td>112</td>\n",
       "      <td>Matchday 7 of 38, let's go Blues ?? #CFC #KTBF...</td>\n",
       "      <td>NaN</td>\n",
       "      <td>2021-10-02 13:58:31+00:00</td>\n",
       "      <td>India</td>\n",
       "      <td>0</td>\n",
       "      <td>0</td>\n",
       "      <td>0</td>\n",
       "      <td>...</td>\n",
       "      <td>0.000</td>\n",
       "      <td>1.000</td>\n",
       "      <td>0.000</td>\n",
       "      <td>0.0000</td>\n",
       "      <td>m a t c h d a y   7   o f   3 8 ,   l e t   u ...</td>\n",
       "      <td>0</td>\n",
       "      <td>0.000000</td>\n",
       "      <td>0.000000</td>\n",
       "      <td>0</td>\n",
       "      <td>0</td>\n",
       "    </tr>\n",
       "  </tbody>\n",
       "</table>\n",
       "<p>97398 rows × 25 columns</p>\n",
       "</div>"
      ],
      "text/plain": [
       "              username  verified  followersCount  \\\n",
       "0      HuyThanhNguyen5     False               0   \n",
       "1         guaslackjack     False             125   \n",
       "2              gerryrb     False             935   \n",
       "3           rickitten_     False               9   \n",
       "4           saboteurDS     False             278   \n",
       "...                ...       ...             ...   \n",
       "97393    ChelseaEleven     False           21757   \n",
       "97394    amber_chelsea     False            2195   \n",
       "97395      Dc_Solomon2     False             143   \n",
       "97396    Marcus_Bryan_     False            5439   \n",
       "97397  _MuhammadUwais_     False             112   \n",
       "\n",
       "                                                 content  label  \\\n",
       "0      @unitedstandmufc @markgoldbridge get ole again...   -1.0   \n",
       "1      best goal: bruno top assists: pogba ??: cristi...    1.0   \n",
       "2      @lost_souls_07 @kayinfinite28 @altyred2 @utdpl...    0.0   \n",
       "3      players spurs in old trafford #mufc #muntot ht...    0.0   \n",
       "4      @tancredipalmeri why on earth would #mufc pay ...   -1.0   \n",
       "...                                                  ...    ...   \n",
       "97393  thank you for everything, Thomas Tuchel #CFC #...    NaN   \n",
       "97394  @Chukwuemekaa10 thanks for the pic Carney ????...    NaN   \n",
       "97395  Contacts ongoing between Chelsea and Brighton ...    NaN   \n",
       "97396  Billy Gilmour left #ChelseaFC to join Brighton...    NaN   \n",
       "97397  Matchday 7 of 38, let's go Blues ?? #CFC #KTBF...    NaN   \n",
       "\n",
       "                            date    country  replyCount  retweetCount  \\\n",
       "0            2022-08-31 15:12:54      India           0             0   \n",
       "1            2021-09-11 15:56:21      India           0             0   \n",
       "2            2022-09-03 14:29:34  Argentina           1             0   \n",
       "3            2022-03-12 19:14:18      India           0             0   \n",
       "4            2022-08-28 12:07:34      India           0             0   \n",
       "...                          ...        ...         ...           ...   \n",
       "97393  2022-09-07 09:09:44+00:00      India           0             1   \n",
       "97394  2022-08-27 13:17:33+00:00   Zimbabwe           0             0   \n",
       "97395  2022-09-07 11:25:44+00:00   Zimbabwe           0             0   \n",
       "97396  2022-09-08 16:43:30+00:00  Argentina           1             2   \n",
       "97397  2021-10-02 13:58:31+00:00      India           0             0   \n",
       "\n",
       "       likeCount  ... vader_neg vader_neu vader_pos vader_comp  \\\n",
       "0              0  ...     0.046     0.819     0.134     0.7133   \n",
       "1              0  ...     0.000     0.561     0.439     0.8225   \n",
       "2              1  ...     0.000     0.505     0.495     0.9562   \n",
       "3              0  ...     0.000     1.000     0.000     0.0000   \n",
       "4              2  ...     0.045     0.643     0.312     0.8072   \n",
       "...          ...  ...       ...       ...       ...        ...   \n",
       "97393          4  ...     0.000     0.667     0.333     0.3612   \n",
       "97394          4  ...     0.000     0.580     0.420     0.4404   \n",
       "97395          1  ...     0.000     1.000     0.000     0.0000   \n",
       "97396         24  ...     0.000     0.805     0.195     0.5574   \n",
       "97397          0  ...     0.000     1.000     0.000     0.0000   \n",
       "\n",
       "                                              cleantext2  class  \\\n",
       "0          g e t   o l e   a g a i n   t o   t e l l ...     -1   \n",
       "1      b e s t   g o a l :   b r u n o   t o p   a s ...      1   \n",
       "2              i   d o   n o t   k n o w   i s   t h ...      1   \n",
       "3      p l a y e r s   s p u r s   i n   o l d   t r ...      0   \n",
       "4        w h y   o n   e a r t h   w o u l d     p a ...     -1   \n",
       "...                                                  ...    ...   \n",
       "97393  t h a n k   y o u   f o r   e v e r y t h i n ...      1   \n",
       "97394    t h a n k s   f o r   t h e   p i c   c a r ...      1   \n",
       "97395  c o n t a c t s   o n g o i n g   b e t w e e ...      0   \n",
       "97396  b i l l y   g i l m o u r   l e f t     t o   ...      1   \n",
       "97397  m a t c h d a y   7   o f   3 8 ,   l e t   u ...      0   \n",
       "\n",
       "       TextBlob_Subjectivity  TextBlob_Polarity  TextBlob_Analysis final_class  \n",
       "0                   0.600000           0.290000                  1          -1  \n",
       "1                   0.400000           0.533333                  1           1  \n",
       "2                   0.783333           0.450000                  1           0  \n",
       "3                   0.200000           0.100000                  1           0  \n",
       "4                   0.500000           0.500000                  1          -1  \n",
       "...                      ...                ...                ...         ...  \n",
       "97393               0.000000           0.000000                  0           1  \n",
       "97394               0.200000           0.200000                  1           1  \n",
       "97395               0.400000           0.400000                  1           0  \n",
       "97396               0.035897           0.000000                  0           1  \n",
       "97397               0.000000           0.000000                  0           0  \n",
       "\n",
       "[97398 rows x 25 columns]"
      ]
     },
     "execution_count": 96,
     "metadata": {},
     "output_type": "execute_result"
    }
   ],
   "source": [
    "with open('../data/nlp_vader_textblob_classified_data.csv', 'rb') as f:\n",
    "    enc = chardet.detect(f.read())  # or readline if the file is large\n",
    "    \n",
    "tweetData = pd.read_csv('../data/nlp_vader_textblob_classified_data.csv', encoding = enc['encoding'], index_col=False)\n",
    "tweetData"
   ]
  },
  {
   "cell_type": "code",
   "execution_count": 97,
   "metadata": {},
   "outputs": [],
   "source": [
    "labels = tweetData['final_class']\n",
    "def featureEngineering(tweet):\n",
    "    # Lower case tweet\n",
    "    tweetMod = tweet.lower()\n",
    "    # Replace URLs with a space in the message\n",
    "    tweetMod = re.sub('https?:\\/\\/[a-zA-Z0-9@:%._\\/+~#=?&;-]*', ' ', tweetMod)\n",
    "    # Replace ticker symbols with a space. The ticker symbols are any stock symbol that starts with $.\n",
    "    tweetMod = re.sub('\\$[a-zA-Z0-9]*', ' ', tweetMod)\n",
    "    # Replace StockTwits usernames with a space. The usernames are any word that starts with @.\n",
    "    tweetMod = re.sub('\\@[a-zA-Z0-9]*', ' ', tweetMod)\n",
    "    # Replace everything not a letter or apostrophe with a space\n",
    "    tweetMod = re.sub('[^a-zA-Z\\']', ' ', tweetMod)\n",
    "    # Remove single letter words\n",
    "    tweetMod = ' '.join([w for w in tweetMod.split() if len(w) > 1])\n",
    "\n",
    "    return tweetMod\n",
    "\n",
    "\n",
    "# Process for all tweets\n",
    "tweetData['modTweet'] = [featureEngineering(tweet) for tweet in tweetData['content']]\n",
    "\n",
    "def lemmatizeTweet(tweet):\n",
    "    words = [word for word in word_tokenize(tweet) if (word.isalpha()==1)]\n",
    "    # Remove stop words\n",
    "    stop = set(stopwords.words('english'))\n",
    "    words = [word for word in words if (word not in stop)]\n",
    "    # Lemmatize words (first noun, then verb)\n",
    "    wnl = nltk.stem.WordNetLemmatizer()\n",
    "    lemmatized = [wnl.lemmatize(wnl.lemmatize(word, 'n'), 'v') for word in words]\n",
    "    return \" \".join(lemmatized)\n",
    "\n",
    "tweetData['lemmatizedText'] = tweetData[\"modTweet\"].apply(lambda x:lemmatizeTweet(x))"
   ]
  },
  {
   "cell_type": "code",
   "execution_count": 98,
   "metadata": {},
   "outputs": [],
   "source": [
    "labels = tf.keras.utils.to_categorical(labels, 3, dtype=\"float32\")\n",
    "tokenizer = Tokenizer(num_words=37320, split=' ')\n",
    "tokenizer.fit_on_texts(tweetData['lemmatizedText'].values)\n",
    "X = tokenizer.texts_to_sequences(tweetData['lemmatizedText'].values)\n",
    "X = pad_sequences(X)\n",
    "\n",
    "X_train, X_test, Y_train, Y_test = train_test_split(X, labels, test_size=0.3, random_state=42)"
   ]
  },
  {
   "cell_type": "code",
   "execution_count": 99,
   "metadata": {},
   "outputs": [
    {
     "name": "stdout",
     "output_type": "stream",
     "text": [
      "(68178, 3)\n"
     ]
    }
   ],
   "source": [
    "print(Y_train.shape)"
   ]
  },
  {
   "cell_type": "markdown",
   "metadata": {},
   "source": [
    "## TRIAL 1"
   ]
  },
  {
   "cell_type": "code",
   "execution_count": null,
   "metadata": {},
   "outputs": [],
   "source": [
    "max_words = 37320\n",
    "embed_dim = 64\n",
    "input_dim = 128\n",
    "optimizer = Adam(lr = 0.01)\n",
    "\n",
    "# Trial 1 - Baseline LSTM\n",
    "model = Sequential()\n",
    "model.add(Embedding(input_dim,embed_dim,input_length = X.shape[1]))\n",
    "model.add(SpatialDropout1D(0.4))\n",
    "model.add(LSTM(196, dropout=0.2, recurrent_dropout=0.2))\n",
    "model.add(Dense(3,activation='softmax'))\n",
    "model.compile(loss = 'categorical_crossentropy', optimizer='adam',metrics = ['accuracy'])\n",
    "print(model.summary())"
   ]
  },
  {
   "cell_type": "code",
   "execution_count": 75,
   "metadata": {},
   "outputs": [
    {
     "name": "stdout",
     "output_type": "stream",
     "text": [
      "Epoch 1/20\n",
      "1066/1066 [==============================] - 20s 17ms/step - loss: 1.2148 - acc: 0.4357 - val_loss: 0.9073 - val_acc: 0.5782\n",
      "Epoch 2/20\n",
      "1066/1066 [==============================] - 22s 21ms/step - loss: 0.8924 - acc: 0.5921 - val_loss: 0.8713 - val_acc: 0.6088\n",
      "Epoch 3/20\n",
      "1066/1066 [==============================] - 23s 22ms/step - loss: 0.8592 - acc: 0.6273 - val_loss: 0.8418 - val_acc: 0.6537\n",
      "Epoch 4/20\n",
      "1066/1066 [==============================] - 23s 22ms/step - loss: 0.8199 - acc: 0.6702 - val_loss: 0.8159 - val_acc: 0.6790\n",
      "Epoch 5/20\n",
      "1066/1066 [==============================] - 23s 21ms/step - loss: 0.7984 - acc: 0.6873 - val_loss: 0.8014 - val_acc: 0.6872\n",
      "Epoch 6/20\n",
      "1066/1066 [==============================] - 28s 26ms/step - loss: 0.7824 - acc: 0.6977 - val_loss: 0.7920 - val_acc: 0.6973\n",
      "Epoch 7/20\n",
      "1066/1066 [==============================] - 35s 32ms/step - loss: 0.7706 - acc: 0.7059 - val_loss: 0.7800 - val_acc: 0.7021\n",
      "Epoch 8/20\n",
      "1066/1066 [==============================] - 34s 32ms/step - loss: 0.7594 - acc: 0.7110 - val_loss: 0.7716 - val_acc: 0.7048\n",
      "Epoch 9/20\n",
      "1066/1066 [==============================] - 26s 24ms/step - loss: 0.7504 - acc: 0.7137 - val_loss: 0.7675 - val_acc: 0.7089\n",
      "Epoch 10/20\n",
      "1066/1066 [==============================] - 19s 18ms/step - loss: 0.7375 - acc: 0.7182 - val_loss: 0.7635 - val_acc: 0.7088\n",
      "Epoch 11/20\n",
      "1066/1066 [==============================] - 15s 14ms/step - loss: 0.7289 - acc: 0.7216 - val_loss: 0.7549 - val_acc: 0.7091\n",
      "Epoch 12/20\n",
      "1066/1066 [==============================] - 16s 15ms/step - loss: 0.7182 - acc: 0.7264 - val_loss: 0.7546 - val_acc: 0.7111\n",
      "Epoch 13/20\n",
      "1066/1066 [==============================] - 13s 13ms/step - loss: 0.7150 - acc: 0.7249 - val_loss: 0.7503 - val_acc: 0.7134\n",
      "Epoch 14/20\n",
      "1066/1066 [==============================] - 13s 12ms/step - loss: 0.7123 - acc: 0.7285 - val_loss: 0.7482 - val_acc: 0.7151\n",
      "Epoch 15/20\n",
      "1066/1066 [==============================] - 13s 12ms/step - loss: 0.7071 - acc: 0.7308 - val_loss: 0.7462 - val_acc: 0.7165\n",
      "Epoch 16/20\n",
      "1066/1066 [==============================] - 14s 13ms/step - loss: 0.7036 - acc: 0.7345 - val_loss: 0.7458 - val_acc: 0.7179\n",
      "Epoch 17/20\n",
      "1066/1066 [==============================] - 15s 14ms/step - loss: 0.7012 - acc: 0.7362 - val_loss: 0.7474 - val_acc: 0.7162\n",
      "Epoch 18/20\n",
      "1066/1066 [==============================] - 16s 15ms/step - loss: 0.6965 - acc: 0.7384 - val_loss: 0.7537 - val_acc: 0.7190\n",
      "Epoch 19/20\n",
      "1066/1066 [==============================] - 17s 16ms/step - loss: 0.6986 - acc: 0.7383 - val_loss: 0.7479 - val_acc: 0.7203\n",
      "Epoch 20/20\n",
      "1066/1066 [==============================] - 22s 21ms/step - loss: 0.7006 - acc: 0.7402 - val_loss: 0.7431 - val_acc: 0.7193\n"
     ]
    }
   ],
   "source": [
    "history = model.fit(X_train, Y_train, epochs = 25, batch_size=128, validation_data=(X_test, Y_test))"
   ]
  },
  {
   "cell_type": "code",
   "execution_count": 76,
   "metadata": {},
   "outputs": [
    {
     "data": {
      "text/plain": [
       "<matplotlib.legend.Legend at 0x7fe77ca5b880>"
      ]
     },
     "execution_count": 76,
     "metadata": {},
     "output_type": "execute_result"
    },
    {
     "data": {
      "image/png": "[encoded data removed]",
      "text/plain": [
       "<Figure size 432x288 with 1 Axes>"
      ]
     },
     "metadata": {
      "needs_background": "light"
     },
     "output_type": "display_data"
    }
   ],
   "source": [
    "#Plotting the accuracies\n",
    "plt.plot(history.history['accuracy'])\n",
    "plt.plot(history.history['val_accuracy'])\n",
    "plt.ylabel('Accuracy')\n",
    "plt.xlabel('Epochs')\n",
    "plt.legend(['train', 'test'], loc='upper left')\n",
    "plt.savefig('../models/Plots/Trial1_acc.png')"
   ]
  },
  {
   "cell_type": "code",
   "execution_count": 77,
   "metadata": {},
   "outputs": [
    {
     "data": {
      "text/plain": [
       "<matplotlib.legend.Legend at 0x7fe77cb96370>"
      ]
     },
     "execution_count": 77,
     "metadata": {},
     "output_type": "execute_result"
    },
    {
     "data": {
      "image/png": "[encoded data removed]",
      "text/plain": [
       "<Figure size 432x288 with 1 Axes>"
      ]
     },
     "metadata": {
      "needs_background": "light"
     },
     "output_type": "display_data"
    }
   ],
   "source": [
    "#Plotting the losses\n",
    "plt.plot(history.history['loss'])\n",
    "plt.plot(history.history['val_loss'])\n",
    "plt.ylabel('Loss')\n",
    "plt.xlabel('Epochs')\n",
    "plt.legend(['train', 'test'], loc='upper left')\n",
    "plt.savefig('../models/Plots/Trial1_loss.png')"
   ]
  },
  {
   "cell_type": "code",
   "execution_count": null,
   "metadata": {},
   "outputs": [],
   "source": [
    "model.save('../models/Trained-Models/trial1')\n",
    "model.save('../models/Trained-Models/trial1.h5')"
   ]
  },
  {
   "cell_type": "markdown",
   "metadata": {},
   "source": [
    "## TRIAL 2"
   ]
  },
  {
   "cell_type": "code",
   "execution_count": 87,
   "metadata": {},
   "outputs": [
    {
     "name": "stdout",
     "output_type": "stream",
     "text": [
      "Model: \"sequential_20\"\n",
      "_________________________________________________________________\n",
      "Layer (type)                 Output Shape              Param #   \n",
      "=================================================================\n",
      "embedding_20 (Embedding)     (None, 43, 40)            1492800   \n",
      "_________________________________________________________________\n",
      "dropout_22 (Dropout)         (None, 43, 40)            0         \n",
      "_________________________________________________________________\n",
      "bidirectional_22 (Bidirectio (None, 43, 512)           608256    \n",
      "_________________________________________________________________\n",
      "dropout_23 (Dropout)         (None, 43, 512)           0         \n",
      "_________________________________________________________________\n",
      "bidirectional_23 (Bidirectio (None, 256)               656384    \n",
      "_________________________________________________________________\n",
      "dense_15 (Dense)             (None, 3)                 771       \n",
      "=================================================================\n",
      "Total params: 2,758,211\n",
      "Trainable params: 2,758,211\n",
      "Non-trainable params: 0\n",
      "_________________________________________________________________\n",
      "None\n"
     ]
    }
   ],
   "source": [
    "# Trial 2\n",
    "model2 = Sequential()\n",
    "model2.add(Embedding(37320,output_dim = 40,input_length = X.shape[1]))\n",
    "model2.add(Dropout(rate=0.5))\n",
    "model2.add(Bidirectional(LSTM(units=256, kernel_initializer= 'normal', return_sequences=True, kernel_constraint=maxnorm(4))))\n",
    "model2.add(Dropout(rate=0.5))\n",
    "model2.add(Bidirectional(LSTM(units=128, kernel_initializer= 'normal', return_sequences=False)))\n",
    "model2.add(Dense(3, activation='softmax'))\n",
    "optimizer = Adam(lr=0.001)\n",
    "model2.compile(loss='categorical_crossentropy', optimizer=optimizer, metrics=['categorical_accuracy'])\n",
    "\n",
    "print(model2.summary())"
   ]
  },
  {
   "cell_type": "code",
   "execution_count": 88,
   "metadata": {},
   "outputs": [
    {
     "name": "stdout",
     "output_type": "stream",
     "text": [
      "Epoch 1/25\n",
      "267/267 [==============================] - 596s 2s/step - loss: 0.8857 - categorical_accuracy: 0.5536 - val_loss: 0.4805 - val_categorical_accuracy: 0.8312\n",
      "Epoch 2/25\n",
      "267/267 [==============================] - 641s 2s/step - loss: 0.4507 - categorical_accuracy: 0.8419 - val_loss: 0.4235 - val_categorical_accuracy: 0.8593\n",
      "Epoch 3/25\n",
      "267/267 [==============================] - 1450s 5s/step - loss: 0.3790 - categorical_accuracy: 0.8741 - val_loss: 0.4169 - val_categorical_accuracy: 0.8626\n",
      "Epoch 4/25\n",
      "267/267 [==============================] - 570s 2s/step - loss: 0.3347 - categorical_accuracy: 0.8910 - val_loss: 0.4224 - val_categorical_accuracy: 0.8621\n",
      "Epoch 5/25\n",
      "267/267 [==============================] - 578s 2s/step - loss: 0.3193 - categorical_accuracy: 0.8957 - val_loss: 0.4280 - val_categorical_accuracy: 0.8601\n",
      "Epoch 6/25\n",
      "267/267 [==============================] - 562s 2s/step - loss: 0.2957 - categorical_accuracy: 0.9048 - val_loss: 0.4317 - val_categorical_accuracy: 0.8601\n",
      "Epoch 7/25\n",
      "267/267 [==============================] - 593s 2s/step - loss: 0.2789 - categorical_accuracy: 0.9096 - val_loss: 0.4560 - val_categorical_accuracy: 0.8569\n",
      "Epoch 8/25\n",
      "267/267 [==============================] - 573s 2s/step - loss: 0.2704 - categorical_accuracy: 0.9136 - val_loss: 0.4489 - val_categorical_accuracy: 0.8582\n",
      "Epoch 9/25\n",
      "267/267 [==============================] - 568s 2s/step - loss: 0.2551 - categorical_accuracy: 0.9177 - val_loss: 0.4691 - val_categorical_accuracy: 0.8546\n",
      "Epoch 10/25\n",
      "267/267 [==============================] - 558s 2s/step - loss: 0.2422 - categorical_accuracy: 0.9212 - val_loss: 0.4638 - val_categorical_accuracy: 0.8569\n",
      "Epoch 11/25\n",
      "267/267 [==============================] - 574s 2s/step - loss: 0.2276 - categorical_accuracy: 0.9258 - val_loss: 0.4661 - val_categorical_accuracy: 0.8505\n",
      "Epoch 12/25\n",
      "267/267 [==============================] - 556s 2s/step - loss: 0.2197 - categorical_accuracy: 0.9274 - val_loss: 0.5037 - val_categorical_accuracy: 0.8540\n",
      "Epoch 13/25\n",
      "267/267 [==============================] - 558s 2s/step - loss: 0.2087 - categorical_accuracy: 0.9297 - val_loss: 0.5014 - val_categorical_accuracy: 0.8552\n",
      "Epoch 14/25\n",
      "267/267 [==============================] - 549s 2s/step - loss: 0.2030 - categorical_accuracy: 0.9312 - val_loss: 0.5634 - val_categorical_accuracy: 0.8523\n",
      "Epoch 15/25\n",
      "267/267 [==============================] - 544s 2s/step - loss: 0.1929 - categorical_accuracy: 0.9366 - val_loss: 0.5281 - val_categorical_accuracy: 0.8527\n",
      "Epoch 16/25\n",
      "267/267 [==============================] - 622s 2s/step - loss: 0.1900 - categorical_accuracy: 0.9368 - val_loss: 0.5287 - val_categorical_accuracy: 0.8514\n",
      "Epoch 17/25\n",
      "267/267 [==============================] - 541s 2s/step - loss: 0.1810 - categorical_accuracy: 0.9386 - val_loss: 0.5337 - val_categorical_accuracy: 0.8551\n",
      "Epoch 18/25\n",
      "267/267 [==============================] - 525s 2s/step - loss: 0.1731 - categorical_accuracy: 0.9423 - val_loss: 0.5561 - val_categorical_accuracy: 0.8548\n",
      "Epoch 19/25\n",
      "267/267 [==============================] - 524s 2s/step - loss: 0.1666 - categorical_accuracy: 0.9443 - val_loss: 0.5606 - val_categorical_accuracy: 0.8521\n",
      "Epoch 20/25\n",
      "267/267 [==============================] - 523s 2s/step - loss: 0.1668 - categorical_accuracy: 0.9419 - val_loss: 0.5764 - val_categorical_accuracy: 0.8517\n",
      "Epoch 21/25\n",
      "267/267 [==============================] - 523s 2s/step - loss: 0.1632 - categorical_accuracy: 0.9435 - val_loss: 0.5671 - val_categorical_accuracy: 0.8482\n",
      "Epoch 22/25\n",
      "267/267 [==============================] - 515s 2s/step - loss: 0.1552 - categorical_accuracy: 0.9461 - val_loss: 0.6352 - val_categorical_accuracy: 0.8523\n",
      "Epoch 23/25\n",
      "267/267 [==============================] - 518s 2s/step - loss: 0.1520 - categorical_accuracy: 0.9496 - val_loss: 0.5716 - val_categorical_accuracy: 0.8513\n",
      "Epoch 24/25\n",
      "267/267 [==============================] - 524s 2s/step - loss: 0.1507 - categorical_accuracy: 0.9481 - val_loss: 0.6176 - val_categorical_accuracy: 0.8492\n",
      "Epoch 25/25\n",
      "267/267 [==============================] - 517s 2s/step - loss: 0.1492 - categorical_accuracy: 0.9477 - val_loss: 0.6503 - val_categorical_accuracy: 0.8540\n"
     ]
    }
   ],
   "source": [
    "history2 = model2.fit(X_train, Y_train, epochs = 25, batch_size=256, validation_data=(X_test, Y_test))"
   ]
  },
  {
   "cell_type": "code",
   "execution_count": 89,
   "metadata": {},
   "outputs": [
    {
     "data": {
      "text/plain": [
       "<matplotlib.legend.Legend at 0x7fe788f71df0>"
      ]
     },
     "execution_count": 89,
     "metadata": {},
     "output_type": "execute_result"
    },
    {
     "data": {
      "image/png": "[encoded data removed]",
      "text/plain": [
       "<Figure size 432x288 with 1 Axes>"
      ]
     },
     "metadata": {
      "needs_background": "light"
     },
     "output_type": "display_data"
    }
   ],
   "source": [
    "#Plotting the accuracies\n",
    "plt.plot(history2.history['categorical_accuracy'])\n",
    "plt.plot(history2.history['val_categorical_accuracy'])\n",
    "plt.ylabel('Accuracy')\n",
    "plt.xlabel('Epochs')\n",
    "plt.legend(['train', 'test'], loc='upper left')\n",
    "plt.savefig('../models/Plots/Trial2_acc.png')"
   ]
  },
  {
   "cell_type": "code",
   "execution_count": 90,
   "metadata": {},
   "outputs": [
    {
     "data": {
      "text/plain": [
       "<matplotlib.legend.Legend at 0x7fe788f71940>"
      ]
     },
     "execution_count": 90,
     "metadata": {},
     "output_type": "execute_result"
    },
    {
     "data": {
      "image/png": "[encoded data removed]",
      "text/plain": [
       "<Figure size 432x288 with 1 Axes>"
      ]
     },
     "metadata": {
      "needs_background": "light"
     },
     "output_type": "display_data"
    }
   ],
   "source": [
    "#Plotting the losses\n",
    "plt.plot(history.history['loss'])\n",
    "plt.plot(history.history['val_loss'])\n",
    "plt.ylabel('Loss')\n",
    "plt.xlabel('Epochs')\n",
    "plt.legend(['train', 'test'], loc='upper left')\n",
    "plt.savefig('../models/Plots/Trial2_loss.png')"
   ]
  },
  {
   "cell_type": "code",
   "execution_count": 91,
   "metadata": {},
   "outputs": [
    {
     "name": "stderr",
     "output_type": "stream",
     "text": [
      "WARNING:absl:Found untraced functions such as lstm_cell_67_layer_call_and_return_conditional_losses, lstm_cell_67_layer_call_fn, lstm_cell_68_layer_call_and_return_conditional_losses, lstm_cell_68_layer_call_fn, lstm_cell_70_layer_call_and_return_conditional_losses while saving (showing 5 of 20). These functions will not be directly callable after loading.\n",
      "WARNING:absl:Found untraced functions such as lstm_cell_67_layer_call_and_return_conditional_losses, lstm_cell_67_layer_call_fn, lstm_cell_68_layer_call_and_return_conditional_losses, lstm_cell_68_layer_call_fn, lstm_cell_70_layer_call_and_return_conditional_losses while saving (showing 5 of 20). These functions will not be directly callable after loading.\n"
     ]
    },
    {
     "name": "stdout",
     "output_type": "stream",
     "text": [
      "INFO:tensorflow:Assets written to: ../models/Trained-Models/trial2/assets\n"
     ]
    },
    {
     "name": "stderr",
     "output_type": "stream",
     "text": [
      "INFO:tensorflow:Assets written to: ../models/Trained-Models/trial2/assets\n"
     ]
    }
   ],
   "source": [
    "model2.save('../models/Trained-Models/trial2')\n",
    "model2.save('../models/Trained-Models/trial2.h5')"
   ]
  },
  {
   "cell_type": "markdown",
   "metadata": {},
   "source": [
    "## TRIAL 3"
   ]
  },
  {
   "cell_type": "code",
   "execution_count": null,
   "metadata": {},
   "outputs": [],
   "source": [
    "# Trial 3 - (25, 64)\n",
    "model3 = Sequential()\n",
    "model3.add(Embedding(max_words, 40, input_length = X.shape[1]))\n",
    "model3.add(Conv1D(20, 6, activation='relu', kernel_regularizer = regularizers.l1_l2(l1=2e-3, l2=2e-3), bias_regularizer=regularizers.l2(2e-3)))\n",
    "model3.add(MaxPooling1D(5))\n",
    "model3.add(Conv1D(20, 6, activation='relu', kernel_regularizer = regularizers.l1_l2(l1=2e-3, l2=2e-3), bias_regularizer=regularizers.l2(2e-3)))\n",
    "model3.add(GlobalMaxPooling1D())\n",
    "model3.add(Dense(3, activation='softmax'))\n",
    "model3.compile(optimizer = 'rmsprop', loss = 'categorical_crossentropy', metrics = ['acc'])\n",
    "\n",
    "print(model.summary())"
   ]
  },
  {
   "cell_type": "code",
   "execution_count": null,
   "metadata": {},
   "outputs": [],
   "source": [
    "history3 = model3.fit(X_train, Y_train, epochs = 25, batch_size=64, validation_data=(X_test, Y_test))"
   ]
  },
  {
   "cell_type": "code",
   "execution_count": null,
   "metadata": {},
   "outputs": [],
   "source": [
    "#Plotting the accuracies\n",
    "plt.plot(history2.history['acc'])\n",
    "plt.plot(history2.history['acc'])\n",
    "plt.ylabel('Accuracy')\n",
    "plt.xlabel('Epochs')\n",
    "plt.legend(['train', 'test'], loc='upper left')\n",
    "plt.savefig('../models/Plots/Trial3_acc.png')"
   ]
  },
  {
   "cell_type": "code",
   "execution_count": null,
   "metadata": {},
   "outputs": [],
   "source": [
    "#Plotting the losses\n",
    "plt.plot(history.history['loss'])\n",
    "plt.plot(history.history['val_loss'])\n",
    "plt.ylabel('Loss')\n",
    "plt.xlabel('Epochs')\n",
    "plt.legend(['train', 'test'], loc='upper left')\n",
    "plt.savefig('../models/Plots/Trial3_loss.png')"
   ]
  },
  {
   "cell_type": "code",
   "execution_count": null,
   "metadata": {},
   "outputs": [],
   "source": [
    "model2.save('../models/Trained-Models/trial3')\n",
    "model2.save('../models/Trained-Models/trial3.h5')"
   ]
  }
 ],
 "metadata": {
  "kernelspec": {
   "display_name": "Python 3",
   "language": "python",
   "name": "python3"
  },
  "language_info": {
   "codemirror_mode": {
    "name": "ipython",
    "version": 3
   },
   "file_extension": ".py",
   "mimetype": "text/x-python",
   "name": "python",
   "nbconvert_exporter": "python",
   "pygments_lexer": "ipython3",
   "version": "3.8.5"
  }
 },
 "nbformat": 4,
 "nbformat_minor": 4
}
