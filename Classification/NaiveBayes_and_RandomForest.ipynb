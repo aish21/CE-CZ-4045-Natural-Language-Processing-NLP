{
  "nbformat": 4,
  "nbformat_minor": 0,
  "metadata": {
    "colab": {
      "provenance": [],
      "collapsed_sections": []
    },
    "kernelspec": {
      "name": "python3",
      "display_name": "Python 3"
    },
    "language_info": {
      "name": "python"
    }
  },
  "cells": [
    {
      "cell_type": "code",
      "execution_count": null,
      "metadata": {
        "colab": {
          "base_uri": "https://localhost:8080/"
        },
        "id": "8KzQ8jtnsTQV",
        "outputId": "6e9cc42d-2c25-4d81-80ba-ae3a832e8ac0"
      },
      "outputs": [
        {
          "output_type": "stream",
          "name": "stdout",
          "text": [
            "Drive already mounted at /content/drive; to attempt to forcibly remount, call drive.mount(\"/content/drive\", force_remount=True).\n"
          ]
        }
      ],
      "source": [
        "from google.colab import drive\n",
        "drive.mount('/content/drive')"
      ]
    },
    {
      "cell_type": "code",
      "source": [
        "import pandas as pd\n",
        "df=pd.read_excel('/content/drive/MyDrive/nlp_vader_textblob_classified_data.xlsx')"
      ],
      "metadata": {
        "id": "fO0_h9rVtCJW"
      },
      "execution_count": null,
      "outputs": []
    },
    {
      "cell_type": "code",
      "source": [
        "df.head()"
      ],
      "metadata": {
        "colab": {
          "base_uri": "https://localhost:8080/",
          "height": 508
        },
        "id": "ChqSQQZktSJe",
        "outputId": "163b7728-338e-4914-f5e8-575e7ea1efeb"
      },
      "execution_count": null,
      "outputs": [
        {
          "output_type": "execute_result",
          "data": {
            "text/plain": [
              "          username  verified  followersCount  \\\n",
              "0  HuyThanhNguyen5     False               0   \n",
              "1     guaslackjack     False             125   \n",
              "2          gerryrb     False             935   \n",
              "3       rickitten_     False               9   \n",
              "4       saboteurDS     False             278   \n",
              "\n",
              "                                             content  label  \\\n",
              "0  @unitedstandmufc @markgoldbridge get ole again...   -1.0   \n",
              "1  best goal: bruno top assists: pogba 🐐: cristia...    1.0   \n",
              "2  @lost_souls_07 @kayinfinite28 @altyred2 @utdpl...    0.0   \n",
              "3  players spurs in old trafford #mufc #muntot ht...    0.0   \n",
              "4  @tancredipalmeri why on earth would #mufc pay ...   -1.0   \n",
              "\n",
              "                  date    country  replyCount  retweetCount  likeCount  ...  \\\n",
              "0  2022-08-31 15:12:54      India           0             0          0  ...   \n",
              "1  2021-09-11 15:56:21      India           0             0          0  ...   \n",
              "2  2022-09-03 14:29:34  Argentina           1             0          1  ...   \n",
              "3  2022-03-12 19:14:18      India           0             0          0  ...   \n",
              "4  2022-08-28 12:07:34      India           0             0          2  ...   \n",
              "\n",
              "  vader_neg vader_neu vader_pos vader_comp  \\\n",
              "0     0.046     0.819     0.134     0.7133   \n",
              "1     0.000     0.561     0.439     0.8225   \n",
              "2     0.000     0.505     0.495     0.9562   \n",
              "3     0.000     1.000     0.000     0.0000   \n",
              "4     0.045     0.643     0.312     0.8072   \n",
              "\n",
              "                                          cleantext2  class  \\\n",
              "0      g e t   o l e   a g a i n   t o   t e l l ...     -1   \n",
              "1  b e s t   g o a l :   b r u n o   t o p   a s ...      1   \n",
              "2          i   d o   n o t   k n o w   i s   t h ...      1   \n",
              "3  p l a y e r s   s p u r s   i n   o l d   t r ...      0   \n",
              "4    w h y   o n   e a r t h   w o u l d     p a ...     -1   \n",
              "\n",
              "   TextBlob_Subjectivity  TextBlob_Polarity  TextBlob_Analysis final_class  \n",
              "0               0.600000           0.290000                  1          -1  \n",
              "1               0.400000           0.533333                  1           1  \n",
              "2               0.783333           0.450000                  1           0  \n",
              "3               0.200000           0.100000                  1           0  \n",
              "4               0.500000           0.500000                  1          -1  \n",
              "\n",
              "[5 rows x 25 columns]"
            ],
            "text/html": [
              "\n",
              "  <div id=\"df-0c2f6564-2013-435e-8f0b-b2592b7374c0\">\n",
              "    <div class=\"colab-df-container\">\n",
              "      <div>\n",
              "<style scoped>\n",
              "    .dataframe tbody tr th:only-of-type {\n",
              "        vertical-align: middle;\n",
              "    }\n",
              "\n",
              "    .dataframe tbody tr th {\n",
              "        vertical-align: top;\n",
              "    }\n",
              "\n",
              "    .dataframe thead th {\n",
              "        text-align: right;\n",
              "    }\n",
              "</style>\n",
              "<table border=\"1\" class=\"dataframe\">\n",
              "  <thead>\n",
              "    <tr style=\"text-align: right;\">\n",
              "      <th></th>\n",
              "      <th>username</th>\n",
              "      <th>verified</th>\n",
              "      <th>followersCount</th>\n",
              "      <th>content</th>\n",
              "      <th>label</th>\n",
              "      <th>date</th>\n",
              "      <th>country</th>\n",
              "      <th>replyCount</th>\n",
              "      <th>retweetCount</th>\n",
              "      <th>likeCount</th>\n",
              "      <th>...</th>\n",
              "      <th>vader_neg</th>\n",
              "      <th>vader_neu</th>\n",
              "      <th>vader_pos</th>\n",
              "      <th>vader_comp</th>\n",
              "      <th>cleantext2</th>\n",
              "      <th>class</th>\n",
              "      <th>TextBlob_Subjectivity</th>\n",
              "      <th>TextBlob_Polarity</th>\n",
              "      <th>TextBlob_Analysis</th>\n",
              "      <th>final_class</th>\n",
              "    </tr>\n",
              "  </thead>\n",
              "  <tbody>\n",
              "    <tr>\n",
              "      <th>0</th>\n",
              "      <td>HuyThanhNguyen5</td>\n",
              "      <td>False</td>\n",
              "      <td>0</td>\n",
              "      <td>@unitedstandmufc @markgoldbridge get ole again...</td>\n",
              "      <td>-1.0</td>\n",
              "      <td>2022-08-31 15:12:54</td>\n",
              "      <td>India</td>\n",
              "      <td>0</td>\n",
              "      <td>0</td>\n",
              "      <td>0</td>\n",
              "      <td>...</td>\n",
              "      <td>0.046</td>\n",
              "      <td>0.819</td>\n",
              "      <td>0.134</td>\n",
              "      <td>0.7133</td>\n",
              "      <td>g e t   o l e   a g a i n   t o   t e l l ...</td>\n",
              "      <td>-1</td>\n",
              "      <td>0.600000</td>\n",
              "      <td>0.290000</td>\n",
              "      <td>1</td>\n",
              "      <td>-1</td>\n",
              "    </tr>\n",
              "    <tr>\n",
              "      <th>1</th>\n",
              "      <td>guaslackjack</td>\n",
              "      <td>False</td>\n",
              "      <td>125</td>\n",
              "      <td>best goal: bruno top assists: pogba 🐐: cristia...</td>\n",
              "      <td>1.0</td>\n",
              "      <td>2021-09-11 15:56:21</td>\n",
              "      <td>India</td>\n",
              "      <td>0</td>\n",
              "      <td>0</td>\n",
              "      <td>0</td>\n",
              "      <td>...</td>\n",
              "      <td>0.000</td>\n",
              "      <td>0.561</td>\n",
              "      <td>0.439</td>\n",
              "      <td>0.8225</td>\n",
              "      <td>b e s t   g o a l :   b r u n o   t o p   a s ...</td>\n",
              "      <td>1</td>\n",
              "      <td>0.400000</td>\n",
              "      <td>0.533333</td>\n",
              "      <td>1</td>\n",
              "      <td>1</td>\n",
              "    </tr>\n",
              "    <tr>\n",
              "      <th>2</th>\n",
              "      <td>gerryrb</td>\n",
              "      <td>False</td>\n",
              "      <td>935</td>\n",
              "      <td>@lost_souls_07 @kayinfinite28 @altyred2 @utdpl...</td>\n",
              "      <td>0.0</td>\n",
              "      <td>2022-09-03 14:29:34</td>\n",
              "      <td>Argentina</td>\n",
              "      <td>1</td>\n",
              "      <td>0</td>\n",
              "      <td>1</td>\n",
              "      <td>...</td>\n",
              "      <td>0.000</td>\n",
              "      <td>0.505</td>\n",
              "      <td>0.495</td>\n",
              "      <td>0.9562</td>\n",
              "      <td>i   d o   n o t   k n o w   i s   t h ...</td>\n",
              "      <td>1</td>\n",
              "      <td>0.783333</td>\n",
              "      <td>0.450000</td>\n",
              "      <td>1</td>\n",
              "      <td>0</td>\n",
              "    </tr>\n",
              "    <tr>\n",
              "      <th>3</th>\n",
              "      <td>rickitten_</td>\n",
              "      <td>False</td>\n",
              "      <td>9</td>\n",
              "      <td>players spurs in old trafford #mufc #muntot ht...</td>\n",
              "      <td>0.0</td>\n",
              "      <td>2022-03-12 19:14:18</td>\n",
              "      <td>India</td>\n",
              "      <td>0</td>\n",
              "      <td>0</td>\n",
              "      <td>0</td>\n",
              "      <td>...</td>\n",
              "      <td>0.000</td>\n",
              "      <td>1.000</td>\n",
              "      <td>0.000</td>\n",
              "      <td>0.0000</td>\n",
              "      <td>p l a y e r s   s p u r s   i n   o l d   t r ...</td>\n",
              "      <td>0</td>\n",
              "      <td>0.200000</td>\n",
              "      <td>0.100000</td>\n",
              "      <td>1</td>\n",
              "      <td>0</td>\n",
              "    </tr>\n",
              "    <tr>\n",
              "      <th>4</th>\n",
              "      <td>saboteurDS</td>\n",
              "      <td>False</td>\n",
              "      <td>278</td>\n",
              "      <td>@tancredipalmeri why on earth would #mufc pay ...</td>\n",
              "      <td>-1.0</td>\n",
              "      <td>2022-08-28 12:07:34</td>\n",
              "      <td>India</td>\n",
              "      <td>0</td>\n",
              "      <td>0</td>\n",
              "      <td>2</td>\n",
              "      <td>...</td>\n",
              "      <td>0.045</td>\n",
              "      <td>0.643</td>\n",
              "      <td>0.312</td>\n",
              "      <td>0.8072</td>\n",
              "      <td>w h y   o n   e a r t h   w o u l d     p a ...</td>\n",
              "      <td>-1</td>\n",
              "      <td>0.500000</td>\n",
              "      <td>0.500000</td>\n",
              "      <td>1</td>\n",
              "      <td>-1</td>\n",
              "    </tr>\n",
              "  </tbody>\n",
              "</table>\n",
              "<p>5 rows × 25 columns</p>\n",
              "</div>\n",
              "      <button class=\"colab-df-convert\" onclick=\"convertToInteractive('df-0c2f6564-2013-435e-8f0b-b2592b7374c0')\"\n",
              "              title=\"Convert this dataframe to an interactive table.\"\n",
              "              style=\"display:none;\">\n",
              "        \n",
              "  <svg xmlns=\"http://www.w3.org/2000/svg\" height=\"24px\"viewBox=\"0 0 24 24\"\n",
              "       width=\"24px\">\n",
              "    <path d=\"M0 0h24v24H0V0z\" fill=\"none\"/>\n",
              "    <path d=\"M18.56 5.44l.94 2.06.94-2.06 2.06-.94-2.06-.94-.94-2.06-.94 2.06-2.06.94zm-11 1L8.5 8.5l.94-2.06 2.06-.94-2.06-.94L8.5 2.5l-.94 2.06-2.06.94zm10 10l.94 2.06.94-2.06 2.06-.94-2.06-.94-.94-2.06-.94 2.06-2.06.94z\"/><path d=\"M17.41 7.96l-1.37-1.37c-.4-.4-.92-.59-1.43-.59-.52 0-1.04.2-1.43.59L10.3 9.45l-7.72 7.72c-.78.78-.78 2.05 0 2.83L4 21.41c.39.39.9.59 1.41.59.51 0 1.02-.2 1.41-.59l7.78-7.78 2.81-2.81c.8-.78.8-2.07 0-2.86zM5.41 20L4 18.59l7.72-7.72 1.47 1.35L5.41 20z\"/>\n",
              "  </svg>\n",
              "      </button>\n",
              "      \n",
              "  <style>\n",
              "    .colab-df-container {\n",
              "      display:flex;\n",
              "      flex-wrap:wrap;\n",
              "      gap: 12px;\n",
              "    }\n",
              "\n",
              "    .colab-df-convert {\n",
              "      background-color: #E8F0FE;\n",
              "      border: none;\n",
              "      border-radius: 50%;\n",
              "      cursor: pointer;\n",
              "      display: none;\n",
              "      fill: #1967D2;\n",
              "      height: 32px;\n",
              "      padding: 0 0 0 0;\n",
              "      width: 32px;\n",
              "    }\n",
              "\n",
              "    .colab-df-convert:hover {\n",
              "      background-color: #E2EBFA;\n",
              "      box-shadow: 0px 1px 2px rgba(60, 64, 67, 0.3), 0px 1px 3px 1px rgba(60, 64, 67, 0.15);\n",
              "      fill: #174EA6;\n",
              "    }\n",
              "\n",
              "    [theme=dark] .colab-df-convert {\n",
              "      background-color: #3B4455;\n",
              "      fill: #D2E3FC;\n",
              "    }\n",
              "\n",
              "    [theme=dark] .colab-df-convert:hover {\n",
              "      background-color: #434B5C;\n",
              "      box-shadow: 0px 1px 3px 1px rgba(0, 0, 0, 0.15);\n",
              "      filter: drop-shadow(0px 1px 2px rgba(0, 0, 0, 0.3));\n",
              "      fill: #FFFFFF;\n",
              "    }\n",
              "  </style>\n",
              "\n",
              "      <script>\n",
              "        const buttonEl =\n",
              "          document.querySelector('#df-0c2f6564-2013-435e-8f0b-b2592b7374c0 button.colab-df-convert');\n",
              "        buttonEl.style.display =\n",
              "          google.colab.kernel.accessAllowed ? 'block' : 'none';\n",
              "\n",
              "        async function convertToInteractive(key) {\n",
              "          const element = document.querySelector('#df-0c2f6564-2013-435e-8f0b-b2592b7374c0');\n",
              "          const dataTable =\n",
              "            await google.colab.kernel.invokeFunction('convertToInteractive',\n",
              "                                                     [key], {});\n",
              "          if (!dataTable) return;\n",
              "\n",
              "          const docLinkHtml = 'Like what you see? Visit the ' +\n",
              "            '<a target=\"_blank\" href=https://colab.research.google.com/notebooks/data_table.ipynb>data table notebook</a>'\n",
              "            + ' to learn more about interactive tables.';\n",
              "          element.innerHTML = '';\n",
              "          dataTable['output_type'] = 'display_data';\n",
              "          await google.colab.output.renderOutput(dataTable, element);\n",
              "          const docLink = document.createElement('div');\n",
              "          docLink.innerHTML = docLinkHtml;\n",
              "          element.appendChild(docLink);\n",
              "        }\n",
              "      </script>\n",
              "    </div>\n",
              "  </div>\n",
              "  "
            ]
          },
          "metadata": {},
          "execution_count": 35
        }
      ]
    },
    {
      "cell_type": "code",
      "source": [
        "df.shape"
      ],
      "metadata": {
        "colab": {
          "base_uri": "https://localhost:8080/"
        },
        "id": "Edw701XBxhyK",
        "outputId": "b28ba3e8-a682-4cc3-d4a7-b64163c70a42"
      },
      "execution_count": null,
      "outputs": [
        {
          "output_type": "execute_result",
          "data": {
            "text/plain": [
              "(97398, 25)"
            ]
          },
          "metadata": {},
          "execution_count": 4
        }
      ]
    },
    {
      "cell_type": "code",
      "source": [
        "train=df[df['label'].isnull()]"
      ],
      "metadata": {
        "id": "vUGGubh0vbzP"
      },
      "execution_count": null,
      "outputs": []
    },
    {
      "cell_type": "code",
      "source": [
        "train.head()"
      ],
      "metadata": {
        "colab": {
          "base_uri": "https://localhost:8080/",
          "height": 508
        },
        "id": "JJfdxEfSuv2c",
        "outputId": "01484bb4-ceb1-4b6f-e18a-8cc24976e1d5"
      },
      "execution_count": null,
      "outputs": [
        {
          "output_type": "execute_result",
          "data": {
            "text/plain": [
              "            username  verified  followersCount  \\\n",
              "741         kiren98_     False            2112   \n",
              "742  Mike_Ragnarsson     False               6   \n",
              "743   krystal_mchugh     False             332   \n",
              "744      Jessmawill_     False            2424   \n",
              "745     falahmohamed     False             253   \n",
              "\n",
              "                                               content  label  \\\n",
              "741  @egbon_adu_gbo @utdplug @theathleticuk because...    NaN   \n",
              "742  @utdplug @lauriewhitwell man utd couldn't be a...    NaN   \n",
              "743  man united is the most disappointing team righ...    NaN   \n",
              "744            man u and arsenal predictions?? #munars    NaN   \n",
              "745            @unitedstandmufc liverpool 24, united 0    NaN   \n",
              "\n",
              "                    date        country  replyCount  retweetCount  likeCount  \\\n",
              "741  2022-08-31 09:08:52          India           0             0          1   \n",
              "742  2022-09-03 13:43:26      Argentina           1             0          0   \n",
              "743  2022-08-13 17:03:15  United States           1             0          0   \n",
              "744  2021-12-02 16:32:22        Nigeria           2             0          1   \n",
              "745  2022-08-22 12:50:19          India           0             0          0   \n",
              "\n",
              "     ... vader_neg vader_neu vader_pos vader_comp  \\\n",
              "741  ...     0.095     0.772     0.133     0.2960   \n",
              "742  ...     0.072     0.735     0.193     0.7947   \n",
              "743  ...     0.305     0.564     0.131    -0.5709   \n",
              "744  ...     0.000     1.000     0.000     0.0000   \n",
              "745  ...     0.000     0.517     0.483     0.4215   \n",
              "\n",
              "                                            cleantext2  class  \\\n",
              "741        b e c a u s e   a l o t   o f   l e a k ...     -1   \n",
              "742      m a n   u t d   c o u l d   n o t   b e   ...     -1   \n",
              "743  m a n   u n i t e d   i s   t h e   m o s t   ...     -1   \n",
              "744  m a n   y o u   a n d   a r s e n a l   p r e ...      0   \n",
              "745       l i v e r p o o l   2 4 ,   u n i t e d   0       1   \n",
              "\n",
              "     TextBlob_Subjectivity  TextBlob_Polarity  TextBlob_Analysis final_class  \n",
              "741               0.416667       4.163336e-17                  1          -1  \n",
              "742               0.325758       2.393939e-01                  1          -1  \n",
              "743               0.633929      -1.535714e-01                 -1          -1  \n",
              "744               0.000000       0.000000e+00                  0           0  \n",
              "745               0.000000       0.000000e+00                  0           1  \n",
              "\n",
              "[5 rows x 25 columns]"
            ],
            "text/html": [
              "\n",
              "  <div id=\"df-a605b68f-5da2-413b-8a20-e65e040b1652\">\n",
              "    <div class=\"colab-df-container\">\n",
              "      <div>\n",
              "<style scoped>\n",
              "    .dataframe tbody tr th:only-of-type {\n",
              "        vertical-align: middle;\n",
              "    }\n",
              "\n",
              "    .dataframe tbody tr th {\n",
              "        vertical-align: top;\n",
              "    }\n",
              "\n",
              "    .dataframe thead th {\n",
              "        text-align: right;\n",
              "    }\n",
              "</style>\n",
              "<table border=\"1\" class=\"dataframe\">\n",
              "  <thead>\n",
              "    <tr style=\"text-align: right;\">\n",
              "      <th></th>\n",
              "      <th>username</th>\n",
              "      <th>verified</th>\n",
              "      <th>followersCount</th>\n",
              "      <th>content</th>\n",
              "      <th>label</th>\n",
              "      <th>date</th>\n",
              "      <th>country</th>\n",
              "      <th>replyCount</th>\n",
              "      <th>retweetCount</th>\n",
              "      <th>likeCount</th>\n",
              "      <th>...</th>\n",
              "      <th>vader_neg</th>\n",
              "      <th>vader_neu</th>\n",
              "      <th>vader_pos</th>\n",
              "      <th>vader_comp</th>\n",
              "      <th>cleantext2</th>\n",
              "      <th>class</th>\n",
              "      <th>TextBlob_Subjectivity</th>\n",
              "      <th>TextBlob_Polarity</th>\n",
              "      <th>TextBlob_Analysis</th>\n",
              "      <th>final_class</th>\n",
              "    </tr>\n",
              "  </thead>\n",
              "  <tbody>\n",
              "    <tr>\n",
              "      <th>741</th>\n",
              "      <td>kiren98_</td>\n",
              "      <td>False</td>\n",
              "      <td>2112</td>\n",
              "      <td>@egbon_adu_gbo @utdplug @theathleticuk because...</td>\n",
              "      <td>NaN</td>\n",
              "      <td>2022-08-31 09:08:52</td>\n",
              "      <td>India</td>\n",
              "      <td>0</td>\n",
              "      <td>0</td>\n",
              "      <td>1</td>\n",
              "      <td>...</td>\n",
              "      <td>0.095</td>\n",
              "      <td>0.772</td>\n",
              "      <td>0.133</td>\n",
              "      <td>0.2960</td>\n",
              "      <td>b e c a u s e   a l o t   o f   l e a k ...</td>\n",
              "      <td>-1</td>\n",
              "      <td>0.416667</td>\n",
              "      <td>4.163336e-17</td>\n",
              "      <td>1</td>\n",
              "      <td>-1</td>\n",
              "    </tr>\n",
              "    <tr>\n",
              "      <th>742</th>\n",
              "      <td>Mike_Ragnarsson</td>\n",
              "      <td>False</td>\n",
              "      <td>6</td>\n",
              "      <td>@utdplug @lauriewhitwell man utd couldn't be a...</td>\n",
              "      <td>NaN</td>\n",
              "      <td>2022-09-03 13:43:26</td>\n",
              "      <td>Argentina</td>\n",
              "      <td>1</td>\n",
              "      <td>0</td>\n",
              "      <td>0</td>\n",
              "      <td>...</td>\n",
              "      <td>0.072</td>\n",
              "      <td>0.735</td>\n",
              "      <td>0.193</td>\n",
              "      <td>0.7947</td>\n",
              "      <td>m a n   u t d   c o u l d   n o t   b e   ...</td>\n",
              "      <td>-1</td>\n",
              "      <td>0.325758</td>\n",
              "      <td>2.393939e-01</td>\n",
              "      <td>1</td>\n",
              "      <td>-1</td>\n",
              "    </tr>\n",
              "    <tr>\n",
              "      <th>743</th>\n",
              "      <td>krystal_mchugh</td>\n",
              "      <td>False</td>\n",
              "      <td>332</td>\n",
              "      <td>man united is the most disappointing team righ...</td>\n",
              "      <td>NaN</td>\n",
              "      <td>2022-08-13 17:03:15</td>\n",
              "      <td>United States</td>\n",
              "      <td>1</td>\n",
              "      <td>0</td>\n",
              "      <td>0</td>\n",
              "      <td>...</td>\n",
              "      <td>0.305</td>\n",
              "      <td>0.564</td>\n",
              "      <td>0.131</td>\n",
              "      <td>-0.5709</td>\n",
              "      <td>m a n   u n i t e d   i s   t h e   m o s t   ...</td>\n",
              "      <td>-1</td>\n",
              "      <td>0.633929</td>\n",
              "      <td>-1.535714e-01</td>\n",
              "      <td>-1</td>\n",
              "      <td>-1</td>\n",
              "    </tr>\n",
              "    <tr>\n",
              "      <th>744</th>\n",
              "      <td>Jessmawill_</td>\n",
              "      <td>False</td>\n",
              "      <td>2424</td>\n",
              "      <td>man u and arsenal predictions?? #munars</td>\n",
              "      <td>NaN</td>\n",
              "      <td>2021-12-02 16:32:22</td>\n",
              "      <td>Nigeria</td>\n",
              "      <td>2</td>\n",
              "      <td>0</td>\n",
              "      <td>1</td>\n",
              "      <td>...</td>\n",
              "      <td>0.000</td>\n",
              "      <td>1.000</td>\n",
              "      <td>0.000</td>\n",
              "      <td>0.0000</td>\n",
              "      <td>m a n   y o u   a n d   a r s e n a l   p r e ...</td>\n",
              "      <td>0</td>\n",
              "      <td>0.000000</td>\n",
              "      <td>0.000000e+00</td>\n",
              "      <td>0</td>\n",
              "      <td>0</td>\n",
              "    </tr>\n",
              "    <tr>\n",
              "      <th>745</th>\n",
              "      <td>falahmohamed</td>\n",
              "      <td>False</td>\n",
              "      <td>253</td>\n",
              "      <td>@unitedstandmufc liverpool 24, united 0</td>\n",
              "      <td>NaN</td>\n",
              "      <td>2022-08-22 12:50:19</td>\n",
              "      <td>India</td>\n",
              "      <td>0</td>\n",
              "      <td>0</td>\n",
              "      <td>0</td>\n",
              "      <td>...</td>\n",
              "      <td>0.000</td>\n",
              "      <td>0.517</td>\n",
              "      <td>0.483</td>\n",
              "      <td>0.4215</td>\n",
              "      <td>l i v e r p o o l   2 4 ,   u n i t e d   0</td>\n",
              "      <td>1</td>\n",
              "      <td>0.000000</td>\n",
              "      <td>0.000000e+00</td>\n",
              "      <td>0</td>\n",
              "      <td>1</td>\n",
              "    </tr>\n",
              "  </tbody>\n",
              "</table>\n",
              "<p>5 rows × 25 columns</p>\n",
              "</div>\n",
              "      <button class=\"colab-df-convert\" onclick=\"convertToInteractive('df-a605b68f-5da2-413b-8a20-e65e040b1652')\"\n",
              "              title=\"Convert this dataframe to an interactive table.\"\n",
              "              style=\"display:none;\">\n",
              "        \n",
              "  <svg xmlns=\"http://www.w3.org/2000/svg\" height=\"24px\"viewBox=\"0 0 24 24\"\n",
              "       width=\"24px\">\n",
              "    <path d=\"M0 0h24v24H0V0z\" fill=\"none\"/>\n",
              "    <path d=\"M18.56 5.44l.94 2.06.94-2.06 2.06-.94-2.06-.94-.94-2.06-.94 2.06-2.06.94zm-11 1L8.5 8.5l.94-2.06 2.06-.94-2.06-.94L8.5 2.5l-.94 2.06-2.06.94zm10 10l.94 2.06.94-2.06 2.06-.94-2.06-.94-.94-2.06-.94 2.06-2.06.94z\"/><path d=\"M17.41 7.96l-1.37-1.37c-.4-.4-.92-.59-1.43-.59-.52 0-1.04.2-1.43.59L10.3 9.45l-7.72 7.72c-.78.78-.78 2.05 0 2.83L4 21.41c.39.39.9.59 1.41.59.51 0 1.02-.2 1.41-.59l7.78-7.78 2.81-2.81c.8-.78.8-2.07 0-2.86zM5.41 20L4 18.59l7.72-7.72 1.47 1.35L5.41 20z\"/>\n",
              "  </svg>\n",
              "      </button>\n",
              "      \n",
              "  <style>\n",
              "    .colab-df-container {\n",
              "      display:flex;\n",
              "      flex-wrap:wrap;\n",
              "      gap: 12px;\n",
              "    }\n",
              "\n",
              "    .colab-df-convert {\n",
              "      background-color: #E8F0FE;\n",
              "      border: none;\n",
              "      border-radius: 50%;\n",
              "      cursor: pointer;\n",
              "      display: none;\n",
              "      fill: #1967D2;\n",
              "      height: 32px;\n",
              "      padding: 0 0 0 0;\n",
              "      width: 32px;\n",
              "    }\n",
              "\n",
              "    .colab-df-convert:hover {\n",
              "      background-color: #E2EBFA;\n",
              "      box-shadow: 0px 1px 2px rgba(60, 64, 67, 0.3), 0px 1px 3px 1px rgba(60, 64, 67, 0.15);\n",
              "      fill: #174EA6;\n",
              "    }\n",
              "\n",
              "    [theme=dark] .colab-df-convert {\n",
              "      background-color: #3B4455;\n",
              "      fill: #D2E3FC;\n",
              "    }\n",
              "\n",
              "    [theme=dark] .colab-df-convert:hover {\n",
              "      background-color: #434B5C;\n",
              "      box-shadow: 0px 1px 3px 1px rgba(0, 0, 0, 0.15);\n",
              "      filter: drop-shadow(0px 1px 2px rgba(0, 0, 0, 0.3));\n",
              "      fill: #FFFFFF;\n",
              "    }\n",
              "  </style>\n",
              "\n",
              "      <script>\n",
              "        const buttonEl =\n",
              "          document.querySelector('#df-a605b68f-5da2-413b-8a20-e65e040b1652 button.colab-df-convert');\n",
              "        buttonEl.style.display =\n",
              "          google.colab.kernel.accessAllowed ? 'block' : 'none';\n",
              "\n",
              "        async function convertToInteractive(key) {\n",
              "          const element = document.querySelector('#df-a605b68f-5da2-413b-8a20-e65e040b1652');\n",
              "          const dataTable =\n",
              "            await google.colab.kernel.invokeFunction('convertToInteractive',\n",
              "                                                     [key], {});\n",
              "          if (!dataTable) return;\n",
              "\n",
              "          const docLinkHtml = 'Like what you see? Visit the ' +\n",
              "            '<a target=\"_blank\" href=https://colab.research.google.com/notebooks/data_table.ipynb>data table notebook</a>'\n",
              "            + ' to learn more about interactive tables.';\n",
              "          element.innerHTML = '';\n",
              "          dataTable['output_type'] = 'display_data';\n",
              "          await google.colab.output.renderOutput(dataTable, element);\n",
              "          const docLink = document.createElement('div');\n",
              "          docLink.innerHTML = docLinkHtml;\n",
              "          element.appendChild(docLink);\n",
              "        }\n",
              "      </script>\n",
              "    </div>\n",
              "  </div>\n",
              "  "
            ]
          },
          "metadata": {},
          "execution_count": 9
        }
      ]
    },
    {
      "cell_type": "code",
      "source": [
        "train = train[train['vader_preprocessing_text'].notnull()]"
      ],
      "metadata": {
        "id": "b7xkd8f2duUf"
      },
      "execution_count": null,
      "outputs": []
    },
    {
      "cell_type": "code",
      "source": [
        "train['final_class'].value_counts()"
      ],
      "metadata": {
        "colab": {
          "base_uri": "https://localhost:8080/"
        },
        "id": "j8VyTT1-waNx",
        "outputId": "9b8a701a-af63-4c2f-81b9-a35fc753bc8c"
      },
      "execution_count": null,
      "outputs": [
        {
          "output_type": "execute_result",
          "data": {
            "text/plain": [
              " 1    33059\n",
              " 0    30185\n",
              "-1    29451\n",
              "Name: final_class, dtype: int64"
            ]
          },
          "metadata": {},
          "execution_count": 11
        }
      ]
    },
    {
      "cell_type": "code",
      "source": [
        "test=df[df['label'].notnull()]"
      ],
      "metadata": {
        "id": "i3POBvspwhtR"
      },
      "execution_count": null,
      "outputs": []
    },
    {
      "cell_type": "code",
      "source": [
        "test = test[test['vader_preprocessing_text'].notnull()]"
      ],
      "metadata": {
        "id": "HwcZNzP_eYoA"
      },
      "execution_count": null,
      "outputs": []
    },
    {
      "cell_type": "code",
      "source": [
        "test.head()"
      ],
      "metadata": {
        "colab": {
          "base_uri": "https://localhost:8080/",
          "height": 508
        },
        "id": "_Do2TekMxLIG",
        "outputId": "5a43fe31-d4a0-412b-a67c-d66cf67940b1"
      },
      "execution_count": null,
      "outputs": [
        {
          "output_type": "execute_result",
          "data": {
            "text/plain": [
              "          username  verified  followersCount  \\\n",
              "0  HuyThanhNguyen5     False               0   \n",
              "1     guaslackjack     False             125   \n",
              "2          gerryrb     False             935   \n",
              "3       rickitten_     False               9   \n",
              "4       saboteurDS     False             278   \n",
              "\n",
              "                                             content  label  \\\n",
              "0  @unitedstandmufc @markgoldbridge get ole again...   -1.0   \n",
              "1  best goal: bruno top assists: pogba 🐐: cristia...    1.0   \n",
              "2  @lost_souls_07 @kayinfinite28 @altyred2 @utdpl...    0.0   \n",
              "3  players spurs in old trafford #mufc #muntot ht...    0.0   \n",
              "4  @tancredipalmeri why on earth would #mufc pay ...   -1.0   \n",
              "\n",
              "                  date    country  replyCount  retweetCount  likeCount  ...  \\\n",
              "0  2022-08-31 15:12:54      India           0             0          0  ...   \n",
              "1  2021-09-11 15:56:21      India           0             0          0  ...   \n",
              "2  2022-09-03 14:29:34  Argentina           1             0          1  ...   \n",
              "3  2022-03-12 19:14:18      India           0             0          0  ...   \n",
              "4  2022-08-28 12:07:34      India           0             0          2  ...   \n",
              "\n",
              "  vader_neg vader_neu vader_pos vader_comp  \\\n",
              "0     0.046     0.819     0.134     0.7133   \n",
              "1     0.000     0.561     0.439     0.8225   \n",
              "2     0.000     0.505     0.495     0.9562   \n",
              "3     0.000     1.000     0.000     0.0000   \n",
              "4     0.045     0.643     0.312     0.8072   \n",
              "\n",
              "                                          cleantext2  class  \\\n",
              "0      g e t   o l e   a g a i n   t o   t e l l ...     -1   \n",
              "1  b e s t   g o a l :   b r u n o   t o p   a s ...      1   \n",
              "2          i   d o   n o t   k n o w   i s   t h ...      1   \n",
              "3  p l a y e r s   s p u r s   i n   o l d   t r ...      0   \n",
              "4    w h y   o n   e a r t h   w o u l d     p a ...     -1   \n",
              "\n",
              "   TextBlob_Subjectivity  TextBlob_Polarity  TextBlob_Analysis final_class  \n",
              "0               0.600000           0.290000                  1          -1  \n",
              "1               0.400000           0.533333                  1           1  \n",
              "2               0.783333           0.450000                  1           0  \n",
              "3               0.200000           0.100000                  1           0  \n",
              "4               0.500000           0.500000                  1          -1  \n",
              "\n",
              "[5 rows x 25 columns]"
            ],
            "text/html": [
              "\n",
              "  <div id=\"df-059b7fc2-7fc0-4a1f-852e-906f153c61dd\">\n",
              "    <div class=\"colab-df-container\">\n",
              "      <div>\n",
              "<style scoped>\n",
              "    .dataframe tbody tr th:only-of-type {\n",
              "        vertical-align: middle;\n",
              "    }\n",
              "\n",
              "    .dataframe tbody tr th {\n",
              "        vertical-align: top;\n",
              "    }\n",
              "\n",
              "    .dataframe thead th {\n",
              "        text-align: right;\n",
              "    }\n",
              "</style>\n",
              "<table border=\"1\" class=\"dataframe\">\n",
              "  <thead>\n",
              "    <tr style=\"text-align: right;\">\n",
              "      <th></th>\n",
              "      <th>username</th>\n",
              "      <th>verified</th>\n",
              "      <th>followersCount</th>\n",
              "      <th>content</th>\n",
              "      <th>label</th>\n",
              "      <th>date</th>\n",
              "      <th>country</th>\n",
              "      <th>replyCount</th>\n",
              "      <th>retweetCount</th>\n",
              "      <th>likeCount</th>\n",
              "      <th>...</th>\n",
              "      <th>vader_neg</th>\n",
              "      <th>vader_neu</th>\n",
              "      <th>vader_pos</th>\n",
              "      <th>vader_comp</th>\n",
              "      <th>cleantext2</th>\n",
              "      <th>class</th>\n",
              "      <th>TextBlob_Subjectivity</th>\n",
              "      <th>TextBlob_Polarity</th>\n",
              "      <th>TextBlob_Analysis</th>\n",
              "      <th>final_class</th>\n",
              "    </tr>\n",
              "  </thead>\n",
              "  <tbody>\n",
              "    <tr>\n",
              "      <th>0</th>\n",
              "      <td>HuyThanhNguyen5</td>\n",
              "      <td>False</td>\n",
              "      <td>0</td>\n",
              "      <td>@unitedstandmufc @markgoldbridge get ole again...</td>\n",
              "      <td>-1.0</td>\n",
              "      <td>2022-08-31 15:12:54</td>\n",
              "      <td>India</td>\n",
              "      <td>0</td>\n",
              "      <td>0</td>\n",
              "      <td>0</td>\n",
              "      <td>...</td>\n",
              "      <td>0.046</td>\n",
              "      <td>0.819</td>\n",
              "      <td>0.134</td>\n",
              "      <td>0.7133</td>\n",
              "      <td>g e t   o l e   a g a i n   t o   t e l l ...</td>\n",
              "      <td>-1</td>\n",
              "      <td>0.600000</td>\n",
              "      <td>0.290000</td>\n",
              "      <td>1</td>\n",
              "      <td>-1</td>\n",
              "    </tr>\n",
              "    <tr>\n",
              "      <th>1</th>\n",
              "      <td>guaslackjack</td>\n",
              "      <td>False</td>\n",
              "      <td>125</td>\n",
              "      <td>best goal: bruno top assists: pogba 🐐: cristia...</td>\n",
              "      <td>1.0</td>\n",
              "      <td>2021-09-11 15:56:21</td>\n",
              "      <td>India</td>\n",
              "      <td>0</td>\n",
              "      <td>0</td>\n",
              "      <td>0</td>\n",
              "      <td>...</td>\n",
              "      <td>0.000</td>\n",
              "      <td>0.561</td>\n",
              "      <td>0.439</td>\n",
              "      <td>0.8225</td>\n",
              "      <td>b e s t   g o a l :   b r u n o   t o p   a s ...</td>\n",
              "      <td>1</td>\n",
              "      <td>0.400000</td>\n",
              "      <td>0.533333</td>\n",
              "      <td>1</td>\n",
              "      <td>1</td>\n",
              "    </tr>\n",
              "    <tr>\n",
              "      <th>2</th>\n",
              "      <td>gerryrb</td>\n",
              "      <td>False</td>\n",
              "      <td>935</td>\n",
              "      <td>@lost_souls_07 @kayinfinite28 @altyred2 @utdpl...</td>\n",
              "      <td>0.0</td>\n",
              "      <td>2022-09-03 14:29:34</td>\n",
              "      <td>Argentina</td>\n",
              "      <td>1</td>\n",
              "      <td>0</td>\n",
              "      <td>1</td>\n",
              "      <td>...</td>\n",
              "      <td>0.000</td>\n",
              "      <td>0.505</td>\n",
              "      <td>0.495</td>\n",
              "      <td>0.9562</td>\n",
              "      <td>i   d o   n o t   k n o w   i s   t h ...</td>\n",
              "      <td>1</td>\n",
              "      <td>0.783333</td>\n",
              "      <td>0.450000</td>\n",
              "      <td>1</td>\n",
              "      <td>0</td>\n",
              "    </tr>\n",
              "    <tr>\n",
              "      <th>3</th>\n",
              "      <td>rickitten_</td>\n",
              "      <td>False</td>\n",
              "      <td>9</td>\n",
              "      <td>players spurs in old trafford #mufc #muntot ht...</td>\n",
              "      <td>0.0</td>\n",
              "      <td>2022-03-12 19:14:18</td>\n",
              "      <td>India</td>\n",
              "      <td>0</td>\n",
              "      <td>0</td>\n",
              "      <td>0</td>\n",
              "      <td>...</td>\n",
              "      <td>0.000</td>\n",
              "      <td>1.000</td>\n",
              "      <td>0.000</td>\n",
              "      <td>0.0000</td>\n",
              "      <td>p l a y e r s   s p u r s   i n   o l d   t r ...</td>\n",
              "      <td>0</td>\n",
              "      <td>0.200000</td>\n",
              "      <td>0.100000</td>\n",
              "      <td>1</td>\n",
              "      <td>0</td>\n",
              "    </tr>\n",
              "    <tr>\n",
              "      <th>4</th>\n",
              "      <td>saboteurDS</td>\n",
              "      <td>False</td>\n",
              "      <td>278</td>\n",
              "      <td>@tancredipalmeri why on earth would #mufc pay ...</td>\n",
              "      <td>-1.0</td>\n",
              "      <td>2022-08-28 12:07:34</td>\n",
              "      <td>India</td>\n",
              "      <td>0</td>\n",
              "      <td>0</td>\n",
              "      <td>2</td>\n",
              "      <td>...</td>\n",
              "      <td>0.045</td>\n",
              "      <td>0.643</td>\n",
              "      <td>0.312</td>\n",
              "      <td>0.8072</td>\n",
              "      <td>w h y   o n   e a r t h   w o u l d     p a ...</td>\n",
              "      <td>-1</td>\n",
              "      <td>0.500000</td>\n",
              "      <td>0.500000</td>\n",
              "      <td>1</td>\n",
              "      <td>-1</td>\n",
              "    </tr>\n",
              "  </tbody>\n",
              "</table>\n",
              "<p>5 rows × 25 columns</p>\n",
              "</div>\n",
              "      <button class=\"colab-df-convert\" onclick=\"convertToInteractive('df-059b7fc2-7fc0-4a1f-852e-906f153c61dd')\"\n",
              "              title=\"Convert this dataframe to an interactive table.\"\n",
              "              style=\"display:none;\">\n",
              "        \n",
              "  <svg xmlns=\"http://www.w3.org/2000/svg\" height=\"24px\"viewBox=\"0 0 24 24\"\n",
              "       width=\"24px\">\n",
              "    <path d=\"M0 0h24v24H0V0z\" fill=\"none\"/>\n",
              "    <path d=\"M18.56 5.44l.94 2.06.94-2.06 2.06-.94-2.06-.94-.94-2.06-.94 2.06-2.06.94zm-11 1L8.5 8.5l.94-2.06 2.06-.94-2.06-.94L8.5 2.5l-.94 2.06-2.06.94zm10 10l.94 2.06.94-2.06 2.06-.94-2.06-.94-.94-2.06-.94 2.06-2.06.94z\"/><path d=\"M17.41 7.96l-1.37-1.37c-.4-.4-.92-.59-1.43-.59-.52 0-1.04.2-1.43.59L10.3 9.45l-7.72 7.72c-.78.78-.78 2.05 0 2.83L4 21.41c.39.39.9.59 1.41.59.51 0 1.02-.2 1.41-.59l7.78-7.78 2.81-2.81c.8-.78.8-2.07 0-2.86zM5.41 20L4 18.59l7.72-7.72 1.47 1.35L5.41 20z\"/>\n",
              "  </svg>\n",
              "      </button>\n",
              "      \n",
              "  <style>\n",
              "    .colab-df-container {\n",
              "      display:flex;\n",
              "      flex-wrap:wrap;\n",
              "      gap: 12px;\n",
              "    }\n",
              "\n",
              "    .colab-df-convert {\n",
              "      background-color: #E8F0FE;\n",
              "      border: none;\n",
              "      border-radius: 50%;\n",
              "      cursor: pointer;\n",
              "      display: none;\n",
              "      fill: #1967D2;\n",
              "      height: 32px;\n",
              "      padding: 0 0 0 0;\n",
              "      width: 32px;\n",
              "    }\n",
              "\n",
              "    .colab-df-convert:hover {\n",
              "      background-color: #E2EBFA;\n",
              "      box-shadow: 0px 1px 2px rgba(60, 64, 67, 0.3), 0px 1px 3px 1px rgba(60, 64, 67, 0.15);\n",
              "      fill: #174EA6;\n",
              "    }\n",
              "\n",
              "    [theme=dark] .colab-df-convert {\n",
              "      background-color: #3B4455;\n",
              "      fill: #D2E3FC;\n",
              "    }\n",
              "\n",
              "    [theme=dark] .colab-df-convert:hover {\n",
              "      background-color: #434B5C;\n",
              "      box-shadow: 0px 1px 3px 1px rgba(0, 0, 0, 0.15);\n",
              "      filter: drop-shadow(0px 1px 2px rgba(0, 0, 0, 0.3));\n",
              "      fill: #FFFFFF;\n",
              "    }\n",
              "  </style>\n",
              "\n",
              "      <script>\n",
              "        const buttonEl =\n",
              "          document.querySelector('#df-059b7fc2-7fc0-4a1f-852e-906f153c61dd button.colab-df-convert');\n",
              "        buttonEl.style.display =\n",
              "          google.colab.kernel.accessAllowed ? 'block' : 'none';\n",
              "\n",
              "        async function convertToInteractive(key) {\n",
              "          const element = document.querySelector('#df-059b7fc2-7fc0-4a1f-852e-906f153c61dd');\n",
              "          const dataTable =\n",
              "            await google.colab.kernel.invokeFunction('convertToInteractive',\n",
              "                                                     [key], {});\n",
              "          if (!dataTable) return;\n",
              "\n",
              "          const docLinkHtml = 'Like what you see? Visit the ' +\n",
              "            '<a target=\"_blank\" href=https://colab.research.google.com/notebooks/data_table.ipynb>data table notebook</a>'\n",
              "            + ' to learn more about interactive tables.';\n",
              "          element.innerHTML = '';\n",
              "          dataTable['output_type'] = 'display_data';\n",
              "          await google.colab.output.renderOutput(dataTable, element);\n",
              "          const docLink = document.createElement('div');\n",
              "          docLink.innerHTML = docLinkHtml;\n",
              "          element.appendChild(docLink);\n",
              "        }\n",
              "      </script>\n",
              "    </div>\n",
              "  </div>\n",
              "  "
            ]
          },
          "metadata": {},
          "execution_count": 14
        }
      ]
    },
    {
      "cell_type": "markdown",
      "source": [
        "# Naive Bayes"
      ],
      "metadata": {
        "id": "8uq_lLWD0kWk"
      }
    },
    {
      "cell_type": "code",
      "source": [
        "from sklearn.feature_extraction.text import TfidfVectorizer"
      ],
      "metadata": {
        "id": "FXbak447xMYZ"
      },
      "execution_count": null,
      "outputs": []
    },
    {
      "cell_type": "code",
      "source": [
        "from sklearn.naive_bayes import MultinomialNB"
      ],
      "metadata": {
        "id": "VerBLlo9zV2v"
      },
      "execution_count": null,
      "outputs": []
    },
    {
      "cell_type": "code",
      "source": [
        "tfidf=TfidfVectorizer()\n",
        "tweet_tfidf_train=tfidf.fit_transform(train['cleantext_no_spell'])"
      ],
      "metadata": {
        "id": "zJpUKVlLyTqE"
      },
      "execution_count": null,
      "outputs": []
    },
    {
      "cell_type": "code",
      "source": [
        "MNB=MultinomialNB()\n",
        "MNB.fit(tweet_tfidf_train,train['final_class'])"
      ],
      "metadata": {
        "colab": {
          "base_uri": "https://localhost:8080/"
        },
        "id": "9XOPkDOlzjRn",
        "outputId": "82602a5a-9519-4957-8a32-d25860999097"
      },
      "execution_count": null,
      "outputs": [
        {
          "output_type": "execute_result",
          "data": {
            "text/plain": [
              "MultinomialNB()"
            ]
          },
          "metadata": {},
          "execution_count": 18
        }
      ]
    },
    {
      "cell_type": "code",
      "source": [
        "from sklearn import metrics\n",
        "tweet_tfidf_eval=tfidf.transform(test['cleantext_no_spell'])\n",
        "predicted=MNB.predict(tweet_tfidf_eval)\n",
        "accuracy_score=metrics.accuracy_score(predicted,test['label'])"
      ],
      "metadata": {
        "id": "h1cOK0siz1uu"
      },
      "execution_count": null,
      "outputs": []
    },
    {
      "cell_type": "code",
      "source": [
        "precision = round(metrics.precision_score(test['label'],predicted, average=\"weighted\"), 3)\n",
        "recall = round(metrics.recall_score(test['label'],predicted, average=\"weighted\"), 3)\n",
        "nb_f1_score = round(metrics.f1_score(test['label'], predicted, average=\"weighted\"), 3)"
      ],
      "metadata": {
        "id": "sOzinAmZ8KWj"
      },
      "execution_count": null,
      "outputs": []
    },
    {
      "cell_type": "code",
      "source": [
        "print(\"Accuracy: \", accuracy_score)\n",
        "print(\"Precision: \", precision)\n",
        "print(\"Recall: \", recall)\n",
        "print(\"F1_score: \", nb_f1_score)"
      ],
      "metadata": {
        "id": "XiD8ujR-8lj_"
      },
      "execution_count": null,
      "outputs": []
    },
    {
      "cell_type": "code",
      "source": [
        "import matplotlib.pyplot as plt\n",
        "from sklearn.metrics import plot_confusion_matrix\n",
        "plot_confusion_matrix(MNB, tweet_tfidf_eval, test['label']) \n",
        "plt.show()"
      ],
      "metadata": {
        "colab": {
          "base_uri": "https://localhost:8080/",
          "height": 335
        },
        "id": "rVm5OxAjUquJ",
        "outputId": "6f168eb7-b3e9-48a2-f861-d7c84f7a359d"
      },
      "execution_count": null,
      "outputs": [
        {
          "output_type": "stream",
          "name": "stderr",
          "text": [
            "/usr/local/lib/python3.7/dist-packages/sklearn/utils/deprecation.py:87: FutureWarning: Function plot_confusion_matrix is deprecated; Function `plot_confusion_matrix` is deprecated in 1.0 and will be removed in 1.2. Use one of the class methods: ConfusionMatrixDisplay.from_predictions or ConfusionMatrixDisplay.from_estimator.\n",
            "  warnings.warn(msg, category=FutureWarning)\n"
          ]
        },
        {
          "output_type": "display_data",
          "data": {
            "text/plain": [
              "<Figure size 432x288 with 2 Axes>"
            ],
            "image/png": "[encoded data removed]"
          },
          "metadata": {
            "needs_background": "light"
          }
        }
      ]
    },
    {
      "cell_type": "code",
      "source": [
        "tfidf=TfidfVectorizer()\n",
        "tweet_tfidf_train=tfidf.fit_transform(train['vader_preprocessing_text'])"
      ],
      "metadata": {
        "id": "OA48QzAmdo6E"
      },
      "execution_count": null,
      "outputs": []
    },
    {
      "cell_type": "code",
      "source": [
        "MNB=MultinomialNB()\n",
        "MNB.fit(tweet_tfidf_train,train['final_class'])"
      ],
      "metadata": {
        "colab": {
          "base_uri": "https://localhost:8080/"
        },
        "outputId": "5931282b-4bee-40ef-f46a-fbd28e0bdcfe",
        "id": "cFOz6DiMdo6G"
      },
      "execution_count": null,
      "outputs": [
        {
          "output_type": "execute_result",
          "data": {
            "text/plain": [
              "MultinomialNB()"
            ]
          },
          "metadata": {},
          "execution_count": 26
        }
      ]
    },
    {
      "cell_type": "code",
      "source": [
        "from sklearn import metrics\n",
        "tweet_tfidf_eval=tfidf.transform(test['vader_preprocessing_text'])\n",
        "predicted=MNB.predict(tweet_tfidf_eval)\n",
        "accuracy_score=metrics.accuracy_score(predicted,test['label'])"
      ],
      "metadata": {
        "id": "0sGDyz08do6G"
      },
      "execution_count": null,
      "outputs": []
    },
    {
      "cell_type": "code",
      "source": [
        "precision = round(metrics.precision_score(test['label'],predicted, average=\"weighted\"), 3)\n",
        "recall = round(metrics.recall_score(test['label'],predicted, average=\"weighted\"), 3)\n",
        "nb_f1_score = round(metrics.f1_score(test['label'], predicted, average=\"weighted\"), 3)"
      ],
      "metadata": {
        "id": "IY8KRJT3do6G"
      },
      "execution_count": null,
      "outputs": []
    },
    {
      "cell_type": "code",
      "source": [
        "print(\"Accuracy: \", accuracy_score)\n",
        "print(\"Precision: \", precision)\n",
        "print(\"Recall: \", recall)\n",
        "print(\"F1_score: \", nb_f1_score)"
      ],
      "metadata": {
        "colab": {
          "base_uri": "https://localhost:8080/"
        },
        "id": "QzmTG9pQ272p",
        "outputId": "6a5dd578-35f1-4c23-a920-20e2cb0da557"
      },
      "execution_count": null,
      "outputs": [
        {
          "output_type": "stream",
          "name": "stdout",
          "text": [
            "Accuracy:  0.4815839897807111\n",
            "Precision:  0.473\n",
            "Recall:  0.482\n",
            "F1_score:  0.469\n"
          ]
        }
      ]
    },
    {
      "cell_type": "code",
      "source": [
        "import matplotlib.pyplot as plt\n",
        "from sklearn.metrics import plot_confusion_matrix\n",
        "plot_confusion_matrix(MNB, tweet_tfidf_eval, test['label']) \n",
        "plt.show()"
      ],
      "metadata": {
        "colab": {
          "base_uri": "https://localhost:8080/",
          "height": 335
        },
        "outputId": "9af439ef-3d55-4468-8a17-dd5ff04b1c93",
        "id": "FvDi6zsRdo6G"
      },
      "execution_count": null,
      "outputs": [
        {
          "output_type": "stream",
          "name": "stderr",
          "text": [
            "/usr/local/lib/python3.7/dist-packages/sklearn/utils/deprecation.py:87: FutureWarning: Function plot_confusion_matrix is deprecated; Function `plot_confusion_matrix` is deprecated in 1.0 and will be removed in 1.2. Use one of the class methods: ConfusionMatrixDisplay.from_predictions or ConfusionMatrixDisplay.from_estimator.\n",
            "  warnings.warn(msg, category=FutureWarning)\n"
          ]
        },
        {
          "output_type": "display_data",
          "data": {
            "text/plain": [
              "<Figure size 432x288 with 2 Axes>"
            ],
            "image/png": "[encoded data removed]"
          },
          "metadata": {
            "needs_background": "light"
          }
        }
      ]
    },
    {
      "cell_type": "markdown",
      "source": [
        "# Gaussian Naive Bayes"
      ],
      "metadata": {
        "id": "T7V_HM2a9E0O"
      }
    },
    {
      "cell_type": "code",
      "source": [
        "from sklearn.naive_bayes import GaussianNB\n",
        "GNB=GaussianNB()\n",
        "tfidf=TfidfVectorizer()\n",
        "tweet_tfidf_train=tfidf.fit_transform(train['cleantext_no_spell'])\n",
        "GNB.fit(tweet_tfidf_train.toarray(),train['final_class'])"
      ],
      "metadata": {
        "id": "_wmMVHGDWLjq"
      },
      "execution_count": null,
      "outputs": []
    },
    {
      "cell_type": "code",
      "source": [
        "from sklearn import metrics\n",
        "tweet_tfidf_eval=tfidf.transform(eval['processed_content'])\n",
        "predicted=GNB.predict(tweet_tfidf_eval.toarray())\n",
        "accuracy_score=round(metrics.accuracy_score(predicted,eval['sentiment']), 3)"
      ],
      "metadata": {
        "id": "XVMz4Bl2WLjr"
      },
      "execution_count": null,
      "outputs": []
    },
    {
      "cell_type": "code",
      "source": [
        "precision = round(metrics.precision_score(eval['sentiment'],predicted, average=\"weighted\"), 3)\n",
        "recall = round(metrics.recall_score(eval['sentiment'],predicted, average=\"weighted\"), 3)\n",
        "nb_f1_score = round(metrics.f1_score(eval['sentiment'], predicted, average=\"weighted\"), 3)"
      ],
      "metadata": {
        "id": "1XmBRVf4WLjr"
      },
      "execution_count": null,
      "outputs": []
    },
    {
      "cell_type": "code",
      "source": [
        "print(\"Accuracy: \", accuracy_score)\n",
        "print(\"Precision: \", precision)\n",
        "print(\"Recall: \", recall)\n",
        "print(\"F1_score: \", nb_f1_score)"
      ],
      "metadata": {
        "colab": {
          "base_uri": "https://localhost:8080/"
        },
        "id": "89i_Dvr-EO6Q",
        "outputId": "8054774f-3a86-4c9c-b3d4-b6ece1a13ced"
      },
      "execution_count": null,
      "outputs": [
        {
          "output_type": "stream",
          "name": "stdout",
          "text": [
            "Accuracy:  0.413\n",
            "Precision:  0.468\n",
            "Recall:  0.413\n",
            "F1_score:  0.421\n"
          ]
        }
      ]
    },
    {
      "cell_type": "code",
      "source": [
        "import matplotlib.pyplot as plt\n",
        "from sklearn.metrics import plot_confusion_matrix\n",
        "plot_confusion_matrix(GNB, tweet_tfidf_eval.toarray(), eval['sentiment']) \n",
        "plt.show()"
      ],
      "metadata": {
        "colab": {
          "base_uri": "https://localhost:8080/",
          "height": 334
        },
        "outputId": "4f2898ff-dda7-488b-9a64-376256dc543d",
        "id": "PiOOyipSWLjt"
      },
      "execution_count": null,
      "outputs": [
        {
          "output_type": "stream",
          "name": "stderr",
          "text": [
            "/usr/local/lib/python3.7/dist-packages/sklearn/utils/deprecation.py:87: FutureWarning: Function plot_confusion_matrix is deprecated; Function `plot_confusion_matrix` is deprecated in 1.0 and will be removed in 1.2. Use one of the class methods: ConfusionMatrixDisplay.from_predictions or ConfusionMatrixDisplay.from_estimator.\n",
            "  warnings.warn(msg, category=FutureWarning)\n"
          ]
        },
        {
          "output_type": "display_data",
          "data": {
            "text/plain": [
              "<Figure size 432x288 with 2 Axes>"
            ],
            "image/png": "[encoded data removed]"
          },
          "metadata": {
            "needs_background": "light"
          }
        }
      ]
    },
    {
      "cell_type": "code",
      "source": [],
      "metadata": {
        "id": "UX00lCckYO9O"
      },
      "execution_count": null,
      "outputs": []
    },
    {
      "cell_type": "markdown",
      "source": [
        "# Random Forest"
      ],
      "metadata": {
        "id": "4WKsXF3n9K4y"
      }
    },
    {
      "cell_type": "code",
      "source": [
        "from sklearn.ensemble import RandomForestClassifier\n",
        "from sklearn.model_selection import cross_val_score\n",
        "\n",
        "tfidf=TfidfVectorizer()\n",
        "tweet_tfidf_train=tfidf.fit_transform(train['cleantext_no_spell'])\n",
        "\n",
        "tweet_tfidf_eval=tfidf.transform(test['cleantext_no_spell'])\n",
        "rf = RandomForestClassifier()\n",
        "scores = cross_val_score(rf,tweet_tfidf_train,train['final_class'],cv=5)"
      ],
      "metadata": {
        "id": "JFUY8pmV4OXM"
      },
      "execution_count": null,
      "outputs": []
    },
    {
      "cell_type": "code",
      "source": [
        "print(scores)\n",
        "scores.mean()"
      ],
      "metadata": {
        "colab": {
          "base_uri": "https://localhost:8080/"
        },
        "id": "ZfmbGnnQ6Nmi",
        "outputId": "a61cb410-0340-4788-cf89-faddd2670bd9"
      },
      "execution_count": null,
      "outputs": [
        {
          "output_type": "stream",
          "name": "stdout",
          "text": [
            "[0.78677383 0.80559901 0.82145747 0.77528454 0.76508981]\n"
          ]
        },
        {
          "output_type": "execute_result",
          "data": {
            "text/plain": [
              "0.7908409299314958"
            ]
          },
          "metadata": {},
          "execution_count": 31
        }
      ]
    },
    {
      "cell_type": "code",
      "source": [
        "def print_results(results):\n",
        "    print('BEST PARAMS: {}\\n'.format(results.best_params_))\n",
        "\n",
        "    means = results.cv_results_['mean_test_score']\n",
        "    stds = results.cv_results_['std_test_score']\n",
        "    for mean, std, params in zip(means, stds, results.cv_results_['params']):\n",
        "        print('{} (+/-{}) for {}'.format(round(mean, 3), round(std * 2, 3), params))"
      ],
      "metadata": {
        "id": "xr9KpqIE6S0L"
      },
      "execution_count": null,
      "outputs": []
    },
    {
      "cell_type": "code",
      "source": [
        "from sklearn.model_selection import GridSearchCV\n",
        "\n",
        "rf = RandomForestClassifier()\n",
        "parameters = {\n",
        "    'n_estimators': [5,50,100],\n",
        "    'max_depth': [2,10,20,None]\n",
        "}\n",
        "\n",
        "cv = GridSearchCV(rf,parameters)\n",
        "cv.fit(tweet_tfidf_train,train['final_class'])\n",
        "print_results(cv)"
      ],
      "metadata": {
        "colab": {
          "base_uri": "https://localhost:8080/"
        },
        "id": "K-h9RnnI7R6p",
        "outputId": "a9478c54-2b15-4b05-a8ca-b393a0ae2b33"
      },
      "execution_count": null,
      "outputs": [
        {
          "output_type": "stream",
          "name": "stdout",
          "text": [
            "BEST PARAMS: {'max_depth': None, 'n_estimators': 100}\n",
            "\n",
            "0.398 (+/-0.062) for {'max_depth': 2, 'n_estimators': 5}\n",
            "0.373 (+/-0.006) for {'max_depth': 2, 'n_estimators': 50}\n",
            "0.371 (+/-0.007) for {'max_depth': 2, 'n_estimators': 100}\n",
            "0.51 (+/-0.034) for {'max_depth': 10, 'n_estimators': 5}\n",
            "0.61 (+/-0.021) for {'max_depth': 10, 'n_estimators': 50}\n",
            "0.613 (+/-0.021) for {'max_depth': 10, 'n_estimators': 100}\n",
            "0.564 (+/-0.049) for {'max_depth': 20, 'n_estimators': 5}\n",
            "0.659 (+/-0.027) for {'max_depth': 20, 'n_estimators': 50}\n",
            "0.666 (+/-0.02) for {'max_depth': 20, 'n_estimators': 100}\n",
            "0.693 (+/-0.059) for {'max_depth': None, 'n_estimators': 5}\n",
            "0.782 (+/-0.043) for {'max_depth': None, 'n_estimators': 50}\n",
            "0.791 (+/-0.043) for {'max_depth': None, 'n_estimators': 100}\n"
          ]
        }
      ]
    },
    {
      "cell_type": "code",
      "source": [
        "rf3 = RandomForestClassifier(n_estimators=50,max_depth=None)\n",
        "rf3.fit(tweet_tfidf_train,train['final_class'])"
      ],
      "metadata": {
        "colab": {
          "base_uri": "https://localhost:8080/"
        },
        "id": "vxPLTOpl7dTL",
        "outputId": "ba12f601-98f9-4dbc-b0c7-5a49720c521c"
      },
      "execution_count": null,
      "outputs": [
        {
          "output_type": "execute_result",
          "data": {
            "text/plain": [
              "RandomForestClassifier(n_estimators=50)"
            ]
          },
          "metadata": {},
          "execution_count": 34
        }
      ]
    },
    {
      "cell_type": "code",
      "source": [
        "y_pred = rf3.predict(tweet_tfidf_eval)\n",
        "accuracy = round(metrics.accuracy_score(test['label'],y_pred), 3)\n",
        "precision = round(metrics.precision_score(test['label'],y_pred,average=\"weighted\"), 3)\n",
        "recall = round(metrics.recall_score(test['label'],y_pred,average=\"weighted\"), 3)\n",
        "rf_f1_score = round(metrics.f1_score(test['label'], y_pred, average=\"weighted\"), 3)\n",
        "print('MAX DEPTH: {} / # OF EST: {} -- A: {} / P: {} / R: {}'.format(rf3.max_depth,\n",
        "                                                                         rf3.n_estimators,\n",
        "                                                                         accuracy,\n",
        "                                                                         precision,\n",
        "                                                                         recall))"
      ],
      "metadata": {
        "colab": {
          "base_uri": "https://localhost:8080/"
        },
        "id": "NAfHYFu--W7-",
        "outputId": "0d9dd8ad-83ce-40f7-dc48-22c772111edd"
      },
      "execution_count": null,
      "outputs": [
        {
          "output_type": "stream",
          "name": "stdout",
          "text": [
            "MAX DEPTH: None / # OF EST: 50 -- A: 0.445 / P: 0.456 / R: 0.445\n"
          ]
        }
      ]
    },
    {
      "cell_type": "code",
      "source": [
        "print(\"Accuracy: \", accuracy)\n",
        "print(\"Precision: \", precision)\n",
        "print(\"Recall: \", recall)\n",
        "print(\"F1_score: \", rf_f1_score)"
      ],
      "metadata": {
        "colab": {
          "base_uri": "https://localhost:8080/"
        },
        "id": "lg1dyJ0KEo0n",
        "outputId": "1eb00e53-2b4f-4bd2-d54a-4cdd160ca975"
      },
      "execution_count": null,
      "outputs": [
        {
          "output_type": "stream",
          "name": "stdout",
          "text": [
            "Accuracy:  0.445\n",
            "Precision:  0.456\n",
            "Recall:  0.445\n",
            "F1_score:  0.445\n"
          ]
        }
      ]
    },
    {
      "cell_type": "code",
      "source": [
        "import matplotlib.pyplot as plt\n",
        "from sklearn.metrics import plot_confusion_matrix\n",
        "plot_confusion_matrix(rf3, tweet_tfidf_eval, test['label']) \n",
        "plt.show()"
      ],
      "metadata": {
        "colab": {
          "base_uri": "https://localhost:8080/",
          "height": 335
        },
        "id": "BWzvb0zKgVa-",
        "outputId": "c32d11db-25af-47c3-d40a-df7f7e092be0"
      },
      "execution_count": null,
      "outputs": [
        {
          "output_type": "stream",
          "name": "stderr",
          "text": [
            "/usr/local/lib/python3.7/dist-packages/sklearn/utils/deprecation.py:87: FutureWarning: Function plot_confusion_matrix is deprecated; Function `plot_confusion_matrix` is deprecated in 1.0 and will be removed in 1.2. Use one of the class methods: ConfusionMatrixDisplay.from_predictions or ConfusionMatrixDisplay.from_estimator.\n",
            "  warnings.warn(msg, category=FutureWarning)\n"
          ]
        },
        {
          "output_type": "display_data",
          "data": {
            "text/plain": [
              "<Figure size 432x288 with 2 Axes>"
            ],
            "image/png": "[encoded data removed]"
          },
          "metadata": {
            "needs_background": "light"
          }
        }
      ]
    },
    {
      "cell_type": "code",
      "source": [],
      "metadata": {
        "id": "HZPEynv3AnYU"
      },
      "execution_count": null,
      "outputs": []
    }
  ]
}