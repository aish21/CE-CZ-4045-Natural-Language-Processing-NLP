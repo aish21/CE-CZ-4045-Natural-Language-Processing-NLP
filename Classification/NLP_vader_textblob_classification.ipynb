{
  "nbformat": 4,
  "nbformat_minor": 0,
  "metadata": {
    "colab": {
      "provenance": [],
      "collapsed_sections": []
    },
    "kernelspec": {
      "name": "python3",
      "display_name": "Python 3"
    },
    "language_info": {
      "name": "python"
    },
    "accelerator": "GPU"
  },
  "cells": [
    {
      "cell_type": "code",
      "execution_count": 1,
      "metadata": {
        "id": "ax9VAhd7lumN"
      },
      "outputs": [],
      "source": [
        "import pandas as pd"
      ]
    },
    {
      "cell_type": "code",
      "source": [
        "import nltk\n",
        "from nltk.tokenize import word_tokenize \n",
        "from nltk.stem import WordNetLemmatizer \n",
        "from nltk.corpus import stopwords"
      ],
      "metadata": {
        "id": "4KglcyHXpZbV"
      },
      "execution_count": 26,
      "outputs": []
    },
    {
      "cell_type": "code",
      "source": [
        "pdf = pd.read_excel('/content/drive/MyDrive/Copy_of_nlp_preprocessed_data.xlsx')"
      ],
      "metadata": {
        "id": "iZ-1bvCal5xi"
      },
      "execution_count": 2,
      "outputs": []
    },
    {
      "cell_type": "code",
      "source": [
        "cdf = pd.read_excel('/content/drive/MyDrive/nlp_preprocessed_data.xlsx')"
      ],
      "metadata": {
        "id": "OfFFcNlVjfA7"
      },
      "execution_count": 8,
      "outputs": []
    },
    {
      "cell_type": "code",
      "source": [
        "pdf.primaryTeam.value_counts()"
      ],
      "metadata": {
        "colab": {
          "base_uri": "https://localhost:8080/"
        },
        "id": "lX5jF8Opj6GQ",
        "outputId": "46933372-e617-43f8-ad22-02db38a9181c"
      },
      "execution_count": 14,
      "outputs": [
        {
          "output_type": "execute_result",
          "data": {
            "text/plain": [
              "ManCity      25845\n",
              "Chelsea      15049\n",
              "Liverpool    15022\n",
              "Arsenal      13994\n",
              "Tottenham     8736\n",
              "Name: primaryTeam, dtype: int64"
            ]
          },
          "metadata": {},
          "execution_count": 14
        }
      ]
    },
    {
      "cell_type": "code",
      "source": [
        "pdf = pdf[pdf.primaryTeam != 'Manchester United']"
      ],
      "metadata": {
        "id": "C8M0nFhqj1MM"
      },
      "execution_count": 11,
      "outputs": []
    },
    {
      "cell_type": "code",
      "source": [
        "cdf[cdf.primaryTeam == 'Manchester United'].label.value_counts()"
      ],
      "metadata": {
        "colab": {
          "base_uri": "https://localhost:8080/"
        },
        "id": "netiXpuykp7a",
        "outputId": "666f85f5-e7c6-46f2-8a55-2f80bf39c6a9"
      },
      "execution_count": 9,
      "outputs": [
        {
          "output_type": "execute_result",
          "data": {
            "text/plain": [
              " 1.0    317\n",
              "-1.0    248\n",
              " 0.0    176\n",
              "Name: label, dtype: int64"
            ]
          },
          "metadata": {},
          "execution_count": 9
        }
      ]
    },
    {
      "cell_type": "code",
      "source": [
        "mdf = cdf[cdf.primaryTeam == 'Manchester United']"
      ],
      "metadata": {
        "id": "8oUm8ohJBGBa"
      },
      "execution_count": 16,
      "outputs": []
    },
    {
      "cell_type": "code",
      "source": [
        "pdf = pdf.append(mdf)"
      ],
      "metadata": {
        "id": "9FNyaJAekWvG"
      },
      "execution_count": 17,
      "outputs": []
    },
    {
      "cell_type": "code",
      "source": [
        "pdf[~pdf.label.isnull()].primaryTeam.value_counts()"
      ],
      "metadata": {
        "colab": {
          "base_uri": "https://localhost:8080/"
        },
        "id": "8hvzg-4wmAdV",
        "outputId": "b2580800-1f85-4804-bb9f-4dc1da9eac25"
      },
      "execution_count": 18,
      "outputs": [
        {
          "output_type": "execute_result",
          "data": {
            "text/plain": [
              "Chelsea              1022\n",
              "Tottenham            1014\n",
              "ManCity              1000\n",
              "Arsenal               900\n",
              "Manchester United     741\n",
              "Liverpool             531\n",
              "Name: primaryTeam, dtype: int64"
            ]
          },
          "metadata": {},
          "execution_count": 18
        }
      ]
    },
    {
      "cell_type": "code",
      "source": [
        "pdf[pdf.primaryTeam == 'Manchester United']['label'].value_counts()"
      ],
      "metadata": {
        "colab": {
          "base_uri": "https://localhost:8080/"
        },
        "id": "6GvEpM2lo5_6",
        "outputId": "0f8d2264-e6a3-4499-d506-909dcad1562f"
      },
      "execution_count": 19,
      "outputs": [
        {
          "output_type": "execute_result",
          "data": {
            "text/plain": [
              " 1.0    317\n",
              "-1.0    248\n",
              " 0.0    176\n",
              "Name: label, dtype: int64"
            ]
          },
          "metadata": {},
          "execution_count": 19
        }
      ]
    },
    {
      "cell_type": "code",
      "source": [
        "pdf = pdf[pdf[\"content\"].str.contains(\n",
        "    \"live stream|live hd|stream|queenelizabeth|queen elizabeth|birthday|\\\n",
        "    follow back|follow me|giveaway|iphone14|designs|on sale|new video\", \n",
        "    case=False)==False]"
      ],
      "metadata": {
        "id": "hhoeTfs6Bwjs"
      },
      "execution_count": 21,
      "outputs": []
    },
    {
      "cell_type": "code",
      "source": [
        "from nltk.sentiment.vader import SentimentIntensityAnalyzer\n",
        "def unlist(list):\n",
        "    words=''\n",
        "    for item in list:\n",
        "        words+=item+' '\n",
        "    return words"
      ],
      "metadata": {
        "id": "eaY1xVUdoIT6"
      },
      "execution_count": 22,
      "outputs": []
    },
    {
      "cell_type": "code",
      "source": [
        "!pip install twython"
      ],
      "metadata": {
        "colab": {
          "base_uri": "https://localhost:8080/"
        },
        "id": "khuTyJnNoV5D",
        "outputId": "89e116d1-91dd-42ff-c79a-722aba65d092"
      },
      "execution_count": 23,
      "outputs": [
        {
          "output_type": "stream",
          "name": "stdout",
          "text": [
            "Looking in indexes: https://pypi.org/simple, https://us-python.pkg.dev/colab-wheels/public/simple/\n",
            "Collecting twython\n",
            "  Downloading twython-3.9.1-py3-none-any.whl (33 kB)\n",
            "Requirement already satisfied: requests>=2.1.0 in /usr/local/lib/python3.7/dist-packages (from twython) (2.23.0)\n",
            "Requirement already satisfied: requests-oauthlib>=0.4.0 in /usr/local/lib/python3.7/dist-packages (from twython) (1.3.1)\n",
            "Requirement already satisfied: chardet<4,>=3.0.2 in /usr/local/lib/python3.7/dist-packages (from requests>=2.1.0->twython) (3.0.4)\n",
            "Requirement already satisfied: urllib3!=1.25.0,!=1.25.1,<1.26,>=1.21.1 in /usr/local/lib/python3.7/dist-packages (from requests>=2.1.0->twython) (1.24.3)\n",
            "Requirement already satisfied: certifi>=2017.4.17 in /usr/local/lib/python3.7/dist-packages (from requests>=2.1.0->twython) (2022.9.24)\n",
            "Requirement already satisfied: idna<3,>=2.5 in /usr/local/lib/python3.7/dist-packages (from requests>=2.1.0->twython) (2.10)\n",
            "Requirement already satisfied: oauthlib>=3.0.0 in /usr/local/lib/python3.7/dist-packages (from requests-oauthlib>=0.4.0->twython) (3.2.1)\n",
            "Installing collected packages: twython\n",
            "Successfully installed twython-3.9.1\n"
          ]
        }
      ]
    },
    {
      "cell_type": "code",
      "source": [
        "pdf.drop(columns = ['index'],inplace = True)"
      ],
      "metadata": {
        "id": "gPUbKHZK7d3N"
      },
      "execution_count": 24,
      "outputs": []
    },
    {
      "cell_type": "code",
      "source": [
        "nltk.download('vader_lexicon')"
      ],
      "metadata": {
        "colab": {
          "base_uri": "https://localhost:8080/"
        },
        "id": "3a28vllpoWFK",
        "outputId": "ad6a3d5f-de95-4d64-e522-ae0f7c9bc22a"
      },
      "execution_count": 27,
      "outputs": [
        {
          "output_type": "stream",
          "name": "stderr",
          "text": [
            "[nltk_data] Downloading package vader_lexicon to /root/nltk_data...\n"
          ]
        },
        {
          "output_type": "execute_result",
          "data": {
            "text/plain": [
              "True"
            ]
          },
          "metadata": {},
          "execution_count": 27
        }
      ]
    },
    {
      "cell_type": "code",
      "source": [
        "!!pip install contractions\n",
        "import contractions\n",
        "def expand_contractions(text):\n",
        "  return contractions.fix(text)"
      ],
      "metadata": {
        "id": "S8Utcv0Y-_6L"
      },
      "execution_count": 28,
      "outputs": []
    },
    {
      "cell_type": "code",
      "source": [
        "import re\n",
        "!pip install unidecode\n",
        "import unidecode\n",
        "def accented_characters_removal(text):\n",
        "    # this is a docstring\n",
        "    \"\"\"\n",
        "    The function will remove accented characters from the \n",
        "    text contained within the Dataset.\n",
        "       \n",
        "    arguments:\n",
        "        input_text: \"text\" of type \"String\". \n",
        "                    \n",
        "    return:\n",
        "        value: \"text\" with removed accented characters.\n",
        "        \n",
        "    Example:\n",
        "    Input : Málaga, àéêöhello\n",
        "    Output : Malaga, aeeohello    \n",
        "        \n",
        "    \"\"\"\n",
        "    # Remove accented characters from text using unidecode.\n",
        "    # Unidecode() - It takes unicode data & tries to represent it to ASCII characters. \n",
        "    text = unidecode.unidecode(text)\n",
        "    return text"
      ],
      "metadata": {
        "colab": {
          "base_uri": "https://localhost:8080/"
        },
        "id": "e08UwmF5_Mj9",
        "outputId": "8262e95e-ef2d-4cc7-a169-3999a243a0dd"
      },
      "execution_count": 29,
      "outputs": [
        {
          "output_type": "stream",
          "name": "stdout",
          "text": [
            "Looking in indexes: https://pypi.org/simple, https://us-python.pkg.dev/colab-wheels/public/simple/\n",
            "Collecting unidecode\n",
            "  Downloading Unidecode-1.3.6-py3-none-any.whl (235 kB)\n",
            "\u001b[K     |████████████████████████████████| 235 kB 31.5 MB/s \n",
            "\u001b[?25hInstalling collected packages: unidecode\n",
            "Successfully installed unidecode-1.3.6\n"
          ]
        }
      ]
    },
    {
      "cell_type": "code",
      "source": [
        "import re\n",
        "def preprocess_tweets(tweet):\n",
        "  text = tweet.lower()\n",
        "  text = re.sub(\"\\B\\#[A-z0-9_]+\\\\b\", \"\", text)\n",
        "  text=re.sub(r\"(https?:\\/\\/)?([\\da-z\\.-]+)\\.([a-z\\.]{2,6})([\\/\\w\\.-]*)\", \"\",text)\n",
        "  # text=re.sub(r\"\\ [A-Za-z]*\\.com\", \" \",text)\n",
        "  text = re.sub(\"[-a-zA-Z0-9@:%._\\+~#=]{1,256}\\.[a-zA-Z0-9()]{1,6}\\b([-a-zA-Z0-9()@:%_\\+.~#?&//=]*)\", \" \", text) #corrected regex\n",
        "  text = re.sub(\"\\B\\@[A-z0-9_]+\\\\b\", \"\", text)\n",
        "  text=accented_characters_removal(text)\n",
        "  text=expand_contractions(text)\n",
        "  return text"
      ],
      "metadata": {
        "id": "p28yZ-YvqKa5"
      },
      "execution_count": 30,
      "outputs": []
    },
    {
      "cell_type": "code",
      "source": [
        "cleantext=[]\n",
        "i=0\n",
        "for item in pdf['content']:\n",
        "    if type(item)==float:\n",
        "      item = str(item)\n",
        "    words=preprocess_tweets(item)\n",
        "    cleantext+=[words]\n",
        "    i+=1\n",
        "    if i%500==0:\n",
        "      print(i)\n",
        "pdf['vader_preprocessing_text'] = cleantext\n",
        "pdf"
      ],
      "metadata": {
        "colab": {
          "base_uri": "https://localhost:8080/",
          "height": 1000
        },
        "id": "QKwTffBM9BmD",
        "outputId": "42a82524-b1e9-4749-f2f6-7e3fadf8d4a2"
      },
      "execution_count": 31,
      "outputs": [
        {
          "output_type": "stream",
          "name": "stdout",
          "text": [
            "500\n",
            "1000\n",
            "1500\n",
            "2000\n",
            "2500\n",
            "3000\n",
            "3500\n",
            "4000\n",
            "4500\n",
            "5000\n",
            "5500\n",
            "6000\n",
            "6500\n",
            "7000\n",
            "7500\n",
            "8000\n",
            "8500\n",
            "9000\n",
            "9500\n",
            "10000\n",
            "10500\n",
            "11000\n",
            "11500\n",
            "12000\n",
            "12500\n",
            "13000\n",
            "13500\n",
            "14000\n",
            "14500\n",
            "15000\n",
            "15500\n",
            "16000\n",
            "16500\n",
            "17000\n",
            "17500\n",
            "18000\n",
            "18500\n",
            "19000\n",
            "19500\n",
            "20000\n",
            "20500\n",
            "21000\n",
            "21500\n",
            "22000\n",
            "22500\n",
            "23000\n",
            "23500\n",
            "24000\n",
            "24500\n",
            "25000\n",
            "25500\n",
            "26000\n",
            "26500\n",
            "27000\n",
            "27500\n",
            "28000\n",
            "28500\n",
            "29000\n",
            "29500\n",
            "30000\n",
            "30500\n",
            "31000\n",
            "31500\n",
            "32000\n",
            "32500\n",
            "33000\n",
            "33500\n",
            "34000\n",
            "34500\n",
            "35000\n",
            "35500\n",
            "36000\n",
            "36500\n",
            "37000\n",
            "37500\n",
            "38000\n",
            "38500\n",
            "39000\n",
            "39500\n",
            "40000\n",
            "40500\n",
            "41000\n",
            "41500\n",
            "42000\n",
            "42500\n",
            "43000\n",
            "43500\n",
            "44000\n",
            "44500\n",
            "45000\n",
            "45500\n",
            "46000\n",
            "46500\n",
            "47000\n",
            "47500\n",
            "48000\n",
            "48500\n",
            "49000\n",
            "49500\n",
            "50000\n",
            "50500\n",
            "51000\n",
            "51500\n",
            "52000\n",
            "52500\n",
            "53000\n",
            "53500\n",
            "54000\n",
            "54500\n",
            "55000\n",
            "55500\n",
            "56000\n",
            "56500\n",
            "57000\n",
            "57500\n",
            "58000\n",
            "58500\n",
            "59000\n",
            "59500\n",
            "60000\n",
            "60500\n",
            "61000\n",
            "61500\n",
            "62000\n",
            "62500\n",
            "63000\n",
            "63500\n",
            "64000\n",
            "64500\n",
            "65000\n",
            "65500\n",
            "66000\n",
            "66500\n",
            "67000\n",
            "67500\n",
            "68000\n",
            "68500\n",
            "69000\n",
            "69500\n",
            "70000\n",
            "70500\n",
            "71000\n",
            "71500\n",
            "72000\n",
            "72500\n",
            "73000\n",
            "73500\n",
            "74000\n",
            "74500\n",
            "75000\n",
            "75500\n",
            "76000\n",
            "76500\n",
            "77000\n",
            "77500\n",
            "78000\n",
            "78500\n",
            "79000\n",
            "79500\n",
            "80000\n",
            "80500\n",
            "81000\n",
            "81500\n",
            "82000\n",
            "82500\n",
            "83000\n",
            "83500\n",
            "84000\n",
            "84500\n",
            "85000\n",
            "85500\n",
            "86000\n",
            "86500\n",
            "87000\n",
            "87500\n",
            "88000\n",
            "88500\n",
            "89000\n",
            "89500\n",
            "90000\n",
            "90500\n",
            "91000\n",
            "91500\n",
            "92000\n",
            "92500\n",
            "93000\n",
            "93500\n",
            "94000\n",
            "94500\n",
            "95000\n",
            "95500\n",
            "96000\n"
          ]
        },
        {
          "output_type": "execute_result",
          "data": {
            "text/plain": [
              "              username  verified  followersCount  \\\n",
              "17970       sverrehoem     False            2406   \n",
              "17971  MichaelJacktooo     False              91   \n",
              "17972          pdl2203     False             483   \n",
              "17973       DaveDraws_     False            5029   \n",
              "17974          unc8689     False             493   \n",
              "...                ...       ...             ...   \n",
              "17797     13_blackmore     False             296   \n",
              "17798   Thompson_Tips1     False            1400   \n",
              "17799  liamhjournalism     False              86   \n",
              "17800   GeneiRyodan001     False              63   \n",
              "17801           mrjefe     False             245   \n",
              "\n",
              "                                                 content  label  \\\n",
              "17970  haaland - the new poster boy for an anti-democ...   -1.0   \n",
              "17971  manchester city about to unleash the new dynam...    1.0   \n",
              "17972  #mcfc #mancity #motd knowing teams can use 5 s...   -1.0   \n",
              "17973  big day for all #manchestercity fans yesterday...    1.0   \n",
              "17974  3 goals in 5 and a half minutes is a helluva w...    1.0   \n",
              "...                                                  ...    ...   \n",
              "17797  absolutely f#ck off! just seeing it talk shoul...    NaN   \n",
              "17798  congratulations to all winners yesterday. toda...    NaN   \n",
              "17799  half an hour to go until leicester city🦊 vs ma...    NaN   \n",
              "17800  always a legend but ultimately fall short as a...    NaN   \n",
              "17801  @mikeyipdotcom @kennywong @galvintan @katieemu...    NaN   \n",
              "\n",
              "                      date        country  replyCount  retweetCount  \\\n",
              "17970  2022-09-03 17:32:20      Argentina           0             0   \n",
              "17971  2022-07-21 00:06:20  United States           0             1   \n",
              "17972  2022-09-03 23:25:23      Argentina           0             2   \n",
              "17973  2022-05-23 07:38:46      Argentina           1             0   \n",
              "17974  2022-05-22 16:55:18  United States           0             0   \n",
              "...                    ...            ...         ...           ...   \n",
              "17797  2022-09-03 18:42:00      Argentina           0             0   \n",
              "17798  2022-09-03 12:40:57      Argentina           0             1   \n",
              "17799  2022-09-01 18:30:00   South Africa           1             0   \n",
              "17800  2021-11-22 01:42:33          India           0             0   \n",
              "17801  2022-09-02 03:10:25          India           0             0   \n",
              "\n",
              "       likeCount                                                url  \\\n",
              "17970          0  https://twitter.com/sverrehoem/status/15661169...   \n",
              "17971          5  https://twitter.com/MichaelJacktooo/status/154...   \n",
              "17972          1  https://twitter.com/pdl2203/status/15662057457...   \n",
              "17973          4  https://twitter.com/DaveDraws_/status/15286415...   \n",
              "17974          0  https://twitter.com/unc8689/status/15284192399...   \n",
              "...          ...                                                ...   \n",
              "17797          1  https://twitter.com/13_blackmore/status/156613...   \n",
              "17798          3  https://twitter.com/Thompson_Tips1/status/1566...   \n",
              "17799          2  https://twitter.com/liamhjournalism/status/156...   \n",
              "17800          0  https://twitter.com/GeneiRyodan001/status/1462...   \n",
              "17801          1  https://twitter.com/mrjefe/status/156553760334...   \n",
              "\n",
              "                                                hashtags        primaryTeam  \\\n",
              "17970           ['AbuDhabi', 'mancity', 'sportswashing']            ManCity   \n",
              "17971               ['ManCity', 'mci', 'ManchesterCity']            ManCity   \n",
              "17972  ['MCFC', 'ManCity', 'MOTD', 'Foden', 'Grealish...            ManCity   \n",
              "17973                         ['manchestercity', 'mcfc']            ManCity   \n",
              "17974                           ['ManCity', 'Champions']            ManCity   \n",
              "...                                                  ...                ...   \n",
              "17797  ['ck', 'GlazersOut', 'GlazersSellManUtd', 'Gla...  Manchester United   \n",
              "17798  ['Buga', 'Arsenal', 'Auba', 'Zakaria', 'TheRin...  Manchester United   \n",
              "17799  ['LEIMUN', 'LCFC', 'MUFC', 'PL', 'Foxes', 'Uni...  Manchester United   \n",
              "17800          ['OLE20LEGEND', 'ManUtd', 'AnotherReset']  Manchester United   \n",
              "17801                                     ['GlazersOut']  Manchester United   \n",
              "\n",
              "                                      cleantext_no_spell  \\\n",
              "17970  ['zealand', 'the', 'new', 'poster', 'boy', 'fo...   \n",
              "17971  ['manchester', 'city', 'about', 'to', 'unleash...   \n",
              "17972  ['know', 'team', 'can', 'use', '5', 'sub', 'fi...   \n",
              "17973  ['big', 'day', 'for', 'all', 'fan', 'yesterday...   \n",
              "17974  ['3', 'goals', 'in', '5', 'and', 'a', 'half', ...   \n",
              "...                                                  ...   \n",
              "17797  ['absolutely', 'f', 'ck', 'off', 'just', 'see'...   \n",
              "17798  ['congratulations', 'to', 'all', 'winners', 'y...   \n",
              "17799  ['half', 'an', 'hour', 'to', 'go', 'until', 'l...   \n",
              "17800  ['always', 'a', 'legend', 'but', 'ultimately',...   \n",
              "17801                     ['and', 'do', 'not', 'forget']   \n",
              "\n",
              "                                vader_preprocessing_text  \n",
              "17970  haaland - the new poster boy for an anti-democ...  \n",
              "17971  manchester city about to unleash the new dynam...  \n",
              "17972     knowing teams can use 5 subs, found it stra...  \n",
              "17973  big day for all  fans yesterday! if you fancy ...  \n",
              "17974  3 goals in 5 and a half minutes is a helluva w...  \n",
              "...                                                  ...  \n",
              "17797  absolutely f#ck off! just seeing it talk shoul...  \n",
              "17798  congratulations to all winners yesterday. toda...  \n",
              "17799  half an hour to go until leicester city vs man...  \n",
              "17800  always a legend but ultimately fall short as a...  \n",
              "17801                                       and do not    \n",
              "\n",
              "[96365 rows x 15 columns]"
            ],
            "text/html": [
              "\n",
              "  <div id=\"df-c5b4a097-1a1f-4c2a-888a-3a3d67c1c3b4\">\n",
              "    <div class=\"colab-df-container\">\n",
              "      <div>\n",
              "<style scoped>\n",
              "    .dataframe tbody tr th:only-of-type {\n",
              "        vertical-align: middle;\n",
              "    }\n",
              "\n",
              "    .dataframe tbody tr th {\n",
              "        vertical-align: top;\n",
              "    }\n",
              "\n",
              "    .dataframe thead th {\n",
              "        text-align: right;\n",
              "    }\n",
              "</style>\n",
              "<table border=\"1\" class=\"dataframe\">\n",
              "  <thead>\n",
              "    <tr style=\"text-align: right;\">\n",
              "      <th></th>\n",
              "      <th>username</th>\n",
              "      <th>verified</th>\n",
              "      <th>followersCount</th>\n",
              "      <th>content</th>\n",
              "      <th>label</th>\n",
              "      <th>date</th>\n",
              "      <th>country</th>\n",
              "      <th>replyCount</th>\n",
              "      <th>retweetCount</th>\n",
              "      <th>likeCount</th>\n",
              "      <th>url</th>\n",
              "      <th>hashtags</th>\n",
              "      <th>primaryTeam</th>\n",
              "      <th>cleantext_no_spell</th>\n",
              "      <th>vader_preprocessing_text</th>\n",
              "    </tr>\n",
              "  </thead>\n",
              "  <tbody>\n",
              "    <tr>\n",
              "      <th>17970</th>\n",
              "      <td>sverrehoem</td>\n",
              "      <td>False</td>\n",
              "      <td>2406</td>\n",
              "      <td>haaland - the new poster boy for an anti-democ...</td>\n",
              "      <td>-1.0</td>\n",
              "      <td>2022-09-03 17:32:20</td>\n",
              "      <td>Argentina</td>\n",
              "      <td>0</td>\n",
              "      <td>0</td>\n",
              "      <td>0</td>\n",
              "      <td>https://twitter.com/sverrehoem/status/15661169...</td>\n",
              "      <td>['AbuDhabi', 'mancity', 'sportswashing']</td>\n",
              "      <td>ManCity</td>\n",
              "      <td>['zealand', 'the', 'new', 'poster', 'boy', 'fo...</td>\n",
              "      <td>haaland - the new poster boy for an anti-democ...</td>\n",
              "    </tr>\n",
              "    <tr>\n",
              "      <th>17971</th>\n",
              "      <td>MichaelJacktooo</td>\n",
              "      <td>False</td>\n",
              "      <td>91</td>\n",
              "      <td>manchester city about to unleash the new dynam...</td>\n",
              "      <td>1.0</td>\n",
              "      <td>2022-07-21 00:06:20</td>\n",
              "      <td>United States</td>\n",
              "      <td>0</td>\n",
              "      <td>1</td>\n",
              "      <td>5</td>\n",
              "      <td>https://twitter.com/MichaelJacktooo/status/154...</td>\n",
              "      <td>['ManCity', 'mci', 'ManchesterCity']</td>\n",
              "      <td>ManCity</td>\n",
              "      <td>['manchester', 'city', 'about', 'to', 'unleash...</td>\n",
              "      <td>manchester city about to unleash the new dynam...</td>\n",
              "    </tr>\n",
              "    <tr>\n",
              "      <th>17972</th>\n",
              "      <td>pdl2203</td>\n",
              "      <td>False</td>\n",
              "      <td>483</td>\n",
              "      <td>#mcfc #mancity #motd knowing teams can use 5 s...</td>\n",
              "      <td>-1.0</td>\n",
              "      <td>2022-09-03 23:25:23</td>\n",
              "      <td>Argentina</td>\n",
              "      <td>0</td>\n",
              "      <td>2</td>\n",
              "      <td>1</td>\n",
              "      <td>https://twitter.com/pdl2203/status/15662057457...</td>\n",
              "      <td>['MCFC', 'ManCity', 'MOTD', 'Foden', 'Grealish...</td>\n",
              "      <td>ManCity</td>\n",
              "      <td>['know', 'team', 'can', 'use', '5', 'sub', 'fi...</td>\n",
              "      <td>knowing teams can use 5 subs, found it stra...</td>\n",
              "    </tr>\n",
              "    <tr>\n",
              "      <th>17973</th>\n",
              "      <td>DaveDraws_</td>\n",
              "      <td>False</td>\n",
              "      <td>5029</td>\n",
              "      <td>big day for all #manchestercity fans yesterday...</td>\n",
              "      <td>1.0</td>\n",
              "      <td>2022-05-23 07:38:46</td>\n",
              "      <td>Argentina</td>\n",
              "      <td>1</td>\n",
              "      <td>0</td>\n",
              "      <td>4</td>\n",
              "      <td>https://twitter.com/DaveDraws_/status/15286415...</td>\n",
              "      <td>['manchestercity', 'mcfc']</td>\n",
              "      <td>ManCity</td>\n",
              "      <td>['big', 'day', 'for', 'all', 'fan', 'yesterday...</td>\n",
              "      <td>big day for all  fans yesterday! if you fancy ...</td>\n",
              "    </tr>\n",
              "    <tr>\n",
              "      <th>17974</th>\n",
              "      <td>unc8689</td>\n",
              "      <td>False</td>\n",
              "      <td>493</td>\n",
              "      <td>3 goals in 5 and a half minutes is a helluva w...</td>\n",
              "      <td>1.0</td>\n",
              "      <td>2022-05-22 16:55:18</td>\n",
              "      <td>United States</td>\n",
              "      <td>0</td>\n",
              "      <td>0</td>\n",
              "      <td>0</td>\n",
              "      <td>https://twitter.com/unc8689/status/15284192399...</td>\n",
              "      <td>['ManCity', 'Champions']</td>\n",
              "      <td>ManCity</td>\n",
              "      <td>['3', 'goals', 'in', '5', 'and', 'a', 'half', ...</td>\n",
              "      <td>3 goals in 5 and a half minutes is a helluva w...</td>\n",
              "    </tr>\n",
              "    <tr>\n",
              "      <th>...</th>\n",
              "      <td>...</td>\n",
              "      <td>...</td>\n",
              "      <td>...</td>\n",
              "      <td>...</td>\n",
              "      <td>...</td>\n",
              "      <td>...</td>\n",
              "      <td>...</td>\n",
              "      <td>...</td>\n",
              "      <td>...</td>\n",
              "      <td>...</td>\n",
              "      <td>...</td>\n",
              "      <td>...</td>\n",
              "      <td>...</td>\n",
              "      <td>...</td>\n",
              "      <td>...</td>\n",
              "    </tr>\n",
              "    <tr>\n",
              "      <th>17797</th>\n",
              "      <td>13_blackmore</td>\n",
              "      <td>False</td>\n",
              "      <td>296</td>\n",
              "      <td>absolutely f#ck off! just seeing it talk shoul...</td>\n",
              "      <td>NaN</td>\n",
              "      <td>2022-09-03 18:42:00</td>\n",
              "      <td>Argentina</td>\n",
              "      <td>0</td>\n",
              "      <td>0</td>\n",
              "      <td>1</td>\n",
              "      <td>https://twitter.com/13_blackmore/status/156613...</td>\n",
              "      <td>['ck', 'GlazersOut', 'GlazersSellManUtd', 'Gla...</td>\n",
              "      <td>Manchester United</td>\n",
              "      <td>['absolutely', 'f', 'ck', 'off', 'just', 'see'...</td>\n",
              "      <td>absolutely f#ck off! just seeing it talk shoul...</td>\n",
              "    </tr>\n",
              "    <tr>\n",
              "      <th>17798</th>\n",
              "      <td>Thompson_Tips1</td>\n",
              "      <td>False</td>\n",
              "      <td>1400</td>\n",
              "      <td>congratulations to all winners yesterday. toda...</td>\n",
              "      <td>NaN</td>\n",
              "      <td>2022-09-03 12:40:57</td>\n",
              "      <td>Argentina</td>\n",
              "      <td>0</td>\n",
              "      <td>1</td>\n",
              "      <td>3</td>\n",
              "      <td>https://twitter.com/Thompson_Tips1/status/1566...</td>\n",
              "      <td>['Buga', 'Arsenal', 'Auba', 'Zakaria', 'TheRin...</td>\n",
              "      <td>Manchester United</td>\n",
              "      <td>['congratulations', 'to', 'all', 'winners', 'y...</td>\n",
              "      <td>congratulations to all winners yesterday. toda...</td>\n",
              "    </tr>\n",
              "    <tr>\n",
              "      <th>17799</th>\n",
              "      <td>liamhjournalism</td>\n",
              "      <td>False</td>\n",
              "      <td>86</td>\n",
              "      <td>half an hour to go until leicester city🦊 vs ma...</td>\n",
              "      <td>NaN</td>\n",
              "      <td>2022-09-01 18:30:00</td>\n",
              "      <td>South Africa</td>\n",
              "      <td>1</td>\n",
              "      <td>0</td>\n",
              "      <td>2</td>\n",
              "      <td>https://twitter.com/liamhjournalism/status/156...</td>\n",
              "      <td>['LEIMUN', 'LCFC', 'MUFC', 'PL', 'Foxes', 'Uni...</td>\n",
              "      <td>Manchester United</td>\n",
              "      <td>['half', 'an', 'hour', 'to', 'go', 'until', 'l...</td>\n",
              "      <td>half an hour to go until leicester city vs man...</td>\n",
              "    </tr>\n",
              "    <tr>\n",
              "      <th>17800</th>\n",
              "      <td>GeneiRyodan001</td>\n",
              "      <td>False</td>\n",
              "      <td>63</td>\n",
              "      <td>always a legend but ultimately fall short as a...</td>\n",
              "      <td>NaN</td>\n",
              "      <td>2021-11-22 01:42:33</td>\n",
              "      <td>India</td>\n",
              "      <td>0</td>\n",
              "      <td>0</td>\n",
              "      <td>0</td>\n",
              "      <td>https://twitter.com/GeneiRyodan001/status/1462...</td>\n",
              "      <td>['OLE20LEGEND', 'ManUtd', 'AnotherReset']</td>\n",
              "      <td>Manchester United</td>\n",
              "      <td>['always', 'a', 'legend', 'but', 'ultimately',...</td>\n",
              "      <td>always a legend but ultimately fall short as a...</td>\n",
              "    </tr>\n",
              "    <tr>\n",
              "      <th>17801</th>\n",
              "      <td>mrjefe</td>\n",
              "      <td>False</td>\n",
              "      <td>245</td>\n",
              "      <td>@mikeyipdotcom @kennywong @galvintan @katieemu...</td>\n",
              "      <td>NaN</td>\n",
              "      <td>2022-09-02 03:10:25</td>\n",
              "      <td>India</td>\n",
              "      <td>0</td>\n",
              "      <td>0</td>\n",
              "      <td>1</td>\n",
              "      <td>https://twitter.com/mrjefe/status/156553760334...</td>\n",
              "      <td>['GlazersOut']</td>\n",
              "      <td>Manchester United</td>\n",
              "      <td>['and', 'do', 'not', 'forget']</td>\n",
              "      <td>and do not</td>\n",
              "    </tr>\n",
              "  </tbody>\n",
              "</table>\n",
              "<p>96365 rows × 15 columns</p>\n",
              "</div>\n",
              "      <button class=\"colab-df-convert\" onclick=\"convertToInteractive('df-c5b4a097-1a1f-4c2a-888a-3a3d67c1c3b4')\"\n",
              "              title=\"Convert this dataframe to an interactive table.\"\n",
              "              style=\"display:none;\">\n",
              "        \n",
              "  <svg xmlns=\"http://www.w3.org/2000/svg\" height=\"24px\"viewBox=\"0 0 24 24\"\n",
              "       width=\"24px\">\n",
              "    <path d=\"M0 0h24v24H0V0z\" fill=\"none\"/>\n",
              "    <path d=\"M18.56 5.44l.94 2.06.94-2.06 2.06-.94-2.06-.94-.94-2.06-.94 2.06-2.06.94zm-11 1L8.5 8.5l.94-2.06 2.06-.94-2.06-.94L8.5 2.5l-.94 2.06-2.06.94zm10 10l.94 2.06.94-2.06 2.06-.94-2.06-.94-.94-2.06-.94 2.06-2.06.94z\"/><path d=\"M17.41 7.96l-1.37-1.37c-.4-.4-.92-.59-1.43-.59-.52 0-1.04.2-1.43.59L10.3 9.45l-7.72 7.72c-.78.78-.78 2.05 0 2.83L4 21.41c.39.39.9.59 1.41.59.51 0 1.02-.2 1.41-.59l7.78-7.78 2.81-2.81c.8-.78.8-2.07 0-2.86zM5.41 20L4 18.59l7.72-7.72 1.47 1.35L5.41 20z\"/>\n",
              "  </svg>\n",
              "      </button>\n",
              "      \n",
              "  <style>\n",
              "    .colab-df-container {\n",
              "      display:flex;\n",
              "      flex-wrap:wrap;\n",
              "      gap: 12px;\n",
              "    }\n",
              "\n",
              "    .colab-df-convert {\n",
              "      background-color: #E8F0FE;\n",
              "      border: none;\n",
              "      border-radius: 50%;\n",
              "      cursor: pointer;\n",
              "      display: none;\n",
              "      fill: #1967D2;\n",
              "      height: 32px;\n",
              "      padding: 0 0 0 0;\n",
              "      width: 32px;\n",
              "    }\n",
              "\n",
              "    .colab-df-convert:hover {\n",
              "      background-color: #E2EBFA;\n",
              "      box-shadow: 0px 1px 2px rgba(60, 64, 67, 0.3), 0px 1px 3px 1px rgba(60, 64, 67, 0.15);\n",
              "      fill: #174EA6;\n",
              "    }\n",
              "\n",
              "    [theme=dark] .colab-df-convert {\n",
              "      background-color: #3B4455;\n",
              "      fill: #D2E3FC;\n",
              "    }\n",
              "\n",
              "    [theme=dark] .colab-df-convert:hover {\n",
              "      background-color: #434B5C;\n",
              "      box-shadow: 0px 1px 3px 1px rgba(0, 0, 0, 0.15);\n",
              "      filter: drop-shadow(0px 1px 2px rgba(0, 0, 0, 0.3));\n",
              "      fill: #FFFFFF;\n",
              "    }\n",
              "  </style>\n",
              "\n",
              "      <script>\n",
              "        const buttonEl =\n",
              "          document.querySelector('#df-c5b4a097-1a1f-4c2a-888a-3a3d67c1c3b4 button.colab-df-convert');\n",
              "        buttonEl.style.display =\n",
              "          google.colab.kernel.accessAllowed ? 'block' : 'none';\n",
              "\n",
              "        async function convertToInteractive(key) {\n",
              "          const element = document.querySelector('#df-c5b4a097-1a1f-4c2a-888a-3a3d67c1c3b4');\n",
              "          const dataTable =\n",
              "            await google.colab.kernel.invokeFunction('convertToInteractive',\n",
              "                                                     [key], {});\n",
              "          if (!dataTable) return;\n",
              "\n",
              "          const docLinkHtml = 'Like what you see? Visit the ' +\n",
              "            '<a target=\"_blank\" href=https://colab.research.google.com/notebooks/data_table.ipynb>data table notebook</a>'\n",
              "            + ' to learn more about interactive tables.';\n",
              "          element.innerHTML = '';\n",
              "          dataTable['output_type'] = 'display_data';\n",
              "          await google.colab.output.renderOutput(dataTable, element);\n",
              "          const docLink = document.createElement('div');\n",
              "          docLink.innerHTML = docLinkHtml;\n",
              "          element.appendChild(docLink);\n",
              "        }\n",
              "      </script>\n",
              "    </div>\n",
              "  </div>\n",
              "  "
            ]
          },
          "metadata": {},
          "execution_count": 31
        }
      ]
    },
    {
      "cell_type": "markdown",
      "source": [
        "# VADER Sentiment Analysis"
      ],
      "metadata": {
        "id": "THoLrfgCR11t"
      }
    },
    {
      "cell_type": "code",
      "source": [
        "!pip install vaderSentiment"
      ],
      "metadata": {
        "colab": {
          "base_uri": "https://localhost:8080/"
        },
        "id": "8SUj2F6OCjfX",
        "outputId": "ece18b7c-c96c-41e5-8c6e-de3fbb5712c1"
      },
      "execution_count": 33,
      "outputs": [
        {
          "output_type": "stream",
          "name": "stdout",
          "text": [
            "Looking in indexes: https://pypi.org/simple, https://us-python.pkg.dev/colab-wheels/public/simple/\n",
            "Collecting vaderSentiment\n",
            "  Downloading vaderSentiment-3.3.2-py2.py3-none-any.whl (125 kB)\n",
            "\u001b[K     |████████████████████████████████| 125 kB 35.4 MB/s \n",
            "\u001b[?25hRequirement already satisfied: requests in /usr/local/lib/python3.7/dist-packages (from vaderSentiment) (2.23.0)\n",
            "Requirement already satisfied: idna<3,>=2.5 in /usr/local/lib/python3.7/dist-packages (from requests->vaderSentiment) (2.10)\n",
            "Requirement already satisfied: chardet<4,>=3.0.2 in /usr/local/lib/python3.7/dist-packages (from requests->vaderSentiment) (3.0.4)\n",
            "Requirement already satisfied: certifi>=2017.4.17 in /usr/local/lib/python3.7/dist-packages (from requests->vaderSentiment) (2022.9.24)\n",
            "Requirement already satisfied: urllib3!=1.25.0,!=1.25.1,<1.26,>=1.21.1 in /usr/local/lib/python3.7/dist-packages (from requests->vaderSentiment) (1.24.3)\n",
            "Installing collected packages: vaderSentiment\n",
            "Successfully installed vaderSentiment-3.3.2\n"
          ]
        }
      ]
    },
    {
      "cell_type": "code",
      "source": [
        "from vaderSentiment.vaderSentiment import SentimentIntensityAnalyzer\n",
        "def compute_vader_scores_v2(df, label):\n",
        "    sid = SentimentIntensityAnalyzer()\n",
        "    df[\"vader_neg\"] = df[label].apply(lambda x: sid.polarity_scores(x)[\"neg\"])\n",
        "    df[\"vader_neu\"] = df[label].apply(lambda x: sid.polarity_scores(x)[\"neu\"])\n",
        "    df[\"vader_pos\"] = df[label].apply(lambda x: sid.polarity_scores(x)[\"pos\"])\n",
        "    df[\"vader_comp\"] = df[label].apply(lambda x: sid.polarity_scores(x)[\"compound\"])\n",
        "    # df['cleantext2'] = df[label].apply(lambda x: unlist(x))\n",
        "    return df"
      ],
      "metadata": {
        "id": "KCM8GmVfPRbQ"
      },
      "execution_count": 34,
      "outputs": []
    },
    {
      "cell_type": "code",
      "source": [
        "df3 = compute_vader_scores_v2(pdf,'vader_preprocessing_text')"
      ],
      "metadata": {
        "id": "PcPolNTXU6rj"
      },
      "execution_count": 35,
      "outputs": []
    },
    {
      "cell_type": "code",
      "source": [
        "df3.reset_index(drop = True,inplace = True)"
      ],
      "metadata": {
        "id": "g2aB-RRBaXQY"
      },
      "execution_count": 36,
      "outputs": []
    },
    {
      "cell_type": "code",
      "source": [
        "class0=[]\n",
        "for i in range(len(df3)):\n",
        "    if df3.loc[i,'vader_neg']>0:\n",
        "        class0+=[-1]\n",
        "    elif df3.loc[i,'vader_pos']>0:\n",
        "        class0+=[1]        \n",
        "    else:\n",
        "        class0+=[0]   "
      ],
      "metadata": {
        "id": "ynMA6I_0aAn6"
      },
      "execution_count": 37,
      "outputs": []
    },
    {
      "cell_type": "code",
      "source": [
        "df3['class']=class0\n",
        "df3['class'].value_counts()"
      ],
      "metadata": {
        "colab": {
          "base_uri": "https://localhost:8080/"
        },
        "id": "lLh0Y5pFbc8O",
        "outputId": "323c0212-c6c0-4560-d085-ebd47b2095e7"
      },
      "execution_count": 38,
      "outputs": [
        {
          "output_type": "execute_result",
          "data": {
            "text/plain": [
              " 1    34036\n",
              " 0    31374\n",
              "-1    30955\n",
              "Name: class, dtype: int64"
            ]
          },
          "metadata": {},
          "execution_count": 38
        }
      ]
    },
    {
      "cell_type": "code",
      "source": [
        "test = df3[df3.label.notnull()]"
      ],
      "metadata": {
        "id": "p1OfLWkwE4dv"
      },
      "execution_count": 42,
      "outputs": []
    },
    {
      "cell_type": "code",
      "source": [
        "from sklearn import metrics\n",
        "predicted= test['class']\n",
        "accuracy_score=metrics.accuracy_score(predicted,test['label'].astype('int'))"
      ],
      "metadata": {
        "id": "CeZp_lOvEnyD"
      },
      "execution_count": 53,
      "outputs": []
    },
    {
      "cell_type": "code",
      "source": [
        "precision = round(metrics.precision_score(test['label'].astype('int'),predicted, average=\"weighted\"), 3)\n",
        "recall = round(metrics.recall_score(test['label'].astype('int'),predicted, average=\"weighted\"), 3)\n",
        "nb_f1_score = round(metrics.f1_score(test['label'].astype('int'), predicted, average=\"weighted\"), 3)"
      ],
      "metadata": {
        "id": "kECEaUZvEvHl"
      },
      "execution_count": 54,
      "outputs": []
    },
    {
      "cell_type": "code",
      "source": [
        "print(\"Accuracy: \", accuracy_score)\n",
        "print(\"Precision: \", precision)\n",
        "print(\"Recall: \", recall)\n",
        "print(\"F1_score: \", nb_f1_score)"
      ],
      "metadata": {
        "colab": {
          "base_uri": "https://localhost:8080/"
        },
        "id": "CbSVsBjpEyEG",
        "outputId": "2049c8cd-2e38-4629-fb84-9bb9291b9e60"
      },
      "execution_count": 55,
      "outputs": [
        {
          "output_type": "stream",
          "name": "stdout",
          "text": [
            "Accuracy:  0.46111004417130785\n",
            "Precision:  0.469\n",
            "Recall:  0.461\n",
            "F1_score:  0.46\n"
          ]
        }
      ]
    },
    {
      "cell_type": "code",
      "source": [
        "import matplotlib.pyplot as plt\n",
        "from sklearn.metrics import confusion_matrix, ConfusionMatrixDisplay\n",
        "\n",
        "cm = confusion_matrix(test['label'].astype('int'), predicted)\n",
        "cmd = ConfusionMatrixDisplay(cm, display_labels=['Negative','Neutral','Positive'])\n",
        "cmd.plot()"
      ],
      "metadata": {
        "colab": {
          "base_uri": "https://localhost:8080/",
          "height": 297
        },
        "id": "C3_GhuPVDGPi",
        "outputId": "5587fa5b-c77f-4845-e045-82f7611c4d4b"
      },
      "execution_count": 57,
      "outputs": [
        {
          "output_type": "execute_result",
          "data": {
            "text/plain": [
              "<sklearn.metrics._plot.confusion_matrix.ConfusionMatrixDisplay at 0x7f2a958cd110>"
            ]
          },
          "metadata": {},
          "execution_count": 57
        },
        {
          "output_type": "display_data",
          "data": {
            "text/plain": [
              "<Figure size 432x288 with 2 Axes>"
            ],
            "image/png": "[encoded data removed]"
          },
          "metadata": {
            "needs_background": "light"
          }
        }
      ]
    },
    {
      "cell_type": "code",
      "source": [
        "import seaborn as sns\n",
        "import matplotlib.pyplot as plt     \n",
        "\n",
        "ax= plt.subplot()\n",
        "sns.heatmap(cm, annot=True, fmt='g', ax=ax);  #annot=True to annotate cells, ftm='g' to disable scientific notation\n",
        "\n",
        "# labels, title and ticks\n",
        "ax.set_xlabel('Predicted labels');ax.set_ylabel('True labels'); \n",
        "ax.set_title('Confusion Matrix');\n",
        "ax.xaxis.set_ticklabels(['Negative', 'Neutral','Positive']); ax.yaxis.set_ticklabels(['Negative', 'Neutral','Positive']);"
      ],
      "metadata": {
        "colab": {
          "base_uri": "https://localhost:8080/",
          "height": 295
        },
        "id": "VwbvmbvEHDBj",
        "outputId": "7a5d5121-9840-40da-8c59-9b1880e15c2b"
      },
      "execution_count": 59,
      "outputs": [
        {
          "output_type": "display_data",
          "data": {
            "text/plain": [
              "<Figure size 432x288 with 2 Axes>"
            ],
            "image/png": "[encoded data removed]"
          },
          "metadata": {
            "needs_background": "light"
          }
        }
      ]
    },
    {
      "cell_type": "markdown",
      "source": [
        "# TextBlob Sentiment Analysis"
      ],
      "metadata": {
        "id": "xnSBF3WZRv30"
      }
    },
    {
      "cell_type": "code",
      "source": [
        "from textblob import TextBlob"
      ],
      "metadata": {
        "id": "eAa2lZvYbmZd"
      },
      "execution_count": 60,
      "outputs": []
    },
    {
      "cell_type": "code",
      "source": [
        "from pandas.core.algorithms import diff\n",
        "from pandas._libs.algos import diff_2d\n",
        "def sentiment_analysis(df):\n",
        " def getSubjectivity(text):\n",
        "   return TextBlob(text).sentiment.subjectivity\n",
        "  \n",
        " #Create a function to get the polarity\n",
        " def getPolarity(text):\n",
        "   return TextBlob(text).sentiment.polarity\n",
        "  \n",
        " #Create two new columns ‘Subjectivity’ & ‘Polarity’\n",
        " df[\"TextBlob_Subjectivity\"] =   df[\"vader_preprocessing_text\"].apply(getSubjectivity)\n",
        " df[\"TextBlob_Polarity\"] = df[\"vader_preprocessing_text\"].apply(getPolarity)\n",
        " def getAnalysis(score):\n",
        "  if score < 0:\n",
        "    return -1\n",
        "  elif score == 0:\n",
        "    return 0\n",
        "  else:\n",
        "    return 1\n",
        " df[\"TextBlob_Analysis\"] = df[\"TextBlob_Polarity\"].apply(getAnalysis )\n",
        " return df"
      ],
      "metadata": {
        "id": "lUsRZom2bpVJ"
      },
      "execution_count": 61,
      "outputs": []
    },
    {
      "cell_type": "code",
      "source": [
        "newdf = sentiment_analysis(df3)"
      ],
      "metadata": {
        "id": "kxg2N-HHcXpi"
      },
      "execution_count": 62,
      "outputs": []
    },
    {
      "cell_type": "code",
      "source": [
        "final_class=[]\n",
        "for ind,i in newdf.iterrows():\n",
        "  if not(pd.isnull(i['label'])):\n",
        "    final_class.append(i['label'])\n",
        "  else:\n",
        "    final_class.append(i['class'])\n",
        "\n",
        "newdf['final_class']=final_class"
      ],
      "metadata": {
        "id": "Svf0zDj1cphX"
      },
      "execution_count": 63,
      "outputs": []
    },
    {
      "cell_type": "code",
      "source": [
        "testdf = newdf[newdf['label'].notnull()]"
      ],
      "metadata": {
        "id": "mGQjUQvnJY_v"
      },
      "execution_count": 65,
      "outputs": []
    },
    {
      "cell_type": "code",
      "source": [
        "from sklearn import metrics\n",
        "predicted= testdf['TextBlob_Analysis']\n",
        "accuracy_score=metrics.accuracy_score(predicted,testdf['label'].astype('int'))"
      ],
      "metadata": {
        "id": "30Tg-OPhJxQ4"
      },
      "execution_count": 72,
      "outputs": []
    },
    {
      "cell_type": "code",
      "source": [
        "precision = round(metrics.precision_score(testdf['label'].astype('int'),predicted, average=\"weighted\"), 3)\n",
        "recall = round(metrics.recall_score(testdf['label'].astype('int'),predicted, average=\"weighted\"), 3)\n",
        "nb_f1_score = round(metrics.f1_score(testdf['label'].astype('int'), predicted, average=\"weighted\"), 3)"
      ],
      "metadata": {
        "id": "WUT7uSk_JxQ8"
      },
      "execution_count": 73,
      "outputs": []
    },
    {
      "cell_type": "code",
      "source": [
        "print(\"Accuracy: \", accuracy_score)\n",
        "print(\"Precision: \", precision)\n",
        "print(\"Recall: \", recall)\n",
        "print(\"F1_score: \", nb_f1_score)"
      ],
      "metadata": {
        "colab": {
          "base_uri": "https://localhost:8080/"
        },
        "outputId": "2692298b-4590-4bc2-bc66-5a8362620434",
        "id": "q5R77O4zJxQ8"
      },
      "execution_count": 74,
      "outputs": [
        {
          "output_type": "stream",
          "name": "stdout",
          "text": [
            "Accuracy:  0.4422892260418667\n",
            "Precision:  0.462\n",
            "Recall:  0.442\n",
            "F1_score:  0.446\n"
          ]
        }
      ]
    },
    {
      "cell_type": "code",
      "source": [
        "import matplotlib.pyplot as plt\n",
        "from sklearn.metrics import confusion_matrix, ConfusionMatrixDisplay\n",
        "\n",
        "cm = confusion_matrix(testdf['label'].astype('int'), predicted)\n",
        "cmd = ConfusionMatrixDisplay(cm, display_labels=['Negative','Neutral','Positive'])\n",
        "cmd.plot()"
      ],
      "metadata": {
        "colab": {
          "base_uri": "https://localhost:8080/",
          "height": 297
        },
        "outputId": "b47f9d38-fbd4-4e56-d5c1-7aa69234eb75",
        "id": "eZtU2mAGJxQ9"
      },
      "execution_count": 75,
      "outputs": [
        {
          "output_type": "execute_result",
          "data": {
            "text/plain": [
              "<sklearn.metrics._plot.confusion_matrix.ConfusionMatrixDisplay at 0x7f2a95b42550>"
            ]
          },
          "metadata": {},
          "execution_count": 75
        },
        {
          "output_type": "display_data",
          "data": {
            "text/plain": [
              "<Figure size 432x288 with 2 Axes>"
            ],
            "image/png": "[encoded data removed]"
          },
          "metadata": {
            "needs_background": "light"
          }
        }
      ]
    },
    {
      "cell_type": "code",
      "source": [
        "import seaborn as sns\n",
        "import matplotlib.pyplot as plt     \n",
        "\n",
        "ax= plt.subplot()\n",
        "sns.heatmap(cm, annot=True, fmt='g', ax=ax);  #annot=True to annotate cells, ftm='g' to disable scientific notation\n",
        "\n",
        "# labels, title and ticks\n",
        "ax.set_xlabel('Predicted labels');ax.set_ylabel('True labels'); \n",
        "ax.set_title('Confusion Matrix');\n",
        "ax.xaxis.set_ticklabels(['Negative', 'Neutral','Positive']); ax.yaxis.set_ticklabels(['Negative', 'Neutral','Positive']);"
      ],
      "metadata": {
        "colab": {
          "base_uri": "https://localhost:8080/",
          "height": 295
        },
        "outputId": "1b5c5f5c-553f-4f7d-e185-b080d19be8fa",
        "id": "E_yCzOhaJxQ9"
      },
      "execution_count": 76,
      "outputs": [
        {
          "output_type": "display_data",
          "data": {
            "text/plain": [
              "<Figure size 432x288 with 2 Axes>"
            ],
            "image/png": "[encoded data removed]"
          },
          "metadata": {
            "needs_background": "light"
          }
        }
      ]
    },
    {
      "cell_type": "code",
      "source": [
        "newdf.to_excel('nlp_vader_textblob_classified_data_updated.xlsx',index = False)"
      ],
      "metadata": {
        "id": "vuTaPvTkeEr4"
      },
      "execution_count": 77,
      "outputs": []
    }
  ]
}